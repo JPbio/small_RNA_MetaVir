{
  "cells": [
    {
      "attachments": {},
      "cell_type": "markdown",
      "metadata": {},
      "source": [
        "# Virus × EVE's classification\n",
        "\n",
        "___Inference___"
      ]
    },
    {
      "attachments": {},
      "cell_type": "markdown",
      "metadata": {},
      "source": [
        "### Initialization"
      ]
    },
    {
      "attachments": {},
      "cell_type": "markdown",
      "metadata": {
        "id": "EP525DrREX0N"
      },
      "source": [
        "Imports"
      ]
    },
    {
      "cell_type": "code",
      "execution_count": 1,
      "metadata": {
        "id": "-8hKq-6V67UA"
      },
      "outputs": [],
      "source": [
        "import pandas as pd \n",
        "# import numpy as np\n",
        "# import matplotlib.pyplot as plt\n",
        "# import seaborn as sns"
      ]
    },
    {
      "attachments": {},
      "cell_type": "markdown",
      "metadata": {},
      "source": [
        "Parameters"
      ]
    },
    {
      "cell_type": "code",
      "execution_count": 2,
      "metadata": {},
      "outputs": [],
      "source": [
        "path_root = '/home/small_rna_metavir/src'"
      ]
    },
    {
      "attachments": {},
      "cell_type": "markdown",
      "metadata": {},
      "source": [
        "## Build Model _(Random Forest Classifier)_"
      ]
    },
    {
      "attachments": {},
      "cell_type": "markdown",
      "metadata": {},
      "source": [
        "Import data"
      ]
    },
    {
      "cell_type": "code",
      "execution_count": 3,
      "metadata": {},
      "outputs": [],
      "source": [
        "path_ds_eves = f'{path_root}/ds/virus-eves/ds_virus-eves.tab'"
      ]
    },
    {
      "cell_type": "code",
      "execution_count": 4,
      "metadata": {},
      "outputs": [],
      "source": [
        "df_eves = pd.read_table(path_ds_eves, index_col='V1')"
      ]
    },
    {
      "attachments": {},
      "cell_type": "markdown",
      "metadata": {
        "id": "B8Vtl4sTz6yX"
      },
      "source": [
        "### Separate: X _(features)_ × Y _(classes)_"
      ]
    },
    {
      "cell_type": "code",
      "execution_count": 127,
      "metadata": {},
      "outputs": [],
      "source": [
        "col_class_eve = 'class'\n",
        "x_range_eve = list(range(4, 52))"
      ]
    },
    {
      "cell_type": "code",
      "execution_count": 128,
      "metadata": {
        "colab": {
          "base_uri": "https://localhost:8080/"
        },
        "id": "SJ5lrCsg9nvb",
        "outputId": "06256828-37ad-4b68-c9c4-08069c4c41d6"
      },
      "outputs": [
        {
          "name": "stdout",
          "output_type": "stream",
          "text": [
            "n_samples: 2315 × n_features: 48\n",
            "y.shape (class): (2315,)\n",
            "X.shape: (2315, 48)\n"
          ]
        }
      ],
      "source": [
        "X_eves = df_eves.iloc[:, x_range_eve]\n",
        "y_eves = df_eves[col_class_eve]\n",
        "n_samples, n_features = X_eves.shape\n",
        "\n",
        "print(f\"n_samples: {n_samples} × n_features: {n_features}\")\n",
        "print(f'y.shape ({col_class_eve}): {y_eves.shape}')\n",
        "print(f'X.shape: {X_eves.shape}')\n"
      ]
    },
    {
      "cell_type": "code",
      "execution_count": 60,
      "metadata": {},
      "outputs": [
        {
          "data": {
            "text/plain": [
              "Index(['X15', 'X16', 'X17', 'X18', 'X19', 'X20', 'X21', 'X22', 'X23', 'X24',\n",
              "       'X25', 'X26', 'X27', 'X28', 'X29', 'X30', 'X31', 'X32', 'X33', 'X34',\n",
              "       'X35', 'X.15', 'X.16', 'X.17', 'X.18', 'X.19', 'X.20', 'X.21', 'X.22',\n",
              "       'X.23', 'X.24', 'X.25', 'X.26', 'X.27', 'X.28', 'X.29', 'X.30', 'X.31',\n",
              "       'X.32', 'X.33', 'X.34', 'X.35', 'dens15to18', 'dens20to22',\n",
              "       'dens25to29', 'ratiosi_pi', 'ratio_si', 'dens18to35'],\n",
              "      dtype='object')"
            ]
          },
          "execution_count": 60,
          "metadata": {},
          "output_type": "execute_result"
        }
      ],
      "source": [
        "feat_eves = X_eves.columns\n",
        "feat_eves"
      ]
    },
    {
      "attachments": {},
      "cell_type": "markdown",
      "metadata": {},
      "source": [
        "**Class names**\n",
        "\n",
        "_Classes are clearly unbalanced. It will be necessary to handle this when splitting test × training data..._"
      ]
    },
    {
      "cell_type": "code",
      "execution_count": 61,
      "metadata": {
        "colab": {
          "base_uri": "https://localhost:8080/"
        },
        "id": "QzM4kYyyYK_h",
        "outputId": "beeb61b6-2eab-46e1-c052-b88e3f5483fb"
      },
      "outputs": [
        {
          "data": {
            "text/plain": [
              "viral    1321\n",
              "eve       994\n",
              "Name: class, dtype: int64"
            ]
          },
          "execution_count": 61,
          "metadata": {},
          "output_type": "execute_result"
        }
      ],
      "source": [
        "classes = list(y_eves.unique())\n",
        "class_counts = list(y_eves.value_counts())\n",
        "y_eves.value_counts()"
      ]
    },
    {
      "attachments": {},
      "cell_type": "markdown",
      "metadata": {},
      "source": [
        "### Train"
      ]
    },
    {
      "cell_type": "code",
      "execution_count": 10,
      "metadata": {},
      "outputs": [],
      "source": [
        "from sklearn.model_selection import train_test_split\n",
        "from sklearn.ensemble import RandomForestClassifier"
      ]
    },
    {
      "attachments": {},
      "cell_type": "markdown",
      "metadata": {
        "id": "V8LtjRuSVTI5"
      },
      "source": [
        "Split training × testing data"
      ]
    },
    {
      "cell_type": "code",
      "execution_count": 63,
      "metadata": {
        "colab": {
          "base_uri": "https://localhost:8080/"
        },
        "id": "j5PLQrmlVhl6",
        "outputId": "c2ac8836-f2dc-4ebd-dad6-5754dd576cdd"
      },
      "outputs": [
        {
          "name": "stdout",
          "output_type": "stream",
          "text": [
            "X_train.shape: (1620, 48), y_train.shape: (1620,)\n",
            "X_test.shape: (695, 48), y_test.shape: (695,)\n"
          ]
        }
      ],
      "source": [
        "X_train, X_test, y_train, y_test = train_test_split(X_eves, y_eves, test_size=0.3, random_state=13, stratify=y_eves)\n",
        "\n",
        "print(f'X_train.shape: {X_train.shape}, y_train.shape: {y_train.shape}')\n",
        "print(f'X_test.shape: {X_test.shape}, y_test.shape: {y_test.shape}')"
      ]
    },
    {
      "attachments": {},
      "cell_type": "markdown",
      "metadata": {
        "id": "7UDuEXdEm8Qr"
      },
      "source": [
        "Train"
      ]
    },
    {
      "cell_type": "code",
      "execution_count": 12,
      "metadata": {
        "id": "SqIV8uF19rHE"
      },
      "outputs": [
        {
          "data": {
            "text/html": [
              "<style>#sk-container-id-1 {color: black;background-color: white;}#sk-container-id-1 pre{padding: 0;}#sk-container-id-1 div.sk-toggleable {background-color: white;}#sk-container-id-1 label.sk-toggleable__label {cursor: pointer;display: block;width: 100%;margin-bottom: 0;padding: 0.3em;box-sizing: border-box;text-align: center;}#sk-container-id-1 label.sk-toggleable__label-arrow:before {content: \"▸\";float: left;margin-right: 0.25em;color: #696969;}#sk-container-id-1 label.sk-toggleable__label-arrow:hover:before {color: black;}#sk-container-id-1 div.sk-estimator:hover label.sk-toggleable__label-arrow:before {color: black;}#sk-container-id-1 div.sk-toggleable__content {max-height: 0;max-width: 0;overflow: hidden;text-align: left;background-color: #f0f8ff;}#sk-container-id-1 div.sk-toggleable__content pre {margin: 0.2em;color: black;border-radius: 0.25em;background-color: #f0f8ff;}#sk-container-id-1 input.sk-toggleable__control:checked~div.sk-toggleable__content {max-height: 200px;max-width: 100%;overflow: auto;}#sk-container-id-1 input.sk-toggleable__control:checked~label.sk-toggleable__label-arrow:before {content: \"▾\";}#sk-container-id-1 div.sk-estimator input.sk-toggleable__control:checked~label.sk-toggleable__label {background-color: #d4ebff;}#sk-container-id-1 div.sk-label input.sk-toggleable__control:checked~label.sk-toggleable__label {background-color: #d4ebff;}#sk-container-id-1 input.sk-hidden--visually {border: 0;clip: rect(1px 1px 1px 1px);clip: rect(1px, 1px, 1px, 1px);height: 1px;margin: -1px;overflow: hidden;padding: 0;position: absolute;width: 1px;}#sk-container-id-1 div.sk-estimator {font-family: monospace;background-color: #f0f8ff;border: 1px dotted black;border-radius: 0.25em;box-sizing: border-box;margin-bottom: 0.5em;}#sk-container-id-1 div.sk-estimator:hover {background-color: #d4ebff;}#sk-container-id-1 div.sk-parallel-item::after {content: \"\";width: 100%;border-bottom: 1px solid gray;flex-grow: 1;}#sk-container-id-1 div.sk-label:hover label.sk-toggleable__label {background-color: #d4ebff;}#sk-container-id-1 div.sk-serial::before {content: \"\";position: absolute;border-left: 1px solid gray;box-sizing: border-box;top: 0;bottom: 0;left: 50%;z-index: 0;}#sk-container-id-1 div.sk-serial {display: flex;flex-direction: column;align-items: center;background-color: white;padding-right: 0.2em;padding-left: 0.2em;position: relative;}#sk-container-id-1 div.sk-item {position: relative;z-index: 1;}#sk-container-id-1 div.sk-parallel {display: flex;align-items: stretch;justify-content: center;background-color: white;position: relative;}#sk-container-id-1 div.sk-item::before, #sk-container-id-1 div.sk-parallel-item::before {content: \"\";position: absolute;border-left: 1px solid gray;box-sizing: border-box;top: 0;bottom: 0;left: 50%;z-index: -1;}#sk-container-id-1 div.sk-parallel-item {display: flex;flex-direction: column;z-index: 1;position: relative;background-color: white;}#sk-container-id-1 div.sk-parallel-item:first-child::after {align-self: flex-end;width: 50%;}#sk-container-id-1 div.sk-parallel-item:last-child::after {align-self: flex-start;width: 50%;}#sk-container-id-1 div.sk-parallel-item:only-child::after {width: 0;}#sk-container-id-1 div.sk-dashed-wrapped {border: 1px dashed gray;margin: 0 0.4em 0.5em 0.4em;box-sizing: border-box;padding-bottom: 0.4em;background-color: white;}#sk-container-id-1 div.sk-label label {font-family: monospace;font-weight: bold;display: inline-block;line-height: 1.2em;}#sk-container-id-1 div.sk-label-container {text-align: center;}#sk-container-id-1 div.sk-container {/* jupyter's `normalize.less` sets `[hidden] { display: none; }` but bootstrap.min.css set `[hidden] { display: none !important; }` so we also need the `!important` here to be able to override the default hidden behavior on the sphinx rendered scikit-learn.org. See: https://github.com/scikit-learn/scikit-learn/issues/21755 */display: inline-block !important;position: relative;}#sk-container-id-1 div.sk-text-repr-fallback {display: none;}</style><div id=\"sk-container-id-1\" class=\"sk-top-container\"><div class=\"sk-text-repr-fallback\"><pre>RandomForestClassifier(n_estimators=50)</pre><b>In a Jupyter environment, please rerun this cell to show the HTML representation or trust the notebook. <br />On GitHub, the HTML representation is unable to render, please try loading this page with nbviewer.org.</b></div><div class=\"sk-container\" hidden><div class=\"sk-item\"><div class=\"sk-estimator sk-toggleable\"><input class=\"sk-toggleable__control sk-hidden--visually\" id=\"sk-estimator-id-1\" type=\"checkbox\" checked><label for=\"sk-estimator-id-1\" class=\"sk-toggleable__label sk-toggleable__label-arrow\">RandomForestClassifier</label><div class=\"sk-toggleable__content\"><pre>RandomForestClassifier(n_estimators=50)</pre></div></div></div></div></div>"
            ],
            "text/plain": [
              "RandomForestClassifier(n_estimators=50)"
            ]
          },
          "execution_count": 12,
          "metadata": {},
          "output_type": "execute_result"
        }
      ],
      "source": [
        "classifier = RandomForestClassifier(n_estimators=50)\n",
        "classifier.fit(X_train, y_train)"
      ]
    },
    {
      "attachments": {},
      "cell_type": "markdown",
      "metadata": {
        "id": "g8lEMTbnuY99"
      },
      "source": [
        "Check test classification accuracy"
      ]
    },
    {
      "cell_type": "code",
      "execution_count": 13,
      "metadata": {
        "colab": {
          "base_uri": "https://localhost:8080/"
        },
        "id": "LWg4qPodDJwf",
        "outputId": "9e32fd2b-2147-4b39-bdbc-a1bf25a6f40e"
      },
      "outputs": [
        {
          "name": "stdout",
          "output_type": "stream",
          "text": [
            "accuracy: 92.5179856115108\n"
          ]
        }
      ],
      "source": [
        "y_hat = classifier.predict(X_test)\n",
        "accuracy = (y_hat == y_test).sum() / y_test.shape[0]\n",
        "print(f'accuracy: {100 * accuracy}')"
      ]
    },
    {
      "attachments": {},
      "cell_type": "markdown",
      "metadata": {},
      "source": [
        "## Parse Dark Matter Data"
      ]
    },
    {
      "attachments": {},
      "cell_type": "markdown",
      "metadata": {},
      "source": [
        "Import Data"
      ]
    },
    {
      "cell_type": "code",
      "execution_count": 163,
      "metadata": {},
      "outputs": [],
      "source": [
        "path_ds_libs = [\n",
        "    f'{path_root}/ds/virus-dark-matter/ds_virus-dark-matter-RKPM44.tab'\n",
        "]"
      ]
    },
    {
      "cell_type": "code",
      "execution_count": 164,
      "metadata": {},
      "outputs": [],
      "source": [
        "# ds_id, ds_data = path_ds_libs[0]\n",
        "df_dark_matter = pd.read_table(path_ds_libs[0])"
      ]
    },
    {
      "attachments": {},
      "cell_type": "markdown",
      "metadata": {},
      "source": [
        "### EDA"
      ]
    },
    {
      "cell_type": "code",
      "execution_count": 31,
      "metadata": {},
      "outputs": [
        {
          "data": {
            "text/html": [
              "<div>\n",
              "<style scoped>\n",
              "    .dataframe tbody tr th:only-of-type {\n",
              "        vertical-align: middle;\n",
              "    }\n",
              "\n",
              "    .dataframe tbody tr th {\n",
              "        vertical-align: top;\n",
              "    }\n",
              "\n",
              "    .dataframe thead th {\n",
              "        text-align: right;\n",
              "    }\n",
              "</style>\n",
              "<table border=\"1\" class=\"dataframe\">\n",
              "  <thead>\n",
              "    <tr style=\"text-align: right;\">\n",
              "      <th></th>\n",
              "      <th>Contigs_ID</th>\n",
              "      <th>Similarity_label</th>\n",
              "      <th>15</th>\n",
              "      <th>16</th>\n",
              "      <th>17</th>\n",
              "      <th>18</th>\n",
              "      <th>19</th>\n",
              "      <th>20</th>\n",
              "      <th>21</th>\n",
              "      <th>22</th>\n",
              "      <th>...</th>\n",
              "      <th>-33</th>\n",
              "      <th>-34</th>\n",
              "      <th>-35</th>\n",
              "      <th>dens15to18</th>\n",
              "      <th>dens20to22</th>\n",
              "      <th>dens25to29</th>\n",
              "      <th>ratiosi_pi</th>\n",
              "      <th>ratio_si</th>\n",
              "      <th>dens18to35</th>\n",
              "      <th>length</th>\n",
              "    </tr>\n",
              "  </thead>\n",
              "  <tbody>\n",
              "    <tr>\n",
              "      <th>0</th>\n",
              "      <td>bN_RKPM44_Contig180_179</td>\n",
              "      <td>viral</td>\n",
              "      <td>-0.285242</td>\n",
              "      <td>-0.285242</td>\n",
              "      <td>-0.285242</td>\n",
              "      <td>-0.285242</td>\n",
              "      <td>-0.260587</td>\n",
              "      <td>0.027052</td>\n",
              "      <td>5.467541</td>\n",
              "      <td>0.290036</td>\n",
              "      <td>...</td>\n",
              "      <td>-0.285242</td>\n",
              "      <td>-0.285242</td>\n",
              "      <td>-0.285242</td>\n",
              "      <td>-16.609640</td>\n",
              "      <td>2.159199</td>\n",
              "      <td>-1.889817</td>\n",
              "      <td>4.049016</td>\n",
              "      <td>0.431799</td>\n",
              "      <td>2.380272</td>\n",
              "      <td>315</td>\n",
              "    </tr>\n",
              "    <tr>\n",
              "      <th>1</th>\n",
              "      <td>bN_RKPM44_Contig18_17</td>\n",
              "      <td>viral</td>\n",
              "      <td>-0.338402</td>\n",
              "      <td>-0.338402</td>\n",
              "      <td>-0.338402</td>\n",
              "      <td>-0.338402</td>\n",
              "      <td>-0.305252</td>\n",
              "      <td>-0.156079</td>\n",
              "      <td>4.761109</td>\n",
              "      <td>0.258290</td>\n",
              "      <td>...</td>\n",
              "      <td>-0.321827</td>\n",
              "      <td>-0.327352</td>\n",
              "      <td>-0.327352</td>\n",
              "      <td>-16.609640</td>\n",
              "      <td>2.051209</td>\n",
              "      <td>-0.388975</td>\n",
              "      <td>2.440184</td>\n",
              "      <td>0.008159</td>\n",
              "      <td>2.500344</td>\n",
              "      <td>512</td>\n",
              "    </tr>\n",
              "    <tr>\n",
              "      <th>2</th>\n",
              "      <td>bN_RKPM44_Contig1_0</td>\n",
              "      <td>viral</td>\n",
              "      <td>-0.402533</td>\n",
              "      <td>-0.402533</td>\n",
              "      <td>-0.402533</td>\n",
              "      <td>-0.402533</td>\n",
              "      <td>-0.371450</td>\n",
              "      <td>-0.196612</td>\n",
              "      <td>5.386557</td>\n",
              "      <td>0.553250</td>\n",
              "      <td>...</td>\n",
              "      <td>-0.379221</td>\n",
              "      <td>-0.336483</td>\n",
              "      <td>-0.355909</td>\n",
              "      <td>-16.609640</td>\n",
              "      <td>2.379971</td>\n",
              "      <td>0.741514</td>\n",
              "      <td>1.638457</td>\n",
              "      <td>0.602814</td>\n",
              "      <td>3.072798</td>\n",
              "      <td>570</td>\n",
              "    </tr>\n",
              "    <tr>\n",
              "      <th>3</th>\n",
              "      <td>bN_RKPM44_Contig231_230</td>\n",
              "      <td>viral</td>\n",
              "      <td>-0.449882</td>\n",
              "      <td>-0.449882</td>\n",
              "      <td>-0.449882</td>\n",
              "      <td>-0.449882</td>\n",
              "      <td>-0.420562</td>\n",
              "      <td>-0.039399</td>\n",
              "      <td>5.032997</td>\n",
              "      <td>0.854867</td>\n",
              "      <td>...</td>\n",
              "      <td>-0.449882</td>\n",
              "      <td>-0.449882</td>\n",
              "      <td>-0.449882</td>\n",
              "      <td>-16.609640</td>\n",
              "      <td>1.839535</td>\n",
              "      <td>-0.406625</td>\n",
              "      <td>2.246161</td>\n",
              "      <td>0.595283</td>\n",
              "      <td>2.521359</td>\n",
              "      <td>228</td>\n",
              "    </tr>\n",
              "    <tr>\n",
              "      <th>4</th>\n",
              "      <td>bN_RKPM44_Contig2333_2332</td>\n",
              "      <td>viral</td>\n",
              "      <td>-0.353041</td>\n",
              "      <td>-0.353041</td>\n",
              "      <td>-0.353041</td>\n",
              "      <td>-0.352393</td>\n",
              "      <td>-0.345198</td>\n",
              "      <td>-0.314995</td>\n",
              "      <td>0.096574</td>\n",
              "      <td>-0.209996</td>\n",
              "      <td>...</td>\n",
              "      <td>-0.349994</td>\n",
              "      <td>-0.351031</td>\n",
              "      <td>-0.351226</td>\n",
              "      <td>-7.527122</td>\n",
              "      <td>2.823717</td>\n",
              "      <td>6.633881</td>\n",
              "      <td>-3.810164</td>\n",
              "      <td>1.070330</td>\n",
              "      <td>7.003396</td>\n",
              "      <td>2029</td>\n",
              "    </tr>\n",
              "  </tbody>\n",
              "</table>\n",
              "<p>5 rows × 51 columns</p>\n",
              "</div>"
            ],
            "text/plain": [
              "                  Contigs_ID Similarity_label        15        16        17  \\\n",
              "0    bN_RKPM44_Contig180_179            viral -0.285242 -0.285242 -0.285242   \n",
              "1      bN_RKPM44_Contig18_17            viral -0.338402 -0.338402 -0.338402   \n",
              "2        bN_RKPM44_Contig1_0            viral -0.402533 -0.402533 -0.402533   \n",
              "3    bN_RKPM44_Contig231_230            viral -0.449882 -0.449882 -0.449882   \n",
              "4  bN_RKPM44_Contig2333_2332            viral -0.353041 -0.353041 -0.353041   \n",
              "\n",
              "         18        19        20        21        22  ...       -33       -34  \\\n",
              "0 -0.285242 -0.260587  0.027052  5.467541  0.290036  ... -0.285242 -0.285242   \n",
              "1 -0.338402 -0.305252 -0.156079  4.761109  0.258290  ... -0.321827 -0.327352   \n",
              "2 -0.402533 -0.371450 -0.196612  5.386557  0.553250  ... -0.379221 -0.336483   \n",
              "3 -0.449882 -0.420562 -0.039399  5.032997  0.854867  ... -0.449882 -0.449882   \n",
              "4 -0.352393 -0.345198 -0.314995  0.096574 -0.209996  ... -0.349994 -0.351031   \n",
              "\n",
              "        -35  dens15to18  dens20to22  dens25to29  ratiosi_pi  ratio_si  \\\n",
              "0 -0.285242  -16.609640    2.159199   -1.889817    4.049016  0.431799   \n",
              "1 -0.327352  -16.609640    2.051209   -0.388975    2.440184  0.008159   \n",
              "2 -0.355909  -16.609640    2.379971    0.741514    1.638457  0.602814   \n",
              "3 -0.449882  -16.609640    1.839535   -0.406625    2.246161  0.595283   \n",
              "4 -0.351226   -7.527122    2.823717    6.633881   -3.810164  1.070330   \n",
              "\n",
              "   dens18to35  length  \n",
              "0    2.380272     315  \n",
              "1    2.500344     512  \n",
              "2    3.072798     570  \n",
              "3    2.521359     228  \n",
              "4    7.003396    2029  \n",
              "\n",
              "[5 rows x 51 columns]"
            ]
          },
          "execution_count": 31,
          "metadata": {},
          "output_type": "execute_result"
        }
      ],
      "source": [
        "df_dark_matter.head()"
      ]
    },
    {
      "cell_type": "code",
      "execution_count": 32,
      "metadata": {},
      "outputs": [
        {
          "data": {
            "text/plain": [
              "(71, 51)"
            ]
          },
          "execution_count": 32,
          "metadata": {},
          "output_type": "execute_result"
        }
      ],
      "source": [
        "df_dark_matter.shape"
      ]
    },
    {
      "cell_type": "code",
      "execution_count": 33,
      "metadata": {},
      "outputs": [
        {
          "name": "stdout",
          "output_type": "stream",
          "text": [
            "<class 'pandas.core.frame.DataFrame'>\n",
            "RangeIndex: 71 entries, 0 to 70\n",
            "Data columns (total 51 columns):\n",
            " #   Column            Non-Null Count  Dtype  \n",
            "---  ------            --------------  -----  \n",
            " 0   Contigs_ID        71 non-null     object \n",
            " 1   Similarity_label  71 non-null     object \n",
            " 2   15                71 non-null     float64\n",
            " 3   16                71 non-null     float64\n",
            " 4   17                71 non-null     float64\n",
            " 5   18                71 non-null     float64\n",
            " 6   19                71 non-null     float64\n",
            " 7   20                71 non-null     float64\n",
            " 8   21                71 non-null     float64\n",
            " 9   22                71 non-null     float64\n",
            " 10  23                71 non-null     float64\n",
            " 11  24                71 non-null     float64\n",
            " 12  25                71 non-null     float64\n",
            " 13  26                71 non-null     float64\n",
            " 14  27                71 non-null     float64\n",
            " 15  28                71 non-null     float64\n",
            " 16  29                71 non-null     float64\n",
            " 17  30                71 non-null     float64\n",
            " 18  31                71 non-null     float64\n",
            " 19  32                71 non-null     float64\n",
            " 20  33                71 non-null     float64\n",
            " 21  34                71 non-null     float64\n",
            " 22  35                71 non-null     float64\n",
            " 23  -15               71 non-null     float64\n",
            " 24  -16               71 non-null     float64\n",
            " 25  -17               71 non-null     float64\n",
            " 26  -18               71 non-null     float64\n",
            " 27  -19               71 non-null     float64\n",
            " 28  -20               71 non-null     float64\n",
            " 29  -21               71 non-null     float64\n",
            " 30  -22               71 non-null     float64\n",
            " 31  -23               71 non-null     float64\n",
            " 32  -24               71 non-null     float64\n",
            " 33  -25               71 non-null     float64\n",
            " 34  -26               71 non-null     float64\n",
            " 35  -27               71 non-null     float64\n",
            " 36  -28               71 non-null     float64\n",
            " 37  -29               71 non-null     float64\n",
            " 38  -30               71 non-null     float64\n",
            " 39  -31               71 non-null     float64\n",
            " 40  -32               71 non-null     float64\n",
            " 41  -33               71 non-null     float64\n",
            " 42  -34               71 non-null     float64\n",
            " 43  -35               71 non-null     float64\n",
            " 44  dens15to18        71 non-null     float64\n",
            " 45  dens20to22        71 non-null     float64\n",
            " 46  dens25to29        71 non-null     float64\n",
            " 47  ratiosi_pi        71 non-null     float64\n",
            " 48  ratio_si          71 non-null     float64\n",
            " 49  dens18to35        71 non-null     float64\n",
            " 50  length            71 non-null     int64  \n",
            "dtypes: float64(48), int64(1), object(2)\n",
            "memory usage: 28.4+ KB\n"
          ]
        }
      ],
      "source": [
        "df_dark_matter.info()"
      ]
    },
    {
      "cell_type": "code",
      "execution_count": 34,
      "metadata": {},
      "outputs": [
        {
          "data": {
            "text/html": [
              "<div>\n",
              "<style scoped>\n",
              "    .dataframe tbody tr th:only-of-type {\n",
              "        vertical-align: middle;\n",
              "    }\n",
              "\n",
              "    .dataframe tbody tr th {\n",
              "        vertical-align: top;\n",
              "    }\n",
              "\n",
              "    .dataframe thead th {\n",
              "        text-align: right;\n",
              "    }\n",
              "</style>\n",
              "<table border=\"1\" class=\"dataframe\">\n",
              "  <thead>\n",
              "    <tr style=\"text-align: right;\">\n",
              "      <th></th>\n",
              "      <th>15</th>\n",
              "      <th>16</th>\n",
              "      <th>17</th>\n",
              "      <th>18</th>\n",
              "      <th>19</th>\n",
              "      <th>20</th>\n",
              "      <th>21</th>\n",
              "      <th>22</th>\n",
              "      <th>23</th>\n",
              "      <th>24</th>\n",
              "      <th>...</th>\n",
              "      <th>-33</th>\n",
              "      <th>-34</th>\n",
              "      <th>-35</th>\n",
              "      <th>dens15to18</th>\n",
              "      <th>dens20to22</th>\n",
              "      <th>dens25to29</th>\n",
              "      <th>ratiosi_pi</th>\n",
              "      <th>ratio_si</th>\n",
              "      <th>dens18to35</th>\n",
              "      <th>length</th>\n",
              "    </tr>\n",
              "  </thead>\n",
              "  <tbody>\n",
              "    <tr>\n",
              "      <th>count</th>\n",
              "      <td>71.000000</td>\n",
              "      <td>71.000000</td>\n",
              "      <td>71.000000</td>\n",
              "      <td>71.000000</td>\n",
              "      <td>71.000000</td>\n",
              "      <td>71.000000</td>\n",
              "      <td>71.000000</td>\n",
              "      <td>71.000000</td>\n",
              "      <td>71.000000</td>\n",
              "      <td>71.000000</td>\n",
              "      <td>...</td>\n",
              "      <td>71.000000</td>\n",
              "      <td>71.000000</td>\n",
              "      <td>71.000000</td>\n",
              "      <td>71.000000</td>\n",
              "      <td>71.000000</td>\n",
              "      <td>71.000000</td>\n",
              "      <td>71.000000</td>\n",
              "      <td>71.000000</td>\n",
              "      <td>71.000000</td>\n",
              "      <td>71.000000</td>\n",
              "    </tr>\n",
              "    <tr>\n",
              "      <th>mean</th>\n",
              "      <td>-0.379685</td>\n",
              "      <td>-0.379685</td>\n",
              "      <td>-0.379685</td>\n",
              "      <td>-0.378783</td>\n",
              "      <td>-0.348706</td>\n",
              "      <td>-0.246149</td>\n",
              "      <td>1.484773</td>\n",
              "      <td>0.130181</td>\n",
              "      <td>-0.087895</td>\n",
              "      <td>0.175280</td>\n",
              "      <td>...</td>\n",
              "      <td>-0.340640</td>\n",
              "      <td>-0.359726</td>\n",
              "      <td>-0.357947</td>\n",
              "      <td>-14.958188</td>\n",
              "      <td>-4.155694</td>\n",
              "      <td>0.117687</td>\n",
              "      <td>-4.433725</td>\n",
              "      <td>-7.372549</td>\n",
              "      <td>1.568951</td>\n",
              "      <td>621.436620</td>\n",
              "    </tr>\n",
              "    <tr>\n",
              "      <th>std</th>\n",
              "      <td>0.127385</td>\n",
              "      <td>0.127385</td>\n",
              "      <td>0.127385</td>\n",
              "      <td>0.126785</td>\n",
              "      <td>0.167522</td>\n",
              "      <td>0.216397</td>\n",
              "      <td>2.426432</td>\n",
              "      <td>0.849369</td>\n",
              "      <td>0.470740</td>\n",
              "      <td>1.252228</td>\n",
              "      <td>...</td>\n",
              "      <td>0.159909</td>\n",
              "      <td>0.106565</td>\n",
              "      <td>0.133845</td>\n",
              "      <td>3.582246</td>\n",
              "      <td>6.581620</td>\n",
              "      <td>2.807269</td>\n",
              "      <td>6.438304</td>\n",
              "      <td>8.985951</td>\n",
              "      <td>2.662602</td>\n",
              "      <td>1036.038261</td>\n",
              "    </tr>\n",
              "    <tr>\n",
              "      <th>min</th>\n",
              "      <td>-0.883554</td>\n",
              "      <td>-0.883554</td>\n",
              "      <td>-0.883554</td>\n",
              "      <td>-0.882372</td>\n",
              "      <td>-0.816644</td>\n",
              "      <td>-0.591130</td>\n",
              "      <td>-0.591130</td>\n",
              "      <td>-0.591130</td>\n",
              "      <td>-0.591130</td>\n",
              "      <td>-0.477807</td>\n",
              "      <td>...</td>\n",
              "      <td>-0.665553</td>\n",
              "      <td>-0.666372</td>\n",
              "      <td>-0.743008</td>\n",
              "      <td>-16.609640</td>\n",
              "      <td>-16.609640</td>\n",
              "      <td>-8.005625</td>\n",
              "      <td>-16.609640</td>\n",
              "      <td>-16.609640</td>\n",
              "      <td>-4.420662</td>\n",
              "      <td>200.000000</td>\n",
              "    </tr>\n",
              "    <tr>\n",
              "      <th>25%</th>\n",
              "      <td>-0.426108</td>\n",
              "      <td>-0.426108</td>\n",
              "      <td>-0.426108</td>\n",
              "      <td>-0.423563</td>\n",
              "      <td>-0.404896</td>\n",
              "      <td>-0.375114</td>\n",
              "      <td>-0.325170</td>\n",
              "      <td>-0.293821</td>\n",
              "      <td>-0.294702</td>\n",
              "      <td>-0.243343</td>\n",
              "      <td>...</td>\n",
              "      <td>-0.412855</td>\n",
              "      <td>-0.414675</td>\n",
              "      <td>-0.416422</td>\n",
              "      <td>-16.609640</td>\n",
              "      <td>-6.945441</td>\n",
              "      <td>-1.172023</td>\n",
              "      <td>-7.151563</td>\n",
              "      <td>-16.609640</td>\n",
              "      <td>-0.060570</td>\n",
              "      <td>227.500000</td>\n",
              "    </tr>\n",
              "    <tr>\n",
              "      <th>50%</th>\n",
              "      <td>-0.355324</td>\n",
              "      <td>-0.355324</td>\n",
              "      <td>-0.355324</td>\n",
              "      <td>-0.355324</td>\n",
              "      <td>-0.342654</td>\n",
              "      <td>-0.287091</td>\n",
              "      <td>-0.229763</td>\n",
              "      <td>-0.202737</td>\n",
              "      <td>-0.207429</td>\n",
              "      <td>-0.164455</td>\n",
              "      <td>...</td>\n",
              "      <td>-0.343789</td>\n",
              "      <td>-0.345863</td>\n",
              "      <td>-0.349842</td>\n",
              "      <td>-16.609640</td>\n",
              "      <td>-5.121769</td>\n",
              "      <td>-0.215013</td>\n",
              "      <td>-4.807355</td>\n",
              "      <td>0.000000</td>\n",
              "      <td>1.019808</td>\n",
              "      <td>260.000000</td>\n",
              "    </tr>\n",
              "    <tr>\n",
              "      <th>75%</th>\n",
              "      <td>-0.286505</td>\n",
              "      <td>-0.286505</td>\n",
              "      <td>-0.286505</td>\n",
              "      <td>-0.286505</td>\n",
              "      <td>-0.280469</td>\n",
              "      <td>-0.180278</td>\n",
              "      <td>3.996927</td>\n",
              "      <td>0.244589</td>\n",
              "      <td>-0.030907</td>\n",
              "      <td>-0.035318</td>\n",
              "      <td>...</td>\n",
              "      <td>-0.280464</td>\n",
              "      <td>-0.285580</td>\n",
              "      <td>-0.285580</td>\n",
              "      <td>-16.609640</td>\n",
              "      <td>2.078502</td>\n",
              "      <td>0.813902</td>\n",
              "      <td>0.369576</td>\n",
              "      <td>0.590123</td>\n",
              "      <td>3.214124</td>\n",
              "      <td>440.000000</td>\n",
              "    </tr>\n",
              "    <tr>\n",
              "      <th>max</th>\n",
              "      <td>-0.179646</td>\n",
              "      <td>-0.179646</td>\n",
              "      <td>-0.179646</td>\n",
              "      <td>-0.179646</td>\n",
              "      <td>0.613707</td>\n",
              "      <td>0.597666</td>\n",
              "      <td>6.745262</td>\n",
              "      <td>4.122626</td>\n",
              "      <td>2.376995</td>\n",
              "      <td>6.535886</td>\n",
              "      <td>...</td>\n",
              "      <td>0.530289</td>\n",
              "      <td>-0.152393</td>\n",
              "      <td>0.264124</td>\n",
              "      <td>-2.958421</td>\n",
              "      <td>6.426056</td>\n",
              "      <td>8.269759</td>\n",
              "      <td>6.158616</td>\n",
              "      <td>6.594947</td>\n",
              "      <td>8.895236</td>\n",
              "      <td>6811.000000</td>\n",
              "    </tr>\n",
              "  </tbody>\n",
              "</table>\n",
              "<p>8 rows × 49 columns</p>\n",
              "</div>"
            ],
            "text/plain": [
              "              15         16         17         18         19         20  \\\n",
              "count  71.000000  71.000000  71.000000  71.000000  71.000000  71.000000   \n",
              "mean   -0.379685  -0.379685  -0.379685  -0.378783  -0.348706  -0.246149   \n",
              "std     0.127385   0.127385   0.127385   0.126785   0.167522   0.216397   \n",
              "min    -0.883554  -0.883554  -0.883554  -0.882372  -0.816644  -0.591130   \n",
              "25%    -0.426108  -0.426108  -0.426108  -0.423563  -0.404896  -0.375114   \n",
              "50%    -0.355324  -0.355324  -0.355324  -0.355324  -0.342654  -0.287091   \n",
              "75%    -0.286505  -0.286505  -0.286505  -0.286505  -0.280469  -0.180278   \n",
              "max    -0.179646  -0.179646  -0.179646  -0.179646   0.613707   0.597666   \n",
              "\n",
              "              21         22         23         24  ...        -33        -34  \\\n",
              "count  71.000000  71.000000  71.000000  71.000000  ...  71.000000  71.000000   \n",
              "mean    1.484773   0.130181  -0.087895   0.175280  ...  -0.340640  -0.359726   \n",
              "std     2.426432   0.849369   0.470740   1.252228  ...   0.159909   0.106565   \n",
              "min    -0.591130  -0.591130  -0.591130  -0.477807  ...  -0.665553  -0.666372   \n",
              "25%    -0.325170  -0.293821  -0.294702  -0.243343  ...  -0.412855  -0.414675   \n",
              "50%    -0.229763  -0.202737  -0.207429  -0.164455  ...  -0.343789  -0.345863   \n",
              "75%     3.996927   0.244589  -0.030907  -0.035318  ...  -0.280464  -0.285580   \n",
              "max     6.745262   4.122626   2.376995   6.535886  ...   0.530289  -0.152393   \n",
              "\n",
              "             -35  dens15to18  dens20to22  dens25to29  ratiosi_pi   ratio_si  \\\n",
              "count  71.000000   71.000000   71.000000   71.000000   71.000000  71.000000   \n",
              "mean   -0.357947  -14.958188   -4.155694    0.117687   -4.433725  -7.372549   \n",
              "std     0.133845    3.582246    6.581620    2.807269    6.438304   8.985951   \n",
              "min    -0.743008  -16.609640  -16.609640   -8.005625  -16.609640 -16.609640   \n",
              "25%    -0.416422  -16.609640   -6.945441   -1.172023   -7.151563 -16.609640   \n",
              "50%    -0.349842  -16.609640   -5.121769   -0.215013   -4.807355   0.000000   \n",
              "75%    -0.285580  -16.609640    2.078502    0.813902    0.369576   0.590123   \n",
              "max     0.264124   -2.958421    6.426056    8.269759    6.158616   6.594947   \n",
              "\n",
              "       dens18to35       length  \n",
              "count   71.000000    71.000000  \n",
              "mean     1.568951   621.436620  \n",
              "std      2.662602  1036.038261  \n",
              "min     -4.420662   200.000000  \n",
              "25%     -0.060570   227.500000  \n",
              "50%      1.019808   260.000000  \n",
              "75%      3.214124   440.000000  \n",
              "max      8.895236  6811.000000  \n",
              "\n",
              "[8 rows x 49 columns]"
            ]
          },
          "execution_count": 34,
          "metadata": {},
          "output_type": "execute_result"
        }
      ],
      "source": [
        "df_dark_matter.describe()"
      ]
    },
    {
      "attachments": {},
      "cell_type": "markdown",
      "metadata": {},
      "source": [
        "Check for missing values"
      ]
    },
    {
      "cell_type": "code",
      "execution_count": 35,
      "metadata": {},
      "outputs": [
        {
          "data": {
            "text/plain": [
              "0"
            ]
          },
          "execution_count": 35,
          "metadata": {},
          "output_type": "execute_result"
        }
      ],
      "source": [
        "df_dark_matter.isnull().sum().sum() # Whole data frame\n",
        "# df_virus_dark_matter.isna().sum().sort_values(ascending=False)[2:] # By columns"
      ]
    },
    {
      "attachments": {},
      "cell_type": "markdown",
      "metadata": {},
      "source": [
        "### Separate: X _(features)_ × Y _(classes)_ ×  ID's _(contig ID's)_"
      ]
    },
    {
      "cell_type": "code",
      "execution_count": 165,
      "metadata": {},
      "outputs": [],
      "source": [
        "col_class_dark = 'Similarity_label'\n",
        "col_id_dark = 'Contigs_ID'\n",
        "x_range_dark = list(range(2, 51))"
      ]
    },
    {
      "cell_type": "code",
      "execution_count": 166,
      "metadata": {},
      "outputs": [
        {
          "name": "stdout",
          "output_type": "stream",
          "text": [
            "n_samples: 72 × n_features: 49\n",
            "ID's -> ids.shape (72,) (72 are unique)\n",
            "y.shape (Similarity_label): (72,)\n",
            "X.shape: (72, 49)\n"
          ]
        }
      ],
      "source": [
        "ids = df_dark_matter[col_id_dark] # Contig ID's\n",
        "X_dark_matter = df_dark_matter.iloc[:, x_range_dark] # Feature Values\n",
        "y_dark_matter = df_dark_matter[col_class_dark] # Labels\n",
        "n_samples, n_features = X_dark_matter.shape\n",
        "\n",
        "print(f\"n_samples: {n_samples} × n_features: {n_features}\")\n",
        "print(f\"ID's -> ids.shape {ids.shape} ({ids.unique().shape[0]} are unique)\")\n",
        "print(f'y.shape ({col_class_dark}): {y_dark_matter.shape}')\n",
        "print(f'X.shape: {X_dark_matter.shape}')"
      ]
    },
    {
      "cell_type": "code",
      "execution_count": 167,
      "metadata": {},
      "outputs": [
        {
          "data": {
            "text/plain": [
              "Index(['15', '16', '17', '18', '19', '20', '21', '22', '23', '24', '25', '26',\n",
              "       '27', '28', '29', '30', '31', '32', '33', '34', '35', '-15', '-16',\n",
              "       '-17', '-18', '-19', '-20', '-21', '-22', '-23', '-24', '-25', '-26',\n",
              "       '-27', '-28', '-29', '-30', '-31', '-32', '-33', '-34', '-35',\n",
              "       'dens15to18', 'dens20to22', 'dens25to29', 'ratiosi_pi', 'ratio_si',\n",
              "       'dens18to35', 'length'],\n",
              "      dtype='object')"
            ]
          },
          "execution_count": 167,
          "metadata": {},
          "output_type": "execute_result"
        }
      ],
      "source": [
        "feat_dark_matter = X_dark_matter.columns\n",
        "feat_dark_matter"
      ]
    },
    {
      "attachments": {},
      "cell_type": "markdown",
      "metadata": {},
      "source": [
        "Check if all features data is numeric\n",
        "\n",
        "_Yes, they are..._"
      ]
    },
    {
      "cell_type": "code",
      "execution_count": 168,
      "metadata": {},
      "outputs": [
        {
          "data": {
            "text/plain": [
              "{dtype('int64'), dtype('float64')}"
            ]
          },
          "execution_count": 168,
          "metadata": {},
          "output_type": "execute_result"
        }
      ],
      "source": [
        "set(X_dark_matter.dtypes)"
      ]
    },
    {
      "attachments": {},
      "cell_type": "markdown",
      "metadata": {},
      "source": [
        "**Class names**\n",
        "\n",
        "_We can see that the 3 classes are relatively well balanced..._"
      ]
    },
    {
      "cell_type": "code",
      "execution_count": 169,
      "metadata": {},
      "outputs": [
        {
          "data": {
            "text/plain": [
              "nohit       26\n",
              "viral       25\n",
              "nonviral    21\n",
              "Name: Similarity_label, dtype: int64"
            ]
          },
          "execution_count": 169,
          "metadata": {},
          "output_type": "execute_result"
        }
      ],
      "source": [
        "classes = list(y_dark_matter.unique())\n",
        "class_counts = list(y_dark_matter.value_counts())\n",
        "y_dark_matter.value_counts()"
      ]
    },
    {
      "attachments": {},
      "cell_type": "markdown",
      "metadata": {},
      "source": [
        "### Transform data to classify"
      ]
    },
    {
      "cell_type": "code",
      "execution_count": 170,
      "metadata": {},
      "outputs": [
        {
          "data": {
            "text/plain": [
              "Index(['X15', 'X16', 'X17', 'X18', 'X19', 'X20', 'X21', 'X22', 'X23', 'X24',\n",
              "       'X25', 'X26', 'X27', 'X28', 'X29', 'X30', 'X31', 'X32', 'X33', 'X34',\n",
              "       'X35', 'X.15', 'X.16', 'X.17', 'X.18', 'X.19', 'X.20', 'X.21', 'X.22',\n",
              "       'X.23', 'X.24', 'X.25', 'X.26', 'X.27', 'X.28', 'X.29', 'X.30', 'X.31',\n",
              "       'X.32', 'X.33', 'X.34', 'X.35', 'dens15to18', 'dens20to22',\n",
              "       'dens25to29', 'ratiosi_pi', 'ratio_si', 'dens18to35'],\n",
              "      dtype='object')"
            ]
          },
          "execution_count": 170,
          "metadata": {},
          "output_type": "execute_result"
        }
      ],
      "source": [
        "feat_eves"
      ]
    },
    {
      "cell_type": "code",
      "execution_count": 171,
      "metadata": {},
      "outputs": [
        {
          "data": {
            "text/plain": [
              "Index(['15', '16', '17', '18', '19', '20', '21', '22', '23', '24', '25', '26',\n",
              "       '27', '28', '29', '30', '31', '32', '33', '34', '35', '-15', '-16',\n",
              "       '-17', '-18', '-19', '-20', '-21', '-22', '-23', '-24', '-25', '-26',\n",
              "       '-27', '-28', '-29', '-30', '-31', '-32', '-33', '-34', '-35',\n",
              "       'dens15to18', 'dens20to22', 'dens25to29', 'ratiosi_pi', 'ratio_si',\n",
              "       'dens18to35', 'length'],\n",
              "      dtype='object')"
            ]
          },
          "execution_count": 171,
          "metadata": {},
          "output_type": "execute_result"
        }
      ],
      "source": [
        "feat_dark_matter"
      ]
    },
    {
      "attachments": {},
      "cell_type": "markdown",
      "metadata": {},
      "source": [
        "Common features"
      ]
    },
    {
      "cell_type": "code",
      "execution_count": 172,
      "metadata": {},
      "outputs": [
        {
          "data": {
            "text/plain": [
              "['dens15to18',\n",
              " 'dens20to22',\n",
              " 'dens25to29',\n",
              " 'ratiosi_pi',\n",
              " 'ratio_si',\n",
              " 'dens18to35']"
            ]
          },
          "execution_count": 172,
          "metadata": {},
          "output_type": "execute_result"
        }
      ],
      "source": [
        "feat_common = [f for f in feat_eves if f in feat_dark_matter]\n",
        "feat_common"
      ]
    },
    {
      "attachments": {},
      "cell_type": "markdown",
      "metadata": {},
      "source": [
        "Build new data frame"
      ]
    },
    {
      "cell_type": "code",
      "execution_count": 173,
      "metadata": {},
      "outputs": [],
      "source": [
        "\n",
        "# Create new data frame\n",
        "df_dark2 = pd.DataFrame()\n",
        "\n",
        "df_dark2[col_id_dark] = df_dark_matter[col_id_dark]\n",
        "df_dark2[col_class_dark] = df_dark_matter[col_class_dark]\n",
        "\n",
        "# Add features with proper names\n",
        "feat_dark2 = []\n",
        "\n",
        "for i in range(15, 35 + 1):\n",
        "    feat_sense = f'X{i}'\n",
        "    feat_dark2.append(feat_sense)\n",
        "    df_dark2[feat_sense] = X_dark_matter[f'{i}']\n",
        "\n",
        "for i in range(15, 35 + 1):\n",
        "    feat_anti_sense = f'X.{i}'\n",
        "    feat_dark2.append(feat_anti_sense)\n",
        "    df_dark2[feat_anti_sense] = X_dark_matter[f'-{i}']\n",
        "\n",
        "df_dark2[feat_common] = X_dark_matter[feat_common].copy()\n",
        "feat_dark2 += feat_common.copy()\n"
      ]
    },
    {
      "attachments": {},
      "cell_type": "markdown",
      "metadata": {},
      "source": [
        "Check features"
      ]
    },
    {
      "cell_type": "code",
      "execution_count": 174,
      "metadata": {},
      "outputs": [
        {
          "name": "stdout",
          "output_type": "stream",
          "text": [
            "feat_eves: 48\n",
            "feat_dark2: 48\n",
            "n_match_feats: 48\n"
          ]
        }
      ],
      "source": [
        "n_match_feats = sum(feat_dark2 == feat_eves)\n",
        "\n",
        "print(f'feat_eves: {len(feat_eves)}') \n",
        "print(f'feat_dark2: {len(feat_dark2)}')\n",
        "print(f'n_match_feats: {n_match_feats}')"
      ]
    },
    {
      "cell_type": "code",
      "execution_count": 175,
      "metadata": {},
      "outputs": [
        {
          "data": {
            "text/html": [
              "<div>\n",
              "<style scoped>\n",
              "    .dataframe tbody tr th:only-of-type {\n",
              "        vertical-align: middle;\n",
              "    }\n",
              "\n",
              "    .dataframe tbody tr th {\n",
              "        vertical-align: top;\n",
              "    }\n",
              "\n",
              "    .dataframe thead th {\n",
              "        text-align: right;\n",
              "    }\n",
              "</style>\n",
              "<table border=\"1\" class=\"dataframe\">\n",
              "  <thead>\n",
              "    <tr style=\"text-align: right;\">\n",
              "      <th></th>\n",
              "      <th>Contigs_ID</th>\n",
              "      <th>Similarity_label</th>\n",
              "      <th>X15</th>\n",
              "      <th>X16</th>\n",
              "      <th>X17</th>\n",
              "      <th>X18</th>\n",
              "      <th>X19</th>\n",
              "      <th>X20</th>\n",
              "      <th>X21</th>\n",
              "      <th>X22</th>\n",
              "      <th>...</th>\n",
              "      <th>X.32</th>\n",
              "      <th>X.33</th>\n",
              "      <th>X.34</th>\n",
              "      <th>X.35</th>\n",
              "      <th>dens15to18</th>\n",
              "      <th>dens20to22</th>\n",
              "      <th>dens25to29</th>\n",
              "      <th>ratiosi_pi</th>\n",
              "      <th>ratio_si</th>\n",
              "      <th>dens18to35</th>\n",
              "    </tr>\n",
              "  </thead>\n",
              "  <tbody>\n",
              "    <tr>\n",
              "      <th>0</th>\n",
              "      <td>bN_RKPM44_Contig11_10</td>\n",
              "      <td>viral</td>\n",
              "      <td>-0.458080</td>\n",
              "      <td>-0.458080</td>\n",
              "      <td>-0.458080</td>\n",
              "      <td>-0.451239</td>\n",
              "      <td>-0.423021</td>\n",
              "      <td>-0.303308</td>\n",
              "      <td>2.654454</td>\n",
              "      <td>0.147325</td>\n",
              "      <td>...</td>\n",
              "      <td>-0.440123</td>\n",
              "      <td>-0.443543</td>\n",
              "      <td>-0.434992</td>\n",
              "      <td>-0.417890</td>\n",
              "      <td>-7.790348</td>\n",
              "      <td>2.105795</td>\n",
              "      <td>2.058274</td>\n",
              "      <td>0.047520</td>\n",
              "      <td>0.549719</td>\n",
              "      <td>3.817560</td>\n",
              "    </tr>\n",
              "    <tr>\n",
              "      <th>1</th>\n",
              "      <td>bN_RKPM44_Contig12_11</td>\n",
              "      <td>viral</td>\n",
              "      <td>-0.338402</td>\n",
              "      <td>-0.338402</td>\n",
              "      <td>-0.338402</td>\n",
              "      <td>-0.338402</td>\n",
              "      <td>-0.305252</td>\n",
              "      <td>-0.156079</td>\n",
              "      <td>4.761109</td>\n",
              "      <td>0.258290</td>\n",
              "      <td>...</td>\n",
              "      <td>-0.321827</td>\n",
              "      <td>-0.321827</td>\n",
              "      <td>-0.327352</td>\n",
              "      <td>-0.327352</td>\n",
              "      <td>-16.609640</td>\n",
              "      <td>2.051209</td>\n",
              "      <td>-0.388975</td>\n",
              "      <td>2.440184</td>\n",
              "      <td>0.008159</td>\n",
              "      <td>2.500344</td>\n",
              "    </tr>\n",
              "    <tr>\n",
              "      <th>2</th>\n",
              "      <td>bN_RKPM44_Contig195_194</td>\n",
              "      <td>viral</td>\n",
              "      <td>-0.285242</td>\n",
              "      <td>-0.285242</td>\n",
              "      <td>-0.285242</td>\n",
              "      <td>-0.285242</td>\n",
              "      <td>-0.260587</td>\n",
              "      <td>0.027052</td>\n",
              "      <td>5.467541</td>\n",
              "      <td>0.290036</td>\n",
              "      <td>...</td>\n",
              "      <td>-0.285242</td>\n",
              "      <td>-0.285242</td>\n",
              "      <td>-0.285242</td>\n",
              "      <td>-0.285242</td>\n",
              "      <td>-16.609640</td>\n",
              "      <td>2.159199</td>\n",
              "      <td>-1.889817</td>\n",
              "      <td>4.049016</td>\n",
              "      <td>0.431799</td>\n",
              "      <td>2.380272</td>\n",
              "    </tr>\n",
              "    <tr>\n",
              "      <th>3</th>\n",
              "      <td>bN_RKPM44_Contig1_0</td>\n",
              "      <td>viral</td>\n",
              "      <td>-0.402533</td>\n",
              "      <td>-0.402533</td>\n",
              "      <td>-0.402533</td>\n",
              "      <td>-0.402533</td>\n",
              "      <td>-0.371450</td>\n",
              "      <td>-0.196612</td>\n",
              "      <td>5.386557</td>\n",
              "      <td>0.553250</td>\n",
              "      <td>...</td>\n",
              "      <td>-0.352024</td>\n",
              "      <td>-0.379221</td>\n",
              "      <td>-0.336483</td>\n",
              "      <td>-0.355909</td>\n",
              "      <td>-16.609640</td>\n",
              "      <td>2.379971</td>\n",
              "      <td>0.741514</td>\n",
              "      <td>1.638457</td>\n",
              "      <td>0.602814</td>\n",
              "      <td>3.072798</td>\n",
              "    </tr>\n",
              "    <tr>\n",
              "      <th>4</th>\n",
              "      <td>bN_RKPM44_Contig2332_2331</td>\n",
              "      <td>viral</td>\n",
              "      <td>-0.353041</td>\n",
              "      <td>-0.353041</td>\n",
              "      <td>-0.353041</td>\n",
              "      <td>-0.352393</td>\n",
              "      <td>-0.345198</td>\n",
              "      <td>-0.314995</td>\n",
              "      <td>0.096574</td>\n",
              "      <td>-0.209996</td>\n",
              "      <td>...</td>\n",
              "      <td>-0.351031</td>\n",
              "      <td>-0.349994</td>\n",
              "      <td>-0.351031</td>\n",
              "      <td>-0.351226</td>\n",
              "      <td>-7.527122</td>\n",
              "      <td>2.823717</td>\n",
              "      <td>6.633881</td>\n",
              "      <td>-3.810164</td>\n",
              "      <td>1.070330</td>\n",
              "      <td>7.003396</td>\n",
              "    </tr>\n",
              "  </tbody>\n",
              "</table>\n",
              "<p>5 rows × 50 columns</p>\n",
              "</div>"
            ],
            "text/plain": [
              "                  Contigs_ID Similarity_label       X15       X16       X17  \\\n",
              "0      bN_RKPM44_Contig11_10            viral -0.458080 -0.458080 -0.458080   \n",
              "1      bN_RKPM44_Contig12_11            viral -0.338402 -0.338402 -0.338402   \n",
              "2    bN_RKPM44_Contig195_194            viral -0.285242 -0.285242 -0.285242   \n",
              "3        bN_RKPM44_Contig1_0            viral -0.402533 -0.402533 -0.402533   \n",
              "4  bN_RKPM44_Contig2332_2331            viral -0.353041 -0.353041 -0.353041   \n",
              "\n",
              "        X18       X19       X20       X21       X22  ...      X.32      X.33  \\\n",
              "0 -0.451239 -0.423021 -0.303308  2.654454  0.147325  ... -0.440123 -0.443543   \n",
              "1 -0.338402 -0.305252 -0.156079  4.761109  0.258290  ... -0.321827 -0.321827   \n",
              "2 -0.285242 -0.260587  0.027052  5.467541  0.290036  ... -0.285242 -0.285242   \n",
              "3 -0.402533 -0.371450 -0.196612  5.386557  0.553250  ... -0.352024 -0.379221   \n",
              "4 -0.352393 -0.345198 -0.314995  0.096574 -0.209996  ... -0.351031 -0.349994   \n",
              "\n",
              "       X.34      X.35  dens15to18  dens20to22  dens25to29  ratiosi_pi  \\\n",
              "0 -0.434992 -0.417890   -7.790348    2.105795    2.058274    0.047520   \n",
              "1 -0.327352 -0.327352  -16.609640    2.051209   -0.388975    2.440184   \n",
              "2 -0.285242 -0.285242  -16.609640    2.159199   -1.889817    4.049016   \n",
              "3 -0.336483 -0.355909  -16.609640    2.379971    0.741514    1.638457   \n",
              "4 -0.351031 -0.351226   -7.527122    2.823717    6.633881   -3.810164   \n",
              "\n",
              "   ratio_si  dens18to35  \n",
              "0  0.549719    3.817560  \n",
              "1  0.008159    2.500344  \n",
              "2  0.431799    2.380272  \n",
              "3  0.602814    3.072798  \n",
              "4  1.070330    7.003396  \n",
              "\n",
              "[5 rows x 50 columns]"
            ]
          },
          "execution_count": 175,
          "metadata": {},
          "output_type": "execute_result"
        }
      ],
      "source": [
        "df_dark2.head()"
      ]
    },
    {
      "attachments": {},
      "cell_type": "markdown",
      "metadata": {},
      "source": [
        "## Classify Dark Matter DB sequences"
      ]
    },
    {
      "cell_type": "code",
      "execution_count": 176,
      "metadata": {},
      "outputs": [],
      "source": [
        "y_hat = classifier.predict(df_dark2[feat_dark2])\n",
        "df_dark2[col_class_eve] = y_hat.copy()"
      ]
    },
    {
      "cell_type": "code",
      "execution_count": 177,
      "metadata": {},
      "outputs": [],
      "source": [
        "cols_report = [col_class_dark, col_class_eve, col_id_dark]"
      ]
    },
    {
      "cell_type": "code",
      "execution_count": 178,
      "metadata": {},
      "outputs": [],
      "source": [
        "df_report = df_dark2[cols_report].copy()\n",
        "df_report = df_report.sort_values(by=cols_report, ascending=True)"
      ]
    },
    {
      "cell_type": "code",
      "execution_count": 179,
      "metadata": {},
      "outputs": [
        {
          "data": {
            "text/plain": [
              "Similarity_label  class\n",
              "nohit             eve      26\n",
              "nonviral          eve      21\n",
              "viral             viral    22\n",
              "                  eve       3\n",
              "Name: class, dtype: int64"
            ]
          },
          "execution_count": 179,
          "metadata": {},
          "output_type": "execute_result"
        }
      ],
      "source": [
        "df_report.groupby(col_class_dark)[col_class_eve].value_counts()"
      ]
    },
    {
      "cell_type": "code",
      "execution_count": 180,
      "metadata": {},
      "outputs": [
        {
          "name": "stderr",
          "output_type": "stream",
          "text": [
            "/tmp/ipykernel_2437/2454612004.py:4: UserWarning: Boolean Series key will be reindexed to match DataFrame index.\n",
            "  foo[df_report[col_class_eve] == 'eve']\n"
          ]
        },
        {
          "data": {
            "text/html": [
              "<div>\n",
              "<style scoped>\n",
              "    .dataframe tbody tr th:only-of-type {\n",
              "        vertical-align: middle;\n",
              "    }\n",
              "\n",
              "    .dataframe tbody tr th {\n",
              "        vertical-align: top;\n",
              "    }\n",
              "\n",
              "    .dataframe thead th {\n",
              "        text-align: right;\n",
              "    }\n",
              "</style>\n",
              "<table border=\"1\" class=\"dataframe\">\n",
              "  <thead>\n",
              "    <tr style=\"text-align: right;\">\n",
              "      <th></th>\n",
              "      <th>Similarity_label</th>\n",
              "      <th>class</th>\n",
              "      <th>Contigs_ID</th>\n",
              "    </tr>\n",
              "  </thead>\n",
              "  <tbody>\n",
              "    <tr>\n",
              "      <th>4</th>\n",
              "      <td>viral</td>\n",
              "      <td>eve</td>\n",
              "      <td>bN_RKPM44_Contig2332_2331</td>\n",
              "    </tr>\n",
              "    <tr>\n",
              "      <th>22</th>\n",
              "      <td>viral</td>\n",
              "      <td>eve</td>\n",
              "      <td>bX_RKPM44_Contig115_114</td>\n",
              "    </tr>\n",
              "    <tr>\n",
              "      <th>24</th>\n",
              "      <td>viral</td>\n",
              "      <td>eve</td>\n",
              "      <td>bX_RKPM44_Contig2402_2401</td>\n",
              "    </tr>\n",
              "  </tbody>\n",
              "</table>\n",
              "</div>"
            ],
            "text/plain": [
              "   Similarity_label class                 Contigs_ID\n",
              "4             viral   eve  bN_RKPM44_Contig2332_2331\n",
              "22            viral   eve    bX_RKPM44_Contig115_114\n",
              "24            viral   eve  bX_RKPM44_Contig2402_2401"
            ]
          },
          "execution_count": 180,
          "metadata": {},
          "output_type": "execute_result"
        }
      ],
      "source": [
        "# df_report[ (df_report[col_class_eve] == 'eve') & (df_report[col_class_dark == 'viral']) ]\n",
        "foo = df_report[df_report[col_class_dark] == 'viral' ].copy()\n",
        "# foo = foo[df_report[col_class_eve] == 'eve']\n",
        "foo[df_report[col_class_eve] == 'eve']"
      ]
    }
  ],
  "metadata": {
    "colab": {
      "collapsed_sections": [
        "mQIuGxwf1n72",
        "JPtQN59Z2x2K",
        "r1EwsaGz3CHJ",
        "_XDJOT1Asww4",
        "DbLZH8838eF_",
        "G4eRxSdQ9IFC",
        "0PpBVY--881x",
        "nSMgnDVIUdMH",
        "EdoehfhowQ2V",
        "_Zn6ZClr9UOl",
        "6lQ_lXiLo9Tl",
        "8BI64VeOyv9n",
        "_CLFQ5cyu13l"
      ],
      "provenance": []
    },
    "kernelspec": {
      "display_name": "Python 3 (ipykernel)",
      "language": "python",
      "name": "python3"
    },
    "language_info": {
      "codemirror_mode": {
        "name": "ipython",
        "version": 3
      },
      "file_extension": ".py",
      "mimetype": "text/x-python",
      "name": "python",
      "nbconvert_exporter": "python",
      "pygments_lexer": "ipython3",
      "version": "3.10.6"
    }
  },
  "nbformat": 4,
  "nbformat_minor": 0
}
