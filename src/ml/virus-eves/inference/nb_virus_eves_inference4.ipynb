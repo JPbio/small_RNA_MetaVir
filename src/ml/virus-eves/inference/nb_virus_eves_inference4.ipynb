{
  "cells": [
    {
      "attachments": {},
      "cell_type": "markdown",
      "metadata": {},
      "source": [
        "#### Virus × EVE's classification\n",
        "\n",
        "___Inference___\n"
      ]
    },
    {
      "attachments": {},
      "cell_type": "markdown",
      "metadata": {
        "id": "EP525DrREX0N"
      },
      "source": [
        "Imports"
      ]
    },
    {
      "cell_type": "code",
      "execution_count": 1,
      "metadata": {
        "id": "-8hKq-6V67UA"
      },
      "outputs": [],
      "source": [
        "import pandas as pd"
      ]
    },
    {
      "attachments": {},
      "cell_type": "markdown",
      "metadata": {},
      "source": [
        "#### Parameters"
      ]
    },
    {
      "cell_type": "code",
      "execution_count": 2,
      "metadata": {},
      "outputs": [],
      "source": [
        "col_class_eve = 'class'\n",
        "col_class_dark = 'Similarity_label'\n",
        "col_id_dark = 'Contigs_ID'"
      ]
    },
    {
      "cell_type": "code",
      "execution_count": 3,
      "metadata": {},
      "outputs": [],
      "source": [
        "x_range_eve = list(range(4, 52))\n",
        "x_range_dark = list(range(2, 51))"
      ]
    },
    {
      "cell_type": "code",
      "execution_count": 4,
      "metadata": {},
      "outputs": [],
      "source": [
        "''' \n",
        "    TODO: 2023-06-17 - Find a better way to to this...\n",
        "''' \n",
        "feat_eves = [\n",
        "    'X15', 'X16', 'X17', 'X18', 'X19', 'X20', 'X21', 'X22', 'X23', 'X24',\n",
        "    'X25', 'X26', 'X27', 'X28', 'X29', 'X30', 'X31', 'X32', 'X33', 'X34',\n",
        "    'X35', 'X.15', 'X.16', 'X.17', 'X.18', 'X.19', 'X.20', 'X.21', 'X.22',\n",
        "    'X.23', 'X.24', 'X.25', 'X.26', 'X.27', 'X.28', 'X.29', 'X.30', 'X.31',\n",
        "    'X.32', 'X.33', 'X.34', 'X.35', 'dens15to18', 'dens20to22',\n",
        "    'dens25to29', 'ratiosi_pi', 'ratio_si', 'dens18to35'\n",
        "]"
      ]
    },
    {
      "cell_type": "code",
      "execution_count": 5,
      "metadata": {},
      "outputs": [],
      "source": [
        "path_root = './'\n",
        "\n",
        "path_classifier = f'{path_root}/model_classifier_rf.pkl'\n",
        "path_runs = f'{path_root}/runs'\n",
        "\n",
        "path_feat = lambda path_dir: f'{path_dir}/Zscore_and_features_matrix.tab'\n",
        "path_summary = lambda path_dir: f'{path_dir}/summary.yml'\n"
      ]
    },
    {
      "cell_type": "code",
      "execution_count": 6,
      "metadata": {},
      "outputs": [],
      "source": [
        "path_dicer2 = f'{path_runs}/dicer2/'\n",
        "path_r2d2 = f'{path_runs}/r2d2/'\n",
        "\n",
        "libs = [\n",
        "    \n",
        "    # dicer 2\n",
        "    { 'id': 'RNPM68_01',    'server': 'dicer2', 'dir': f'{path_dicer2}/exec_RNPM68_01' },\n",
        "    { 'id': 'RNPM164_01',   'server': 'dicer2', 'dir': f'{path_dicer2}/exec_RNPM164_01' },\n",
        "    { 'id': 'RNPM221_01',   'server': 'dicer2', 'dir': f'{path_dicer2}/exec_RNPM221_01' },\n",
        "    { 'id': 'RKPM44_06',    'server': 'dicer2', 'dir': f'{path_dicer2}/exec_test_v2_06' },\n",
        "    { 'id': 'ZIKV_01',      'server': 'dicer2', 'dir': f'{path_dicer2}/exec_ZIKV_01' },\n",
        "    \n",
        "    # r2d2\n",
        "    { 'id': 'RNPM2_02',     'server': 'r2d2', 'dir': f'{path_r2d2}/RNPM2_02' },\n",
        "    { 'id': 'RNPM110_02',   'server': 'r2d2', 'dir': f'{path_r2d2}/RNPM110_02' },\n",
        "    { 'id': 'RNPM169_01',   'server': 'r2d2', 'dir': f'{path_r2d2}/RNPM169_01' },\n",
        "    { 'id': 'RNPM170_01',   'server': 'r2d2', 'dir': f'{path_r2d2}/RNPM170_01' },\n",
        "]"
      ]
    },
    {
      "attachments": {},
      "cell_type": "markdown",
      "metadata": {},
      "source": [
        "## Classify Dark Matter DB sequences"
      ]
    },
    {
      "cell_type": "code",
      "execution_count": 7,
      "metadata": {},
      "outputs": [],
      "source": [
        "import yaml\n",
        "from inference import get_classification_report"
      ]
    },
    {
      "cell_type": "code",
      "execution_count": 8,
      "metadata": {},
      "outputs": [],
      "source": [
        "df_report = pd.DataFrame(\n",
        "    # columns = [\n",
        "    #     'id',\n",
        "    #     'input_size', 'n_reads',\n",
        "    #     'n_contigs', 'n_contigs_gt_200',\n",
        "    #     'output_size',\n",
        "    #     'pipe_viral', 'pipe_non_viral', 'pipe_no_hit',\n",
        "    #     'viral_viral', 'viral_eve',\n",
        "    #     'nonviral_viral', 'nonviral_eve',\n",
        "    #     'nohit_viral', 'nohit_eve',\n",
        "    # ]\n",
        "    columns = [\n",
        "        'ID',\n",
        "        'Reads',\n",
        "        'Contigs', 'Contigs >= 200nt',\n",
        "        'viral', 'nonviral', 'nohit',\n",
        "        'viral [viral]', 'viral [eve]',\n",
        "        'nonviral [viral]', 'nonviral [eve]',\n",
        "        'nohit [viral]', 'nohit [eve]',\n",
        "        'Input Size',\n",
        "        'Output Size',\n",
        "        'Running Time'\n",
        "    ]\n",
        ")"
      ]
    },
    {
      "cell_type": "code",
      "execution_count": 9,
      "metadata": {},
      "outputs": [],
      "source": [
        "\n",
        "\n",
        "for lib in libs:\n",
        "    \n",
        "    # Run virus × EVE classification\n",
        "    path_lib = path_feat(lib.get('dir'))\n",
        "    df_dark = pd.read_table(path_lib)\n",
        "    \n",
        "    df_classification = get_classification_report(\n",
        "        df_dark=df_dark, path_classifier=path_classifier,\n",
        "        feat_eves=feat_eves, x_range_dark=x_range_dark,\n",
        "        col_class_dark=col_class_dark, col_class_eve=col_class_eve, col_id_dark=col_id_dark,\n",
        "    )\n",
        "    \n",
        "    # Build lib summary\n",
        "    pipe_class_group = df_dark.groupby(col_class_dark)[col_class_dark].value_counts()\n",
        "    \n",
        "    with open(path_summary(lib.get('dir')), 'r') as file:\n",
        "        pipe_summary = yaml.safe_load(file)\n",
        "\n",
        "    class_match = lambda class_dark, class_eve: \\\n",
        "        df_classification[ (df_classification[col_class_dark] == class_dark) & (df_classification[col_class_eve] == class_eve)]\n",
        "\n",
        "    df_row = pd.DataFrame(\n",
        "        # {\n",
        "        #     'id': lib['id'],\n",
        "        #     'input_size': pipe_summary.get('input_size'),\n",
        "        #     'n_reads': pipe_summary.get('n_reads'),\n",
        "        #     'n_contigs': pipe_summary.get('n_contigs'),\n",
        "        #     'n_contigs_gt_200': pipe_summary.get('n_contigs_gt_200'),\n",
        "        #     'output_size': pipe_summary.get('output_size'),\n",
        "        #     'pipe_viral': int(pipe_class_group['viral'].values),\n",
        "        #     'pipe_non_viral': int(pipe_class_group['nonviral'].values),\n",
        "        #     'pipe_no_hit': int(pipe_class_group['nohit'].values),\n",
        "        #     'viral_viral': class_match('viral', 'viral').shape[0],\n",
        "        #     'viral_eve': class_match('viral', 'eve').shape[0],\n",
        "        #     'nonviral_viral': class_match('nonviral', 'viral').shape[0],\n",
        "        #     'nonviral_eve': class_match('nonviral', 'eve').shape[0],\n",
        "        #     'nohit_viral': class_match('nohit', 'viral').shape[0],\n",
        "        #     'nohit_eve': class_match('nohit', 'eve').shape[0],\n",
        "        # },\n",
        "        {\n",
        "            'ID': lib['id'],\n",
        "            'Reads': pipe_summary.get('n_reads'),\n",
        "            'Contigs': pipe_summary.get('n_contigs'),\n",
        "            'Contigs >= 200nt': pipe_summary.get('n_contigs_gt_200'),\n",
        "            'viral': int(pipe_class_group['viral'].values),\n",
        "            'nonviral': int(pipe_class_group['nonviral'].values),\n",
        "            'nohit': int(pipe_class_group['nohit'].values),\n",
        "            'viral [viral]': class_match('viral', 'viral').shape[0],\n",
        "            'viral [eve]': class_match('viral', 'eve').shape[0],\n",
        "            'nonviral [viral]': class_match('nonviral', 'viral').shape[0],\n",
        "            'nonviral [eve]': class_match('nonviral', 'eve').shape[0],\n",
        "            'nohit [viral]': class_match('nohit', 'viral').shape[0],\n",
        "            'nohit [eve]': class_match('nohit', 'eve').shape[0],\n",
        "            'Input Size': pipe_summary.get('input_size'),\n",
        "            'Output Size': pipe_summary.get('output_size'),\n",
        "            'Running Time': pipe_summary.get('time'),\n",
        "            'Server': lib['server'],\n",
        "        },\n",
        "        index=[0]\n",
        "    )\n",
        "\n",
        "    # Add this lib parsing to report\n",
        "    df_report = pd.concat([df_report, df_row], ignore_index=True)\n",
        "    \n",
        "    lib['df_classification'] = df_classification.copy()\n",
        "    lib['pipe_summary'] = pipe_summary\n"
      ]
    },
    {
      "attachments": {},
      "cell_type": "markdown",
      "metadata": {},
      "source": [
        "### Tables"
      ]
    },
    {
      "cell_type": "code",
      "execution_count": 10,
      "metadata": {},
      "outputs": [
        {
          "data": {
            "text/html": [
              "<div>\n",
              "<style scoped>\n",
              "    .dataframe tbody tr th:only-of-type {\n",
              "        vertical-align: middle;\n",
              "    }\n",
              "\n",
              "    .dataframe tbody tr th {\n",
              "        vertical-align: top;\n",
              "    }\n",
              "\n",
              "    .dataframe thead th {\n",
              "        text-align: right;\n",
              "    }\n",
              "</style>\n",
              "<table border=\"1\" class=\"dataframe\">\n",
              "  <thead>\n",
              "    <tr style=\"text-align: right;\">\n",
              "      <th></th>\n",
              "      <th>ID</th>\n",
              "      <th>Reads</th>\n",
              "      <th>Contigs</th>\n",
              "      <th>Contigs &gt;= 200nt</th>\n",
              "      <th>viral</th>\n",
              "      <th>nonviral</th>\n",
              "      <th>nohit</th>\n",
              "      <th>viral [viral]</th>\n",
              "      <th>viral [eve]</th>\n",
              "      <th>nonviral [viral]</th>\n",
              "      <th>nonviral [eve]</th>\n",
              "      <th>nohit [viral]</th>\n",
              "      <th>nohit [eve]</th>\n",
              "      <th>Input Size</th>\n",
              "      <th>Output Size</th>\n",
              "      <th>Running Time</th>\n",
              "      <th>Server</th>\n",
              "    </tr>\n",
              "  </thead>\n",
              "  <tbody>\n",
              "    <tr>\n",
              "      <th>0</th>\n",
              "      <td>RNPM68_01</td>\n",
              "      <td>13125926</td>\n",
              "      <td>1247</td>\n",
              "      <td>19</td>\n",
              "      <td>2</td>\n",
              "      <td>12</td>\n",
              "      <td>5</td>\n",
              "      <td>1</td>\n",
              "      <td>1</td>\n",
              "      <td>0</td>\n",
              "      <td>12</td>\n",
              "      <td>0</td>\n",
              "      <td>5</td>\n",
              "      <td>1037244</td>\n",
              "      <td>25688</td>\n",
              "      <td>02:43:15:146</td>\n",
              "      <td>dicer2</td>\n",
              "    </tr>\n",
              "    <tr>\n",
              "      <th>1</th>\n",
              "      <td>RNPM164_01</td>\n",
              "      <td>44565086</td>\n",
              "      <td>2138</td>\n",
              "      <td>44</td>\n",
              "      <td>42</td>\n",
              "      <td>24</td>\n",
              "      <td>14</td>\n",
              "      <td>40</td>\n",
              "      <td>2</td>\n",
              "      <td>0</td>\n",
              "      <td>24</td>\n",
              "      <td>0</td>\n",
              "      <td>14</td>\n",
              "      <td>3446536</td>\n",
              "      <td>383912</td>\n",
              "      <td>03:43:50:482</td>\n",
              "      <td>dicer2</td>\n",
              "    </tr>\n",
              "    <tr>\n",
              "      <th>2</th>\n",
              "      <td>RNPM221_01</td>\n",
              "      <td>20062770</td>\n",
              "      <td>3560</td>\n",
              "      <td>379</td>\n",
              "      <td>20</td>\n",
              "      <td>297</td>\n",
              "      <td>62</td>\n",
              "      <td>11</td>\n",
              "      <td>9</td>\n",
              "      <td>23</td>\n",
              "      <td>274</td>\n",
              "      <td>4</td>\n",
              "      <td>58</td>\n",
              "      <td>1628196</td>\n",
              "      <td>1010548</td>\n",
              "      <td>05:39:36:411</td>\n",
              "      <td>dicer2</td>\n",
              "    </tr>\n",
              "    <tr>\n",
              "      <th>3</th>\n",
              "      <td>RKPM44_06</td>\n",
              "      <td>21595029</td>\n",
              "      <td>1991</td>\n",
              "      <td>73</td>\n",
              "      <td>25</td>\n",
              "      <td>21</td>\n",
              "      <td>26</td>\n",
              "      <td>23</td>\n",
              "      <td>2</td>\n",
              "      <td>0</td>\n",
              "      <td>21</td>\n",
              "      <td>0</td>\n",
              "      <td>26</td>\n",
              "      <td>1712048</td>\n",
              "      <td>433872</td>\n",
              "      <td>13:17:46:144</td>\n",
              "      <td>dicer2</td>\n",
              "    </tr>\n",
              "    <tr>\n",
              "      <th>4</th>\n",
              "      <td>ZIKV_01</td>\n",
              "      <td>33757362</td>\n",
              "      <td>12837</td>\n",
              "      <td>742</td>\n",
              "      <td>66</td>\n",
              "      <td>346</td>\n",
              "      <td>330</td>\n",
              "      <td>36</td>\n",
              "      <td>30</td>\n",
              "      <td>99</td>\n",
              "      <td>247</td>\n",
              "      <td>93</td>\n",
              "      <td>237</td>\n",
              "      <td>1880184</td>\n",
              "      <td>576372</td>\n",
              "      <td>09:28:07:815</td>\n",
              "      <td>dicer2</td>\n",
              "    </tr>\n",
              "    <tr>\n",
              "      <th>5</th>\n",
              "      <td>RNPM2_02</td>\n",
              "      <td>15102630</td>\n",
              "      <td>19160</td>\n",
              "      <td>1274</td>\n",
              "      <td>61</td>\n",
              "      <td>270</td>\n",
              "      <td>943</td>\n",
              "      <td>5</td>\n",
              "      <td>56</td>\n",
              "      <td>24</td>\n",
              "      <td>246</td>\n",
              "      <td>64</td>\n",
              "      <td>879</td>\n",
              "      <td>1225448</td>\n",
              "      <td>139764</td>\n",
              "      <td>15:26:14:736</td>\n",
              "      <td>r2d2</td>\n",
              "    </tr>\n",
              "    <tr>\n",
              "      <th>6</th>\n",
              "      <td>RNPM110_02</td>\n",
              "      <td>20421283</td>\n",
              "      <td>5562</td>\n",
              "      <td>271</td>\n",
              "      <td>47</td>\n",
              "      <td>73</td>\n",
              "      <td>151</td>\n",
              "      <td>17</td>\n",
              "      <td>30</td>\n",
              "      <td>4</td>\n",
              "      <td>69</td>\n",
              "      <td>1</td>\n",
              "      <td>150</td>\n",
              "      <td>1623392</td>\n",
              "      <td>90044</td>\n",
              "      <td>05:20:44:031</td>\n",
              "      <td>r2d2</td>\n",
              "    </tr>\n",
              "    <tr>\n",
              "      <th>7</th>\n",
              "      <td>RNPM169_01</td>\n",
              "      <td>19663205</td>\n",
              "      <td>1716</td>\n",
              "      <td>49</td>\n",
              "      <td>24</td>\n",
              "      <td>18</td>\n",
              "      <td>7</td>\n",
              "      <td>22</td>\n",
              "      <td>2</td>\n",
              "      <td>2</td>\n",
              "      <td>16</td>\n",
              "      <td>0</td>\n",
              "      <td>7</td>\n",
              "      <td>1555264</td>\n",
              "      <td>30184</td>\n",
              "      <td>02:36:24:331</td>\n",
              "      <td>r2d2</td>\n",
              "    </tr>\n",
              "    <tr>\n",
              "      <th>8</th>\n",
              "      <td>RNPM170_01</td>\n",
              "      <td>24518179</td>\n",
              "      <td>3166</td>\n",
              "      <td>80</td>\n",
              "      <td>42</td>\n",
              "      <td>24</td>\n",
              "      <td>14</td>\n",
              "      <td>40</td>\n",
              "      <td>2</td>\n",
              "      <td>0</td>\n",
              "      <td>24</td>\n",
              "      <td>0</td>\n",
              "      <td>14</td>\n",
              "      <td>1913092</td>\n",
              "      <td>129756</td>\n",
              "      <td>02:57:24:567</td>\n",
              "      <td>r2d2</td>\n",
              "    </tr>\n",
              "  </tbody>\n",
              "</table>\n",
              "</div>"
            ],
            "text/plain": [
              "           ID     Reads Contigs Contigs >= 200nt viral nonviral nohit  \\\n",
              "0   RNPM68_01  13125926    1247               19     2       12     5   \n",
              "1  RNPM164_01  44565086    2138               44    42       24    14   \n",
              "2  RNPM221_01  20062770    3560              379    20      297    62   \n",
              "3   RKPM44_06  21595029    1991               73    25       21    26   \n",
              "4     ZIKV_01  33757362   12837              742    66      346   330   \n",
              "5    RNPM2_02  15102630   19160             1274    61      270   943   \n",
              "6  RNPM110_02  20421283    5562              271    47       73   151   \n",
              "7  RNPM169_01  19663205    1716               49    24       18     7   \n",
              "8  RNPM170_01  24518179    3166               80    42       24    14   \n",
              "\n",
              "  viral [viral] viral [eve] nonviral [viral] nonviral [eve] nohit [viral]  \\\n",
              "0             1           1                0             12             0   \n",
              "1            40           2                0             24             0   \n",
              "2            11           9               23            274             4   \n",
              "3            23           2                0             21             0   \n",
              "4            36          30               99            247            93   \n",
              "5             5          56               24            246            64   \n",
              "6            17          30                4             69             1   \n",
              "7            22           2                2             16             0   \n",
              "8            40           2                0             24             0   \n",
              "\n",
              "  nohit [eve] Input Size Output Size  Running Time  Server  \n",
              "0           5    1037244       25688  02:43:15:146  dicer2  \n",
              "1          14    3446536      383912  03:43:50:482  dicer2  \n",
              "2          58    1628196     1010548  05:39:36:411  dicer2  \n",
              "3          26    1712048      433872  13:17:46:144  dicer2  \n",
              "4         237    1880184      576372  09:28:07:815  dicer2  \n",
              "5         879    1225448      139764  15:26:14:736    r2d2  \n",
              "6         150    1623392       90044  05:20:44:031    r2d2  \n",
              "7           7    1555264       30184  02:36:24:331    r2d2  \n",
              "8          14    1913092      129756  02:57:24:567    r2d2  "
            ]
          },
          "execution_count": 10,
          "metadata": {},
          "output_type": "execute_result"
        }
      ],
      "source": [
        "df_report"
      ]
    },
    {
      "cell_type": "code",
      "execution_count": 11,
      "metadata": {},
      "outputs": [],
      "source": [
        "\n",
        "bytes_2_kb = lambda size_bytes: size_bytes / (1024)\n",
        "bytes_2_mb = lambda size_bytes: size_bytes / (1024 * 1024)\n",
        "bytes_2_gb = lambda size_bytes: size_bytes / (1024 * 1024 * 1024)\n",
        "\n",
        "bytes_2_gb_str = lambda size_bytes: \"{:.2f} GB\".format(bytes_2_gb(size_bytes))\n",
        "bytes_2_mb_str = lambda size_bytes: \"{:.2f} MB\".format(bytes_2_mb(size_bytes))\n",
        "bytes_2_kb_str = lambda size_bytes: \"{:.2f} KB\".format(bytes_2_kb(size_bytes))"
      ]
    },
    {
      "cell_type": "code",
      "execution_count": 12,
      "metadata": {},
      "outputs": [
        {
          "data": {
            "text/html": [
              "<div>\n",
              "<style scoped>\n",
              "    .dataframe tbody tr th:only-of-type {\n",
              "        vertical-align: middle;\n",
              "    }\n",
              "\n",
              "    .dataframe tbody tr th {\n",
              "        vertical-align: top;\n",
              "    }\n",
              "\n",
              "    .dataframe thead th {\n",
              "        text-align: right;\n",
              "    }\n",
              "</style>\n",
              "<table border=\"1\" class=\"dataframe\">\n",
              "  <thead>\n",
              "    <tr style=\"text-align: right;\">\n",
              "      <th></th>\n",
              "      <th>ID</th>\n",
              "      <th>Reads</th>\n",
              "      <th>Contigs</th>\n",
              "      <th>Contigs &gt;= 200nt</th>\n",
              "      <th>viral</th>\n",
              "      <th>nonviral</th>\n",
              "      <th>nohit</th>\n",
              "      <th>viral [viral]</th>\n",
              "      <th>viral [eve]</th>\n",
              "      <th>nonviral [viral]</th>\n",
              "      <th>...</th>\n",
              "      <th>Running Time</th>\n",
              "      <th>Server</th>\n",
              "      <th>Input Size [GB]</th>\n",
              "      <th>Input Size [MB]</th>\n",
              "      <th>Input Size [KB]</th>\n",
              "      <th>Output Size [GB]</th>\n",
              "      <th>Output Size [MB]</th>\n",
              "      <th>Output Size [KB]</th>\n",
              "      <th>Reads [×10^3]</th>\n",
              "      <th>Reads [×10^6]</th>\n",
              "    </tr>\n",
              "  </thead>\n",
              "  <tbody>\n",
              "    <tr>\n",
              "      <th>0</th>\n",
              "      <td>RNPM68_01</td>\n",
              "      <td>13125926</td>\n",
              "      <td>1247</td>\n",
              "      <td>19</td>\n",
              "      <td>2</td>\n",
              "      <td>12</td>\n",
              "      <td>5</td>\n",
              "      <td>1</td>\n",
              "      <td>1</td>\n",
              "      <td>0</td>\n",
              "      <td>...</td>\n",
              "      <td>02:43:15:146</td>\n",
              "      <td>dicer2</td>\n",
              "      <td>0.00 GB</td>\n",
              "      <td>0.99 MB</td>\n",
              "      <td>1012.93 KB</td>\n",
              "      <td>0.00 GB</td>\n",
              "      <td>0.02 MB</td>\n",
              "      <td>25.09 KB</td>\n",
              "      <td>13125.93</td>\n",
              "      <td>13.13</td>\n",
              "    </tr>\n",
              "    <tr>\n",
              "      <th>1</th>\n",
              "      <td>RNPM164_01</td>\n",
              "      <td>44565086</td>\n",
              "      <td>2138</td>\n",
              "      <td>44</td>\n",
              "      <td>42</td>\n",
              "      <td>24</td>\n",
              "      <td>14</td>\n",
              "      <td>40</td>\n",
              "      <td>2</td>\n",
              "      <td>0</td>\n",
              "      <td>...</td>\n",
              "      <td>03:43:50:482</td>\n",
              "      <td>dicer2</td>\n",
              "      <td>0.00 GB</td>\n",
              "      <td>3.29 MB</td>\n",
              "      <td>3365.76 KB</td>\n",
              "      <td>0.00 GB</td>\n",
              "      <td>0.37 MB</td>\n",
              "      <td>374.91 KB</td>\n",
              "      <td>44565.09</td>\n",
              "      <td>44.57</td>\n",
              "    </tr>\n",
              "    <tr>\n",
              "      <th>2</th>\n",
              "      <td>RNPM221_01</td>\n",
              "      <td>20062770</td>\n",
              "      <td>3560</td>\n",
              "      <td>379</td>\n",
              "      <td>20</td>\n",
              "      <td>297</td>\n",
              "      <td>62</td>\n",
              "      <td>11</td>\n",
              "      <td>9</td>\n",
              "      <td>23</td>\n",
              "      <td>...</td>\n",
              "      <td>05:39:36:411</td>\n",
              "      <td>dicer2</td>\n",
              "      <td>0.00 GB</td>\n",
              "      <td>1.55 MB</td>\n",
              "      <td>1590.04 KB</td>\n",
              "      <td>0.00 GB</td>\n",
              "      <td>0.96 MB</td>\n",
              "      <td>986.86 KB</td>\n",
              "      <td>20062.77</td>\n",
              "      <td>20.06</td>\n",
              "    </tr>\n",
              "    <tr>\n",
              "      <th>3</th>\n",
              "      <td>RKPM44_06</td>\n",
              "      <td>21595029</td>\n",
              "      <td>1991</td>\n",
              "      <td>73</td>\n",
              "      <td>25</td>\n",
              "      <td>21</td>\n",
              "      <td>26</td>\n",
              "      <td>23</td>\n",
              "      <td>2</td>\n",
              "      <td>0</td>\n",
              "      <td>...</td>\n",
              "      <td>13:17:46:144</td>\n",
              "      <td>dicer2</td>\n",
              "      <td>0.00 GB</td>\n",
              "      <td>1.63 MB</td>\n",
              "      <td>1671.92 KB</td>\n",
              "      <td>0.00 GB</td>\n",
              "      <td>0.41 MB</td>\n",
              "      <td>423.70 KB</td>\n",
              "      <td>21595.03</td>\n",
              "      <td>21.60</td>\n",
              "    </tr>\n",
              "    <tr>\n",
              "      <th>4</th>\n",
              "      <td>ZIKV_01</td>\n",
              "      <td>33757362</td>\n",
              "      <td>12837</td>\n",
              "      <td>742</td>\n",
              "      <td>66</td>\n",
              "      <td>346</td>\n",
              "      <td>330</td>\n",
              "      <td>36</td>\n",
              "      <td>30</td>\n",
              "      <td>99</td>\n",
              "      <td>...</td>\n",
              "      <td>09:28:07:815</td>\n",
              "      <td>dicer2</td>\n",
              "      <td>0.00 GB</td>\n",
              "      <td>1.79 MB</td>\n",
              "      <td>1836.12 KB</td>\n",
              "      <td>0.00 GB</td>\n",
              "      <td>0.55 MB</td>\n",
              "      <td>562.86 KB</td>\n",
              "      <td>33757.36</td>\n",
              "      <td>33.76</td>\n",
              "    </tr>\n",
              "    <tr>\n",
              "      <th>5</th>\n",
              "      <td>RNPM2_02</td>\n",
              "      <td>15102630</td>\n",
              "      <td>19160</td>\n",
              "      <td>1274</td>\n",
              "      <td>61</td>\n",
              "      <td>270</td>\n",
              "      <td>943</td>\n",
              "      <td>5</td>\n",
              "      <td>56</td>\n",
              "      <td>24</td>\n",
              "      <td>...</td>\n",
              "      <td>15:26:14:736</td>\n",
              "      <td>r2d2</td>\n",
              "      <td>0.00 GB</td>\n",
              "      <td>1.17 MB</td>\n",
              "      <td>1196.73 KB</td>\n",
              "      <td>0.00 GB</td>\n",
              "      <td>0.13 MB</td>\n",
              "      <td>136.49 KB</td>\n",
              "      <td>15102.63</td>\n",
              "      <td>15.10</td>\n",
              "    </tr>\n",
              "    <tr>\n",
              "      <th>6</th>\n",
              "      <td>RNPM110_02</td>\n",
              "      <td>20421283</td>\n",
              "      <td>5562</td>\n",
              "      <td>271</td>\n",
              "      <td>47</td>\n",
              "      <td>73</td>\n",
              "      <td>151</td>\n",
              "      <td>17</td>\n",
              "      <td>30</td>\n",
              "      <td>4</td>\n",
              "      <td>...</td>\n",
              "      <td>05:20:44:031</td>\n",
              "      <td>r2d2</td>\n",
              "      <td>0.00 GB</td>\n",
              "      <td>1.55 MB</td>\n",
              "      <td>1585.34 KB</td>\n",
              "      <td>0.00 GB</td>\n",
              "      <td>0.09 MB</td>\n",
              "      <td>87.93 KB</td>\n",
              "      <td>20421.28</td>\n",
              "      <td>20.42</td>\n",
              "    </tr>\n",
              "    <tr>\n",
              "      <th>7</th>\n",
              "      <td>RNPM169_01</td>\n",
              "      <td>19663205</td>\n",
              "      <td>1716</td>\n",
              "      <td>49</td>\n",
              "      <td>24</td>\n",
              "      <td>18</td>\n",
              "      <td>7</td>\n",
              "      <td>22</td>\n",
              "      <td>2</td>\n",
              "      <td>2</td>\n",
              "      <td>...</td>\n",
              "      <td>02:36:24:331</td>\n",
              "      <td>r2d2</td>\n",
              "      <td>0.00 GB</td>\n",
              "      <td>1.48 MB</td>\n",
              "      <td>1518.81 KB</td>\n",
              "      <td>0.00 GB</td>\n",
              "      <td>0.03 MB</td>\n",
              "      <td>29.48 KB</td>\n",
              "      <td>19663.21</td>\n",
              "      <td>19.66</td>\n",
              "    </tr>\n",
              "    <tr>\n",
              "      <th>8</th>\n",
              "      <td>RNPM170_01</td>\n",
              "      <td>24518179</td>\n",
              "      <td>3166</td>\n",
              "      <td>80</td>\n",
              "      <td>42</td>\n",
              "      <td>24</td>\n",
              "      <td>14</td>\n",
              "      <td>40</td>\n",
              "      <td>2</td>\n",
              "      <td>0</td>\n",
              "      <td>...</td>\n",
              "      <td>02:57:24:567</td>\n",
              "      <td>r2d2</td>\n",
              "      <td>0.00 GB</td>\n",
              "      <td>1.82 MB</td>\n",
              "      <td>1868.25 KB</td>\n",
              "      <td>0.00 GB</td>\n",
              "      <td>0.12 MB</td>\n",
              "      <td>126.71 KB</td>\n",
              "      <td>24518.18</td>\n",
              "      <td>24.52</td>\n",
              "    </tr>\n",
              "  </tbody>\n",
              "</table>\n",
              "<p>9 rows × 25 columns</p>\n",
              "</div>"
            ],
            "text/plain": [
              "           ID     Reads Contigs Contigs >= 200nt viral nonviral nohit  \\\n",
              "0   RNPM68_01  13125926    1247               19     2       12     5   \n",
              "1  RNPM164_01  44565086    2138               44    42       24    14   \n",
              "2  RNPM221_01  20062770    3560              379    20      297    62   \n",
              "3   RKPM44_06  21595029    1991               73    25       21    26   \n",
              "4     ZIKV_01  33757362   12837              742    66      346   330   \n",
              "5    RNPM2_02  15102630   19160             1274    61      270   943   \n",
              "6  RNPM110_02  20421283    5562              271    47       73   151   \n",
              "7  RNPM169_01  19663205    1716               49    24       18     7   \n",
              "8  RNPM170_01  24518179    3166               80    42       24    14   \n",
              "\n",
              "  viral [viral] viral [eve] nonviral [viral]  ...  Running Time  Server  \\\n",
              "0             1           1                0  ...  02:43:15:146  dicer2   \n",
              "1            40           2                0  ...  03:43:50:482  dicer2   \n",
              "2            11           9               23  ...  05:39:36:411  dicer2   \n",
              "3            23           2                0  ...  13:17:46:144  dicer2   \n",
              "4            36          30               99  ...  09:28:07:815  dicer2   \n",
              "5             5          56               24  ...  15:26:14:736    r2d2   \n",
              "6            17          30                4  ...  05:20:44:031    r2d2   \n",
              "7            22           2                2  ...  02:36:24:331    r2d2   \n",
              "8            40           2                0  ...  02:57:24:567    r2d2   \n",
              "\n",
              "  Input Size [GB] Input Size [MB] Input Size [KB] Output Size [GB]  \\\n",
              "0         0.00 GB         0.99 MB      1012.93 KB          0.00 GB   \n",
              "1         0.00 GB         3.29 MB      3365.76 KB          0.00 GB   \n",
              "2         0.00 GB         1.55 MB      1590.04 KB          0.00 GB   \n",
              "3         0.00 GB         1.63 MB      1671.92 KB          0.00 GB   \n",
              "4         0.00 GB         1.79 MB      1836.12 KB          0.00 GB   \n",
              "5         0.00 GB         1.17 MB      1196.73 KB          0.00 GB   \n",
              "6         0.00 GB         1.55 MB      1585.34 KB          0.00 GB   \n",
              "7         0.00 GB         1.48 MB      1518.81 KB          0.00 GB   \n",
              "8         0.00 GB         1.82 MB      1868.25 KB          0.00 GB   \n",
              "\n",
              "  Output Size [MB] Output Size [KB] Reads [×10^3] Reads [×10^6]  \n",
              "0          0.02 MB         25.09 KB      13125.93         13.13  \n",
              "1          0.37 MB        374.91 KB      44565.09         44.57  \n",
              "2          0.96 MB        986.86 KB      20062.77         20.06  \n",
              "3          0.41 MB        423.70 KB      21595.03         21.60  \n",
              "4          0.55 MB        562.86 KB      33757.36         33.76  \n",
              "5          0.13 MB        136.49 KB      15102.63         15.10  \n",
              "6          0.09 MB         87.93 KB      20421.28         20.42  \n",
              "7          0.03 MB         29.48 KB      19663.21         19.66  \n",
              "8          0.12 MB        126.71 KB      24518.18         24.52  \n",
              "\n",
              "[9 rows x 25 columns]"
            ]
          },
          "execution_count": 12,
          "metadata": {},
          "output_type": "execute_result"
        }
      ],
      "source": [
        "df_report2 = df_report.copy()\n",
        "\n",
        "col_input = 'Input Size'\n",
        "df_report2[f'{col_input} [GB]'] = df_report2[col_input].apply(bytes_2_gb_str)\n",
        "df_report2[f'{col_input} [MB]'] = df_report2[col_input].apply(bytes_2_mb_str)\n",
        "df_report2[f'{col_input} [KB]'] = df_report2[col_input].apply(bytes_2_kb_str)\n",
        "\n",
        "col_output = 'Output Size'\n",
        "df_report2[f'{col_output} [GB]'] = df_report2[col_output].apply(bytes_2_gb_str)\n",
        "df_report2[f'{col_output} [MB]'] = df_report2[col_output].apply(bytes_2_mb_str)\n",
        "df_report2[f'{col_output} [KB]'] = df_report2[col_output].apply(bytes_2_kb_str)\n",
        "\n",
        "# mask_thousands = lambda x: \"{:,.0f}\".format(x)\n",
        "mask_thousands = lambda x: \"{:.2f}\".format(x / 1000)\n",
        "mask_million = lambda x: \"{:.2f}\".format(x / 1000 / 1000)\n",
        "\n",
        "col_reads = 'Reads'\n",
        "df_report2[f'{col_reads} [×10^3]'] = df_report2[col_reads].apply(mask_thousands)\n",
        "df_report2[f'{col_reads} [×10^6]'] = df_report2[col_reads].apply(mask_million)\n",
        "df_report2"
      ]
    },
    {
      "cell_type": "code",
      "execution_count": 13,
      "metadata": {},
      "outputs": [
        {
          "name": "stdout",
          "output_type": "stream",
          "text": [
            "--  ------------------------------- Summary 01: Library sizes view  -------------------------------\n"
          ]
        },
        {
          "data": {
            "text/html": [
              "<div>\n",
              "<style scoped>\n",
              "    .dataframe tbody tr th:only-of-type {\n",
              "        vertical-align: middle;\n",
              "    }\n",
              "\n",
              "    .dataframe tbody tr th {\n",
              "        vertical-align: top;\n",
              "    }\n",
              "\n",
              "    .dataframe thead th {\n",
              "        text-align: right;\n",
              "    }\n",
              "</style>\n",
              "<table border=\"1\" class=\"dataframe\">\n",
              "  <thead>\n",
              "    <tr style=\"text-align: right;\">\n",
              "      <th></th>\n",
              "      <th>ID</th>\n",
              "      <th>Reads [×10^6]</th>\n",
              "      <th>Contigs</th>\n",
              "      <th>Contigs &gt;= 200nt</th>\n",
              "      <th>Input Size [KB]</th>\n",
              "      <th>Output Size [KB]</th>\n",
              "      <th>Running Time</th>\n",
              "      <th>Server</th>\n",
              "    </tr>\n",
              "  </thead>\n",
              "  <tbody>\n",
              "    <tr>\n",
              "      <th>0</th>\n",
              "      <td>RNPM68_01</td>\n",
              "      <td>13.13</td>\n",
              "      <td>1247</td>\n",
              "      <td>19</td>\n",
              "      <td>1012.93 KB</td>\n",
              "      <td>25.09 KB</td>\n",
              "      <td>02:43:15:146</td>\n",
              "      <td>dicer2</td>\n",
              "    </tr>\n",
              "    <tr>\n",
              "      <th>1</th>\n",
              "      <td>RNPM164_01</td>\n",
              "      <td>44.57</td>\n",
              "      <td>2138</td>\n",
              "      <td>44</td>\n",
              "      <td>3365.76 KB</td>\n",
              "      <td>374.91 KB</td>\n",
              "      <td>03:43:50:482</td>\n",
              "      <td>dicer2</td>\n",
              "    </tr>\n",
              "    <tr>\n",
              "      <th>2</th>\n",
              "      <td>RNPM221_01</td>\n",
              "      <td>20.06</td>\n",
              "      <td>3560</td>\n",
              "      <td>379</td>\n",
              "      <td>1590.04 KB</td>\n",
              "      <td>986.86 KB</td>\n",
              "      <td>05:39:36:411</td>\n",
              "      <td>dicer2</td>\n",
              "    </tr>\n",
              "    <tr>\n",
              "      <th>3</th>\n",
              "      <td>RKPM44_06</td>\n",
              "      <td>21.60</td>\n",
              "      <td>1991</td>\n",
              "      <td>73</td>\n",
              "      <td>1671.92 KB</td>\n",
              "      <td>423.70 KB</td>\n",
              "      <td>13:17:46:144</td>\n",
              "      <td>dicer2</td>\n",
              "    </tr>\n",
              "    <tr>\n",
              "      <th>4</th>\n",
              "      <td>ZIKV_01</td>\n",
              "      <td>33.76</td>\n",
              "      <td>12837</td>\n",
              "      <td>742</td>\n",
              "      <td>1836.12 KB</td>\n",
              "      <td>562.86 KB</td>\n",
              "      <td>09:28:07:815</td>\n",
              "      <td>dicer2</td>\n",
              "    </tr>\n",
              "    <tr>\n",
              "      <th>5</th>\n",
              "      <td>RNPM2_02</td>\n",
              "      <td>15.10</td>\n",
              "      <td>19160</td>\n",
              "      <td>1274</td>\n",
              "      <td>1196.73 KB</td>\n",
              "      <td>136.49 KB</td>\n",
              "      <td>15:26:14:736</td>\n",
              "      <td>r2d2</td>\n",
              "    </tr>\n",
              "    <tr>\n",
              "      <th>6</th>\n",
              "      <td>RNPM110_02</td>\n",
              "      <td>20.42</td>\n",
              "      <td>5562</td>\n",
              "      <td>271</td>\n",
              "      <td>1585.34 KB</td>\n",
              "      <td>87.93 KB</td>\n",
              "      <td>05:20:44:031</td>\n",
              "      <td>r2d2</td>\n",
              "    </tr>\n",
              "    <tr>\n",
              "      <th>7</th>\n",
              "      <td>RNPM169_01</td>\n",
              "      <td>19.66</td>\n",
              "      <td>1716</td>\n",
              "      <td>49</td>\n",
              "      <td>1518.81 KB</td>\n",
              "      <td>29.48 KB</td>\n",
              "      <td>02:36:24:331</td>\n",
              "      <td>r2d2</td>\n",
              "    </tr>\n",
              "    <tr>\n",
              "      <th>8</th>\n",
              "      <td>RNPM170_01</td>\n",
              "      <td>24.52</td>\n",
              "      <td>3166</td>\n",
              "      <td>80</td>\n",
              "      <td>1868.25 KB</td>\n",
              "      <td>126.71 KB</td>\n",
              "      <td>02:57:24:567</td>\n",
              "      <td>r2d2</td>\n",
              "    </tr>\n",
              "  </tbody>\n",
              "</table>\n",
              "</div>"
            ],
            "text/plain": [
              "           ID Reads [×10^6] Contigs Contigs >= 200nt Input Size [KB]  \\\n",
              "0   RNPM68_01         13.13    1247               19      1012.93 KB   \n",
              "1  RNPM164_01         44.57    2138               44      3365.76 KB   \n",
              "2  RNPM221_01         20.06    3560              379      1590.04 KB   \n",
              "3   RKPM44_06         21.60    1991               73      1671.92 KB   \n",
              "4     ZIKV_01         33.76   12837              742      1836.12 KB   \n",
              "5    RNPM2_02         15.10   19160             1274      1196.73 KB   \n",
              "6  RNPM110_02         20.42    5562              271      1585.34 KB   \n",
              "7  RNPM169_01         19.66    1716               49      1518.81 KB   \n",
              "8  RNPM170_01         24.52    3166               80      1868.25 KB   \n",
              "\n",
              "  Output Size [KB]  Running Time  Server  \n",
              "0         25.09 KB  02:43:15:146  dicer2  \n",
              "1        374.91 KB  03:43:50:482  dicer2  \n",
              "2        986.86 KB  05:39:36:411  dicer2  \n",
              "3        423.70 KB  13:17:46:144  dicer2  \n",
              "4        562.86 KB  09:28:07:815  dicer2  \n",
              "5        136.49 KB  15:26:14:736    r2d2  \n",
              "6         87.93 KB  05:20:44:031    r2d2  \n",
              "7         29.48 KB  02:36:24:331    r2d2  \n",
              "8        126.71 KB  02:57:24:567    r2d2  "
            ]
          },
          "execution_count": 13,
          "metadata": {},
          "output_type": "execute_result"
        }
      ],
      "source": [
        "cols_print = [\n",
        "    'ID',\n",
        "    'Reads [×10^6]',\n",
        "    'Contigs', 'Contigs >= 200nt',\n",
        "    # 'viral', 'nonviral', 'nohit',\n",
        "    'Input Size [KB]',\n",
        "    'Output Size [KB]',\n",
        "    'Running Time',\n",
        "    'Server',\n",
        "]\n",
        "\n",
        "df_report3 = df_report2[cols_print].copy()\n",
        "\n",
        "foo = lambda x: x*'-'\n",
        "baz = f'{foo(31)}'\n",
        "print(f'--  {baz} Summary 01: Library sizes view  {baz}')\n",
        "\n",
        "df_report3"
      ]
    },
    {
      "cell_type": "code",
      "execution_count": 14,
      "metadata": {},
      "outputs": [
        {
          "name": "stdout",
          "output_type": "stream",
          "text": [
            "--  ------------ Summary 02: Pipeline classification view  ------------\n"
          ]
        },
        {
          "data": {
            "text/html": [
              "<div>\n",
              "<style scoped>\n",
              "    .dataframe tbody tr th:only-of-type {\n",
              "        vertical-align: middle;\n",
              "    }\n",
              "\n",
              "    .dataframe tbody tr th {\n",
              "        vertical-align: top;\n",
              "    }\n",
              "\n",
              "    .dataframe thead th {\n",
              "        text-align: right;\n",
              "    }\n",
              "</style>\n",
              "<table border=\"1\" class=\"dataframe\">\n",
              "  <thead>\n",
              "    <tr style=\"text-align: right;\">\n",
              "      <th></th>\n",
              "      <th>ID</th>\n",
              "      <th>Reads [×10^6]</th>\n",
              "      <th>Contigs</th>\n",
              "      <th>Contigs &gt;= 200nt</th>\n",
              "      <th>viral</th>\n",
              "      <th>nonviral</th>\n",
              "      <th>nohit</th>\n",
              "    </tr>\n",
              "  </thead>\n",
              "  <tbody>\n",
              "    <tr>\n",
              "      <th>0</th>\n",
              "      <td>RNPM68_01</td>\n",
              "      <td>13.13</td>\n",
              "      <td>1247</td>\n",
              "      <td>19</td>\n",
              "      <td>2</td>\n",
              "      <td>12</td>\n",
              "      <td>5</td>\n",
              "    </tr>\n",
              "    <tr>\n",
              "      <th>1</th>\n",
              "      <td>RNPM164_01</td>\n",
              "      <td>44.57</td>\n",
              "      <td>2138</td>\n",
              "      <td>44</td>\n",
              "      <td>42</td>\n",
              "      <td>24</td>\n",
              "      <td>14</td>\n",
              "    </tr>\n",
              "    <tr>\n",
              "      <th>2</th>\n",
              "      <td>RNPM221_01</td>\n",
              "      <td>20.06</td>\n",
              "      <td>3560</td>\n",
              "      <td>379</td>\n",
              "      <td>20</td>\n",
              "      <td>297</td>\n",
              "      <td>62</td>\n",
              "    </tr>\n",
              "    <tr>\n",
              "      <th>3</th>\n",
              "      <td>RKPM44_06</td>\n",
              "      <td>21.60</td>\n",
              "      <td>1991</td>\n",
              "      <td>73</td>\n",
              "      <td>25</td>\n",
              "      <td>21</td>\n",
              "      <td>26</td>\n",
              "    </tr>\n",
              "    <tr>\n",
              "      <th>4</th>\n",
              "      <td>ZIKV_01</td>\n",
              "      <td>33.76</td>\n",
              "      <td>12837</td>\n",
              "      <td>742</td>\n",
              "      <td>66</td>\n",
              "      <td>346</td>\n",
              "      <td>330</td>\n",
              "    </tr>\n",
              "    <tr>\n",
              "      <th>5</th>\n",
              "      <td>RNPM2_02</td>\n",
              "      <td>15.10</td>\n",
              "      <td>19160</td>\n",
              "      <td>1274</td>\n",
              "      <td>61</td>\n",
              "      <td>270</td>\n",
              "      <td>943</td>\n",
              "    </tr>\n",
              "    <tr>\n",
              "      <th>6</th>\n",
              "      <td>RNPM110_02</td>\n",
              "      <td>20.42</td>\n",
              "      <td>5562</td>\n",
              "      <td>271</td>\n",
              "      <td>47</td>\n",
              "      <td>73</td>\n",
              "      <td>151</td>\n",
              "    </tr>\n",
              "    <tr>\n",
              "      <th>7</th>\n",
              "      <td>RNPM169_01</td>\n",
              "      <td>19.66</td>\n",
              "      <td>1716</td>\n",
              "      <td>49</td>\n",
              "      <td>24</td>\n",
              "      <td>18</td>\n",
              "      <td>7</td>\n",
              "    </tr>\n",
              "    <tr>\n",
              "      <th>8</th>\n",
              "      <td>RNPM170_01</td>\n",
              "      <td>24.52</td>\n",
              "      <td>3166</td>\n",
              "      <td>80</td>\n",
              "      <td>42</td>\n",
              "      <td>24</td>\n",
              "      <td>14</td>\n",
              "    </tr>\n",
              "  </tbody>\n",
              "</table>\n",
              "</div>"
            ],
            "text/plain": [
              "           ID Reads [×10^6] Contigs Contigs >= 200nt viral nonviral nohit\n",
              "0   RNPM68_01         13.13    1247               19     2       12     5\n",
              "1  RNPM164_01         44.57    2138               44    42       24    14\n",
              "2  RNPM221_01         20.06    3560              379    20      297    62\n",
              "3   RKPM44_06         21.60    1991               73    25       21    26\n",
              "4     ZIKV_01         33.76   12837              742    66      346   330\n",
              "5    RNPM2_02         15.10   19160             1274    61      270   943\n",
              "6  RNPM110_02         20.42    5562              271    47       73   151\n",
              "7  RNPM169_01         19.66    1716               49    24       18     7\n",
              "8  RNPM170_01         24.52    3166               80    42       24    14"
            ]
          },
          "execution_count": 14,
          "metadata": {},
          "output_type": "execute_result"
        }
      ],
      "source": [
        "\n",
        "cols_print = [\n",
        "    'ID',\n",
        "    'Reads [×10^6]',\n",
        "    'Contigs', \n",
        "    'Contigs >= 200nt',\n",
        "    'viral', 'nonviral', 'nohit',\n",
        "    # 'viral [viral]', 'viral [eve]',\n",
        "    # 'nonviral [viral]', 'nonviral [eve]',\n",
        "    # 'nohit [viral]', 'nohit [eve]',\n",
        "    # 'Input Size',\n",
        "    # 'Output Size',\n",
        "    # 'Running Time'\n",
        "]\n",
        "\n",
        "df_report4 = df_report2[cols_print].copy()\n",
        "\n",
        "foo = lambda x: x*'-'\n",
        "baz = f'{foo(12)}'\n",
        "print(f'--  {baz} Summary 02: Pipeline classification view  {baz}')\n",
        "\n",
        "df_report4"
      ]
    },
    {
      "cell_type": "code",
      "execution_count": 15,
      "metadata": {},
      "outputs": [
        {
          "name": "stdout",
          "output_type": "stream",
          "text": [
            "--  ------------------ Summary 03: Pipeline × Classifier classifications comparison  ------------------\n"
          ]
        },
        {
          "data": {
            "text/html": [
              "<div>\n",
              "<style scoped>\n",
              "    .dataframe tbody tr th:only-of-type {\n",
              "        vertical-align: middle;\n",
              "    }\n",
              "\n",
              "    .dataframe tbody tr th {\n",
              "        vertical-align: top;\n",
              "    }\n",
              "\n",
              "    .dataframe thead th {\n",
              "        text-align: right;\n",
              "    }\n",
              "</style>\n",
              "<table border=\"1\" class=\"dataframe\">\n",
              "  <thead>\n",
              "    <tr style=\"text-align: right;\">\n",
              "      <th></th>\n",
              "      <th>ID</th>\n",
              "      <th>viral</th>\n",
              "      <th>nonviral</th>\n",
              "      <th>nohit</th>\n",
              "      <th>viral [viral]</th>\n",
              "      <th>viral [eve]</th>\n",
              "      <th>nonviral [viral]</th>\n",
              "      <th>nonviral [eve]</th>\n",
              "      <th>nohit [viral]</th>\n",
              "      <th>nohit [eve]</th>\n",
              "    </tr>\n",
              "  </thead>\n",
              "  <tbody>\n",
              "    <tr>\n",
              "      <th>0</th>\n",
              "      <td>RNPM68_01</td>\n",
              "      <td>2</td>\n",
              "      <td>12</td>\n",
              "      <td>5</td>\n",
              "      <td>1</td>\n",
              "      <td>1</td>\n",
              "      <td>0</td>\n",
              "      <td>12</td>\n",
              "      <td>0</td>\n",
              "      <td>5</td>\n",
              "    </tr>\n",
              "    <tr>\n",
              "      <th>1</th>\n",
              "      <td>RNPM164_01</td>\n",
              "      <td>42</td>\n",
              "      <td>24</td>\n",
              "      <td>14</td>\n",
              "      <td>40</td>\n",
              "      <td>2</td>\n",
              "      <td>0</td>\n",
              "      <td>24</td>\n",
              "      <td>0</td>\n",
              "      <td>14</td>\n",
              "    </tr>\n",
              "    <tr>\n",
              "      <th>2</th>\n",
              "      <td>RNPM221_01</td>\n",
              "      <td>20</td>\n",
              "      <td>297</td>\n",
              "      <td>62</td>\n",
              "      <td>11</td>\n",
              "      <td>9</td>\n",
              "      <td>23</td>\n",
              "      <td>274</td>\n",
              "      <td>4</td>\n",
              "      <td>58</td>\n",
              "    </tr>\n",
              "    <tr>\n",
              "      <th>3</th>\n",
              "      <td>RKPM44_06</td>\n",
              "      <td>25</td>\n",
              "      <td>21</td>\n",
              "      <td>26</td>\n",
              "      <td>23</td>\n",
              "      <td>2</td>\n",
              "      <td>0</td>\n",
              "      <td>21</td>\n",
              "      <td>0</td>\n",
              "      <td>26</td>\n",
              "    </tr>\n",
              "    <tr>\n",
              "      <th>4</th>\n",
              "      <td>ZIKV_01</td>\n",
              "      <td>66</td>\n",
              "      <td>346</td>\n",
              "      <td>330</td>\n",
              "      <td>36</td>\n",
              "      <td>30</td>\n",
              "      <td>99</td>\n",
              "      <td>247</td>\n",
              "      <td>93</td>\n",
              "      <td>237</td>\n",
              "    </tr>\n",
              "    <tr>\n",
              "      <th>5</th>\n",
              "      <td>RNPM2_02</td>\n",
              "      <td>61</td>\n",
              "      <td>270</td>\n",
              "      <td>943</td>\n",
              "      <td>5</td>\n",
              "      <td>56</td>\n",
              "      <td>24</td>\n",
              "      <td>246</td>\n",
              "      <td>64</td>\n",
              "      <td>879</td>\n",
              "    </tr>\n",
              "    <tr>\n",
              "      <th>6</th>\n",
              "      <td>RNPM110_02</td>\n",
              "      <td>47</td>\n",
              "      <td>73</td>\n",
              "      <td>151</td>\n",
              "      <td>17</td>\n",
              "      <td>30</td>\n",
              "      <td>4</td>\n",
              "      <td>69</td>\n",
              "      <td>1</td>\n",
              "      <td>150</td>\n",
              "    </tr>\n",
              "    <tr>\n",
              "      <th>7</th>\n",
              "      <td>RNPM169_01</td>\n",
              "      <td>24</td>\n",
              "      <td>18</td>\n",
              "      <td>7</td>\n",
              "      <td>22</td>\n",
              "      <td>2</td>\n",
              "      <td>2</td>\n",
              "      <td>16</td>\n",
              "      <td>0</td>\n",
              "      <td>7</td>\n",
              "    </tr>\n",
              "    <tr>\n",
              "      <th>8</th>\n",
              "      <td>RNPM170_01</td>\n",
              "      <td>42</td>\n",
              "      <td>24</td>\n",
              "      <td>14</td>\n",
              "      <td>40</td>\n",
              "      <td>2</td>\n",
              "      <td>0</td>\n",
              "      <td>24</td>\n",
              "      <td>0</td>\n",
              "      <td>14</td>\n",
              "    </tr>\n",
              "  </tbody>\n",
              "</table>\n",
              "</div>"
            ],
            "text/plain": [
              "           ID viral nonviral nohit viral [viral] viral [eve] nonviral [viral]  \\\n",
              "0   RNPM68_01     2       12     5             1           1                0   \n",
              "1  RNPM164_01    42       24    14            40           2                0   \n",
              "2  RNPM221_01    20      297    62            11           9               23   \n",
              "3   RKPM44_06    25       21    26            23           2                0   \n",
              "4     ZIKV_01    66      346   330            36          30               99   \n",
              "5    RNPM2_02    61      270   943             5          56               24   \n",
              "6  RNPM110_02    47       73   151            17          30                4   \n",
              "7  RNPM169_01    24       18     7            22           2                2   \n",
              "8  RNPM170_01    42       24    14            40           2                0   \n",
              "\n",
              "  nonviral [eve] nohit [viral] nohit [eve]  \n",
              "0             12             0           5  \n",
              "1             24             0          14  \n",
              "2            274             4          58  \n",
              "3             21             0          26  \n",
              "4            247            93         237  \n",
              "5            246            64         879  \n",
              "6             69             1         150  \n",
              "7             16             0           7  \n",
              "8             24             0          14  "
            ]
          },
          "execution_count": 15,
          "metadata": {},
          "output_type": "execute_result"
        }
      ],
      "source": [
        "\n",
        "cols_print = [\n",
        "    'ID',\n",
        "    # 'Reads [×10^6]',\n",
        "    # 'Contigs', \n",
        "    # 'Contigs >= 200nt',\n",
        "    'viral', 'nonviral', 'nohit',\n",
        "    'viral [viral]', 'viral [eve]',\n",
        "    'nonviral [viral]', 'nonviral [eve]',\n",
        "    'nohit [viral]', 'nohit [eve]',\n",
        "    # 'Input Size',\n",
        "    # 'Output Size',\n",
        "    # 'Running Time'\n",
        "]\n",
        "\n",
        "df_report5 = df_report2[cols_print].copy()\n",
        "\n",
        "foo = lambda x: x*'-'\n",
        "baz = f'{foo(18)}'\n",
        "print(f'--  {baz} Summary 03: Pipeline × Classifier classifications comparison  {baz}')\n",
        "\n",
        "df_report5"
      ]
    },
    {
      "cell_type": "code",
      "execution_count": 16,
      "metadata": {},
      "outputs": [
        {
          "data": {
            "text/html": [
              "<div>\n",
              "<style scoped>\n",
              "    .dataframe tbody tr th:only-of-type {\n",
              "        vertical-align: middle;\n",
              "    }\n",
              "\n",
              "    .dataframe tbody tr th {\n",
              "        vertical-align: top;\n",
              "    }\n",
              "\n",
              "    .dataframe thead th {\n",
              "        text-align: right;\n",
              "    }\n",
              "</style>\n",
              "<table border=\"1\" class=\"dataframe\">\n",
              "  <thead>\n",
              "    <tr style=\"text-align: right;\">\n",
              "      <th></th>\n",
              "      <th>ID</th>\n",
              "      <th>viral</th>\n",
              "      <th>nonviral</th>\n",
              "      <th>nohit</th>\n",
              "      <th>viral [viral]</th>\n",
              "      <th>viral [eve]</th>\n",
              "      <th>nonviral [viral]</th>\n",
              "      <th>nonviral [eve]</th>\n",
              "      <th>nohit [viral]</th>\n",
              "      <th>nohit [eve]</th>\n",
              "      <th>nv_v %</th>\n",
              "      <th>nh_v %</th>\n",
              "      <th>foo %</th>\n",
              "    </tr>\n",
              "  </thead>\n",
              "  <tbody>\n",
              "    <tr>\n",
              "      <th>0</th>\n",
              "      <td>RNPM68_01</td>\n",
              "      <td>2</td>\n",
              "      <td>12</td>\n",
              "      <td>5</td>\n",
              "      <td>1</td>\n",
              "      <td>1</td>\n",
              "      <td>0</td>\n",
              "      <td>12</td>\n",
              "      <td>0</td>\n",
              "      <td>5</td>\n",
              "      <td>0.0</td>\n",
              "      <td>0.0</td>\n",
              "      <td>0.0</td>\n",
              "    </tr>\n",
              "    <tr>\n",
              "      <th>1</th>\n",
              "      <td>RNPM164_01</td>\n",
              "      <td>42</td>\n",
              "      <td>24</td>\n",
              "      <td>14</td>\n",
              "      <td>40</td>\n",
              "      <td>2</td>\n",
              "      <td>0</td>\n",
              "      <td>24</td>\n",
              "      <td>0</td>\n",
              "      <td>14</td>\n",
              "      <td>0.0</td>\n",
              "      <td>0.0</td>\n",
              "      <td>0.0</td>\n",
              "    </tr>\n",
              "    <tr>\n",
              "      <th>3</th>\n",
              "      <td>RKPM44_06</td>\n",
              "      <td>25</td>\n",
              "      <td>21</td>\n",
              "      <td>26</td>\n",
              "      <td>23</td>\n",
              "      <td>2</td>\n",
              "      <td>0</td>\n",
              "      <td>21</td>\n",
              "      <td>0</td>\n",
              "      <td>26</td>\n",
              "      <td>0.0</td>\n",
              "      <td>0.0</td>\n",
              "      <td>0.0</td>\n",
              "    </tr>\n",
              "    <tr>\n",
              "      <th>8</th>\n",
              "      <td>RNPM170_01</td>\n",
              "      <td>42</td>\n",
              "      <td>24</td>\n",
              "      <td>14</td>\n",
              "      <td>40</td>\n",
              "      <td>2</td>\n",
              "      <td>0</td>\n",
              "      <td>24</td>\n",
              "      <td>0</td>\n",
              "      <td>14</td>\n",
              "      <td>0.0</td>\n",
              "      <td>0.0</td>\n",
              "      <td>0.0</td>\n",
              "    </tr>\n",
              "    <tr>\n",
              "      <th>6</th>\n",
              "      <td>RNPM110_02</td>\n",
              "      <td>47</td>\n",
              "      <td>73</td>\n",
              "      <td>151</td>\n",
              "      <td>17</td>\n",
              "      <td>30</td>\n",
              "      <td>4</td>\n",
              "      <td>69</td>\n",
              "      <td>1</td>\n",
              "      <td>150</td>\n",
              "      <td>5.797101</td>\n",
              "      <td>0.666667</td>\n",
              "      <td>2.283105</td>\n",
              "    </tr>\n",
              "    <tr>\n",
              "      <th>5</th>\n",
              "      <td>RNPM2_02</td>\n",
              "      <td>61</td>\n",
              "      <td>270</td>\n",
              "      <td>943</td>\n",
              "      <td>5</td>\n",
              "      <td>56</td>\n",
              "      <td>24</td>\n",
              "      <td>246</td>\n",
              "      <td>64</td>\n",
              "      <td>879</td>\n",
              "      <td>9.756098</td>\n",
              "      <td>7.281001</td>\n",
              "      <td>7.822222</td>\n",
              "    </tr>\n",
              "    <tr>\n",
              "      <th>2</th>\n",
              "      <td>RNPM221_01</td>\n",
              "      <td>20</td>\n",
              "      <td>297</td>\n",
              "      <td>62</td>\n",
              "      <td>11</td>\n",
              "      <td>9</td>\n",
              "      <td>23</td>\n",
              "      <td>274</td>\n",
              "      <td>4</td>\n",
              "      <td>58</td>\n",
              "      <td>8.394161</td>\n",
              "      <td>6.896552</td>\n",
              "      <td>8.13253</td>\n",
              "    </tr>\n",
              "    <tr>\n",
              "      <th>7</th>\n",
              "      <td>RNPM169_01</td>\n",
              "      <td>24</td>\n",
              "      <td>18</td>\n",
              "      <td>7</td>\n",
              "      <td>22</td>\n",
              "      <td>2</td>\n",
              "      <td>2</td>\n",
              "      <td>16</td>\n",
              "      <td>0</td>\n",
              "      <td>7</td>\n",
              "      <td>12.5</td>\n",
              "      <td>0.0</td>\n",
              "      <td>8.695652</td>\n",
              "    </tr>\n",
              "    <tr>\n",
              "      <th>4</th>\n",
              "      <td>ZIKV_01</td>\n",
              "      <td>66</td>\n",
              "      <td>346</td>\n",
              "      <td>330</td>\n",
              "      <td>36</td>\n",
              "      <td>30</td>\n",
              "      <td>99</td>\n",
              "      <td>247</td>\n",
              "      <td>93</td>\n",
              "      <td>237</td>\n",
              "      <td>40.080972</td>\n",
              "      <td>39.240506</td>\n",
              "      <td>39.669421</td>\n",
              "    </tr>\n",
              "  </tbody>\n",
              "</table>\n",
              "</div>"
            ],
            "text/plain": [
              "           ID viral nonviral nohit viral [viral] viral [eve] nonviral [viral]  \\\n",
              "0   RNPM68_01     2       12     5             1           1                0   \n",
              "1  RNPM164_01    42       24    14            40           2                0   \n",
              "3   RKPM44_06    25       21    26            23           2                0   \n",
              "8  RNPM170_01    42       24    14            40           2                0   \n",
              "6  RNPM110_02    47       73   151            17          30                4   \n",
              "5    RNPM2_02    61      270   943             5          56               24   \n",
              "2  RNPM221_01    20      297    62            11           9               23   \n",
              "7  RNPM169_01    24       18     7            22           2                2   \n",
              "4     ZIKV_01    66      346   330            36          30               99   \n",
              "\n",
              "  nonviral [eve] nohit [viral] nohit [eve]     nv_v %     nh_v %      foo %  \n",
              "0             12             0           5        0.0        0.0        0.0  \n",
              "1             24             0          14        0.0        0.0        0.0  \n",
              "3             21             0          26        0.0        0.0        0.0  \n",
              "8             24             0          14        0.0        0.0        0.0  \n",
              "6             69             1         150   5.797101   0.666667   2.283105  \n",
              "5            246            64         879   9.756098   7.281001   7.822222  \n",
              "2            274             4          58   8.394161   6.896552    8.13253  \n",
              "7             16             0           7       12.5        0.0   8.695652  \n",
              "4            247            93         237  40.080972  39.240506  39.669421  "
            ]
          },
          "execution_count": 16,
          "metadata": {},
          "output_type": "execute_result"
        }
      ],
      "source": [
        "\n",
        "# ID\tviral\tnonviral\tnohit\tviral [viral]\tviral [eve]\tnonviral [viral]\tnonviral [eve]\tnohit [viral]\tnohit [eve]\n",
        "\n",
        "# 0\tRNPM68_01\t2\t12\t5\t1\t1\t                0\t12\t0\t5\n",
        "# 1\tRNPM164_01\t42\t24\t14\t40\t2\t                0\t24\t0\t14\n",
        "# 3\tRKPM44_06\t25\t21\t26\t23\t2\t                0\t21\t0\t26\n",
        "# 8\tRNPM170_01\t42\t24\t14\t40\t2\t                0\t24\t0\t14\n",
        "\n",
        "# 7\tRNPM169_01\t24\t18\t7\t22\t2\t                2\t16\t0\t7\n",
        "# 6\tRNPM110_02\t47\t73\t151\t17\t30\t                4\t69\t1\t150\n",
        "# 5\tRNPM2_02\t61\t270\t943\t5\t56\t                24\t246\t64\t879\n",
        "\n",
        "# 2\tRNPM221_01\t20\t297\t62\t11\t9\t                23\t274\t4\t58\n",
        "# 4\tZIKV_01\t66\t346\t330\t36\t30\t                    99  247\t93\t237\n",
        "\n",
        "\n",
        "\n",
        "# RNPM68_01, RNPM164_01, RKPM44_06, RNPM170_01\n",
        "\n",
        "df_pumba = df_report5.copy()\n",
        "df_pumba['nv_v %'] = 100 * (df_pumba['nonviral [viral]'] / df_pumba['nonviral [eve]'])\n",
        "df_pumba['nh_v %'] = 100 * (df_pumba['nohit [viral]'] / df_pumba['nohit [eve]'])\n",
        "\n",
        "df_pumba['foo %'] = 100 * (df_pumba['nonviral [viral]'] + df_pumba['nohit [viral]']) / (df_pumba['nonviral [eve]'] + df_pumba['nohit [eve]'])\n",
        "df_pumba.sort_values(by=['foo %'])\n",
        "\n",
        "\n",
        "# RNPM68_01, RNPM164_01, RKPM44_06, RNPM170_01\n",
        "# RNPM110_02, RNPM221_01, RNPM2_02\n",
        "\n",
        "\n",
        "# 0\tRNPM68_01\t2\t12\t5\t1\t1\t        0\t12\t0\t5\t0.0\n",
        "# 1\tRNPM164_01\t42\t24\t14\t40\t2\t        0\t24\t0\t14\t0.0\n",
        "# 3\tRKPM44_06\t25\t21\t26\t23\t2\t        0\t21\t0\t26\t0.0\n",
        "# 8\tRNPM170_01\t42\t24\t14\t40\t2\t        0\t24\t0\t14\t0.0\n",
        "\n",
        "# 6\tRNPM110_02\t47\t73\t151\t17\t30\t        4\t69\t1\t150\t5.797101\n",
        "# 2\tRNPM221_01\t20\t297\t62\t11\t9\t        23\t274\t4\t58\t8.394161\n",
        "# 5\tRNPM2_02\t61\t270\t943\t5\t56\t        24\t246\t64\t879\t9.756098\n",
        "\n",
        "# 7\tRNPM169_01\t24\t18\t7\t22\t2\t        2\t16\t0\t7\t12.5\n",
        "# 4\tZIKV_01\t66\t346\t330\t36\t30\t            99\t247\t93\t237\t40.080972"
      ]
    },
    {
      "cell_type": "code",
      "execution_count": 17,
      "metadata": {},
      "outputs": [],
      "source": [
        "from datetime import datetime\n",
        "\n",
        "def time_str_2_hours(time_str: str) -> int:\n",
        "    time_format = '%H:%M:%S:%f'\n",
        "    time_obj = datetime.strptime(time_str, time_format)\n",
        "    n_hours = (time_obj.microsecond / 1000000 + time_obj.second + time_obj.minute * 60 + time_obj.hour * 3600) / 3600\n",
        "    return n_hours"
      ]
    },
    {
      "cell_type": "code",
      "execution_count": 18,
      "metadata": {},
      "outputs": [
        {
          "data": {
            "text/html": [
              "<div>\n",
              "<style scoped>\n",
              "    .dataframe tbody tr th:only-of-type {\n",
              "        vertical-align: middle;\n",
              "    }\n",
              "\n",
              "    .dataframe tbody tr th {\n",
              "        vertical-align: top;\n",
              "    }\n",
              "\n",
              "    .dataframe thead th {\n",
              "        text-align: right;\n",
              "    }\n",
              "</style>\n",
              "<table border=\"1\" class=\"dataframe\">\n",
              "  <thead>\n",
              "    <tr style=\"text-align: right;\">\n",
              "      <th></th>\n",
              "      <th>ID</th>\n",
              "      <th>Reads</th>\n",
              "      <th>Reads [×10^6]</th>\n",
              "      <th>Running Time</th>\n",
              "      <th>Server</th>\n",
              "      <th>Running Hours</th>\n",
              "    </tr>\n",
              "  </thead>\n",
              "  <tbody>\n",
              "    <tr>\n",
              "      <th>7</th>\n",
              "      <td>RNPM169_01</td>\n",
              "      <td>19663205</td>\n",
              "      <td>19.66</td>\n",
              "      <td>02:36:24:331</td>\n",
              "      <td>r2d2</td>\n",
              "      <td>2.606759</td>\n",
              "    </tr>\n",
              "    <tr>\n",
              "      <th>0</th>\n",
              "      <td>RNPM68_01</td>\n",
              "      <td>13125926</td>\n",
              "      <td>13.13</td>\n",
              "      <td>02:43:15:146</td>\n",
              "      <td>dicer2</td>\n",
              "      <td>2.720874</td>\n",
              "    </tr>\n",
              "    <tr>\n",
              "      <th>8</th>\n",
              "      <td>RNPM170_01</td>\n",
              "      <td>24518179</td>\n",
              "      <td>24.52</td>\n",
              "      <td>02:57:24:567</td>\n",
              "      <td>r2d2</td>\n",
              "      <td>2.956824</td>\n",
              "    </tr>\n",
              "    <tr>\n",
              "      <th>1</th>\n",
              "      <td>RNPM164_01</td>\n",
              "      <td>44565086</td>\n",
              "      <td>44.57</td>\n",
              "      <td>03:43:50:482</td>\n",
              "      <td>dicer2</td>\n",
              "      <td>3.730689</td>\n",
              "    </tr>\n",
              "    <tr>\n",
              "      <th>6</th>\n",
              "      <td>RNPM110_02</td>\n",
              "      <td>20421283</td>\n",
              "      <td>20.42</td>\n",
              "      <td>05:20:44:031</td>\n",
              "      <td>r2d2</td>\n",
              "      <td>5.345564</td>\n",
              "    </tr>\n",
              "    <tr>\n",
              "      <th>2</th>\n",
              "      <td>RNPM221_01</td>\n",
              "      <td>20062770</td>\n",
              "      <td>20.06</td>\n",
              "      <td>05:39:36:411</td>\n",
              "      <td>dicer2</td>\n",
              "      <td>5.660114</td>\n",
              "    </tr>\n",
              "    <tr>\n",
              "      <th>4</th>\n",
              "      <td>ZIKV_01</td>\n",
              "      <td>33757362</td>\n",
              "      <td>33.76</td>\n",
              "      <td>09:28:07:815</td>\n",
              "      <td>dicer2</td>\n",
              "      <td>9.468838</td>\n",
              "    </tr>\n",
              "    <tr>\n",
              "      <th>3</th>\n",
              "      <td>RKPM44_06</td>\n",
              "      <td>21595029</td>\n",
              "      <td>21.60</td>\n",
              "      <td>13:17:46:144</td>\n",
              "      <td>dicer2</td>\n",
              "      <td>13.296151</td>\n",
              "    </tr>\n",
              "    <tr>\n",
              "      <th>5</th>\n",
              "      <td>RNPM2_02</td>\n",
              "      <td>15102630</td>\n",
              "      <td>15.10</td>\n",
              "      <td>15:26:14:736</td>\n",
              "      <td>r2d2</td>\n",
              "      <td>15.437427</td>\n",
              "    </tr>\n",
              "  </tbody>\n",
              "</table>\n",
              "</div>"
            ],
            "text/plain": [
              "           ID     Reads Reads [×10^6]  Running Time  Server  Running Hours\n",
              "7  RNPM169_01  19663205         19.66  02:36:24:331    r2d2       2.606759\n",
              "0   RNPM68_01  13125926         13.13  02:43:15:146  dicer2       2.720874\n",
              "8  RNPM170_01  24518179         24.52  02:57:24:567    r2d2       2.956824\n",
              "1  RNPM164_01  44565086         44.57  03:43:50:482  dicer2       3.730689\n",
              "6  RNPM110_02  20421283         20.42  05:20:44:031    r2d2       5.345564\n",
              "2  RNPM221_01  20062770         20.06  05:39:36:411  dicer2       5.660114\n",
              "4     ZIKV_01  33757362         33.76  09:28:07:815  dicer2       9.468838\n",
              "3   RKPM44_06  21595029         21.60  13:17:46:144  dicer2      13.296151\n",
              "5    RNPM2_02  15102630         15.10  15:26:14:736    r2d2      15.437427"
            ]
          },
          "execution_count": 18,
          "metadata": {},
          "output_type": "execute_result"
        }
      ],
      "source": [
        "\n",
        "cols_print = [\n",
        "    'ID',\n",
        "    'Reads',\n",
        "    'Reads [×10^6]',\n",
        "    # 'Contigs', \n",
        "    # 'Contigs >= 200nt',\n",
        "    # 'viral', 'nonviral', 'nohit',\n",
        "    # 'viral [viral]', 'viral [eve]',\n",
        "    # 'nonviral [viral]', 'nonviral [eve]',\n",
        "    # 'nohit [viral]', 'nohit [eve]',\n",
        "    # 'Input Size',\n",
        "    # 'Output Size',\n",
        "    'Running Time',\n",
        "    'Server',\n",
        "]\n",
        "\n",
        "df_report6 = df_report2[cols_print].copy()\n",
        "df_report6['Running Hours'] = df_report6['Running Time'].apply(time_str_2_hours)\n",
        "\n",
        "# df_report6[ ['Reads', 'Running Hours'] ].sort_values(by=['Running Hours'])\n",
        "df_report6.sort_values(by=['Running Hours'])\n",
        "\n",
        "# foo = lambda x: x*'-'\n",
        "# baz = f'{foo(18)}'\n",
        "# print(f'--  {baz} Summary 03: Pipeline × Classifier classifications comparison  {baz}')\n",
        "\n",
        "# df_report6"
      ]
    },
    {
      "attachments": {},
      "cell_type": "markdown",
      "metadata": {},
      "source": [
        "### Graphs"
      ]
    },
    {
      "cell_type": "code",
      "execution_count": 10,
      "metadata": {},
      "outputs": [],
      "source": [
        "import matplotlib.pyplot as plt\n",
        "from matplotlib.patches import ConnectionPatch\n",
        "import numpy as np"
      ]
    },
    {
      "cell_type": "code",
      "execution_count": 59,
      "metadata": {},
      "outputs": [
        {
          "data": {
            "image/png": "[encoded data removed]",
            "text/plain": [
              "<Figure size 1000x500 with 1 Axes>"
            ]
          },
          "metadata": {},
          "output_type": "display_data"
        }
      ],
      "source": [
        "import matplotlib.pyplot as plt\n",
        "import numpy as np\n",
        "\n",
        "# plot\n",
        "fig, ax = plt.subplots(figsize=(10, 5))\n",
        "\n",
        "x = df_report6['Reads [×10^6]']\n",
        "y = df_report6['Running Hours']\n",
        "\n",
        "ax.scatter(x, y)\n",
        "\n",
        "max_time = 0\n",
        "for i in range(df_report6.shape[0]):\n",
        "    row = df_report6.iloc[i]\n",
        "\n",
        "    if y[i] > max_time:\n",
        "        max_time = y[i]\n",
        "    ax.annotate(row['ID'], (x[i], y[i]), textcoords=\"offset points\", xytext=(0, 10), ha='center')\n",
        "\n",
        "ax.set(\n",
        "    # xlim=(0, 20), xticks=np.arange(1, 18),\n",
        "    # xlim=(0, 20), xticks=np.arange(1, 18),\n",
        "    # ylim=(0, 8), yticks=np.arange(1, 8))\n",
        "    ylim=(0, max_time + 4),\n",
        "    # yticks=np.arange(1, 8)\n",
        "    xlabel='Number of Reads (×10^6)',\n",
        "    ylabel='Hours',\n",
        ")\n",
        "\n",
        "ax.set_title('Input reads × Running Time')\n",
        "plt.show()"
      ]
    },
    {
      "cell_type": "code",
      "execution_count": 39,
      "metadata": {},
      "outputs": [
        {
          "data": {
            "text/plain": [
              "742"
            ]
          },
          "execution_count": 39,
          "metadata": {},
          "output_type": "execute_result"
        }
      ],
      "source": [
        "66+346+\t330"
      ]
    },
    {
      "cell_type": "code",
      "execution_count": 14,
      "metadata": {},
      "outputs": [
        {
          "data": {
            "application/vnd.plotly.v1+json": {
              "config": {
                "plotlyServerURL": "https://plot.ly"
              },
              "data": [
                {
                  "labels": [
                    "Eve",
                    "Cain",
                    "Seth",
                    "Enos",
                    "Noam",
                    "Abel",
                    "Awan",
                    "Enoch",
                    "Azura"
                  ],
                  "parents": [
                    "",
                    "Eve",
                    "Eve",
                    "Seth",
                    "Seth",
                    "Eve",
                    "Eve",
                    "Awan",
                    "Eve"
                  ],
                  "type": "sunburst",
                  "values": [
                    10,
                    14,
                    12,
                    10,
                    2,
                    6,
                    6,
                    4,
                    4
                  ]
                }
              ],
              "layout": {
                "margin": {
                  "b": 0,
                  "l": 0,
                  "r": 0,
                  "t": 0
                },
                "template": {
                  "data": {
                    "bar": [
                      {
                        "error_x": {
                          "color": "#2a3f5f"
                        },
                        "error_y": {
                          "color": "#2a3f5f"
                        },
                        "marker": {
                          "line": {
                            "color": "#E5ECF6",
                            "width": 0.5
                          },
                          "pattern": {
                            "fillmode": "overlay",
                            "size": 10,
                            "solidity": 0.2
                          }
                        },
                        "type": "bar"
                      }
                    ],
                    "barpolar": [
                      {
                        "marker": {
                          "line": {
                            "color": "#E5ECF6",
                            "width": 0.5
                          },
                          "pattern": {
                            "fillmode": "overlay",
                            "size": 10,
                            "solidity": 0.2
                          }
                        },
                        "type": "barpolar"
                      }
                    ],
                    "carpet": [
                      {
                        "aaxis": {
                          "endlinecolor": "#2a3f5f",
                          "gridcolor": "white",
                          "linecolor": "white",
                          "minorgridcolor": "white",
                          "startlinecolor": "#2a3f5f"
                        },
                        "baxis": {
                          "endlinecolor": "#2a3f5f",
                          "gridcolor": "white",
                          "linecolor": "white",
                          "minorgridcolor": "white",
                          "startlinecolor": "#2a3f5f"
                        },
                        "type": "carpet"
                      }
                    ],
                    "choropleth": [
                      {
                        "colorbar": {
                          "outlinewidth": 0,
                          "ticks": ""
                        },
                        "type": "choropleth"
                      }
                    ],
                    "contour": [
                      {
                        "colorbar": {
                          "outlinewidth": 0,
                          "ticks": ""
                        },
                        "colorscale": [
                          [
                            0,
                            "#0d0887"
                          ],
                          [
                            0.1111111111111111,
                            "#46039f"
                          ],
                          [
                            0.2222222222222222,
                            "#7201a8"
                          ],
                          [
                            0.3333333333333333,
                            "#9c179e"
                          ],
                          [
                            0.4444444444444444,
                            "#bd3786"
                          ],
                          [
                            0.5555555555555556,
                            "#d8576b"
                          ],
                          [
                            0.6666666666666666,
                            "#ed7953"
                          ],
                          [
                            0.7777777777777778,
                            "#fb9f3a"
                          ],
                          [
                            0.8888888888888888,
                            "#fdca26"
                          ],
                          [
                            1,
                            "#f0f921"
                          ]
                        ],
                        "type": "contour"
                      }
                    ],
                    "contourcarpet": [
                      {
                        "colorbar": {
                          "outlinewidth": 0,
                          "ticks": ""
                        },
                        "type": "contourcarpet"
                      }
                    ],
                    "heatmap": [
                      {
                        "colorbar": {
                          "outlinewidth": 0,
                          "ticks": ""
                        },
                        "colorscale": [
                          [
                            0,
                            "#0d0887"
                          ],
                          [
                            0.1111111111111111,
                            "#46039f"
                          ],
                          [
                            0.2222222222222222,
                            "#7201a8"
                          ],
                          [
                            0.3333333333333333,
                            "#9c179e"
                          ],
                          [
                            0.4444444444444444,
                            "#bd3786"
                          ],
                          [
                            0.5555555555555556,
                            "#d8576b"
                          ],
                          [
                            0.6666666666666666,
                            "#ed7953"
                          ],
                          [
                            0.7777777777777778,
                            "#fb9f3a"
                          ],
                          [
                            0.8888888888888888,
                            "#fdca26"
                          ],
                          [
                            1,
                            "#f0f921"
                          ]
                        ],
                        "type": "heatmap"
                      }
                    ],
                    "heatmapgl": [
                      {
                        "colorbar": {
                          "outlinewidth": 0,
                          "ticks": ""
                        },
                        "colorscale": [
                          [
                            0,
                            "#0d0887"
                          ],
                          [
                            0.1111111111111111,
                            "#46039f"
                          ],
                          [
                            0.2222222222222222,
                            "#7201a8"
                          ],
                          [
                            0.3333333333333333,
                            "#9c179e"
                          ],
                          [
                            0.4444444444444444,
                            "#bd3786"
                          ],
                          [
                            0.5555555555555556,
                            "#d8576b"
                          ],
                          [
                            0.6666666666666666,
                            "#ed7953"
                          ],
                          [
                            0.7777777777777778,
                            "#fb9f3a"
                          ],
                          [
                            0.8888888888888888,
                            "#fdca26"
                          ],
                          [
                            1,
                            "#f0f921"
                          ]
                        ],
                        "type": "heatmapgl"
                      }
                    ],
                    "histogram": [
                      {
                        "marker": {
                          "pattern": {
                            "fillmode": "overlay",
                            "size": 10,
                            "solidity": 0.2
                          }
                        },
                        "type": "histogram"
                      }
                    ],
                    "histogram2d": [
                      {
                        "colorbar": {
                          "outlinewidth": 0,
                          "ticks": ""
                        },
                        "colorscale": [
                          [
                            0,
                            "#0d0887"
                          ],
                          [
                            0.1111111111111111,
                            "#46039f"
                          ],
                          [
                            0.2222222222222222,
                            "#7201a8"
                          ],
                          [
                            0.3333333333333333,
                            "#9c179e"
                          ],
                          [
                            0.4444444444444444,
                            "#bd3786"
                          ],
                          [
                            0.5555555555555556,
                            "#d8576b"
                          ],
                          [
                            0.6666666666666666,
                            "#ed7953"
                          ],
                          [
                            0.7777777777777778,
                            "#fb9f3a"
                          ],
                          [
                            0.8888888888888888,
                            "#fdca26"
                          ],
                          [
                            1,
                            "#f0f921"
                          ]
                        ],
                        "type": "histogram2d"
                      }
                    ],
                    "histogram2dcontour": [
                      {
                        "colorbar": {
                          "outlinewidth": 0,
                          "ticks": ""
                        },
                        "colorscale": [
                          [
                            0,
                            "#0d0887"
                          ],
                          [
                            0.1111111111111111,
                            "#46039f"
                          ],
                          [
                            0.2222222222222222,
                            "#7201a8"
                          ],
                          [
                            0.3333333333333333,
                            "#9c179e"
                          ],
                          [
                            0.4444444444444444,
                            "#bd3786"
                          ],
                          [
                            0.5555555555555556,
                            "#d8576b"
                          ],
                          [
                            0.6666666666666666,
                            "#ed7953"
                          ],
                          [
                            0.7777777777777778,
                            "#fb9f3a"
                          ],
                          [
                            0.8888888888888888,
                            "#fdca26"
                          ],
                          [
                            1,
                            "#f0f921"
                          ]
                        ],
                        "type": "histogram2dcontour"
                      }
                    ],
                    "mesh3d": [
                      {
                        "colorbar": {
                          "outlinewidth": 0,
                          "ticks": ""
                        },
                        "type": "mesh3d"
                      }
                    ],
                    "parcoords": [
                      {
                        "line": {
                          "colorbar": {
                            "outlinewidth": 0,
                            "ticks": ""
                          }
                        },
                        "type": "parcoords"
                      }
                    ],
                    "pie": [
                      {
                        "automargin": true,
                        "type": "pie"
                      }
                    ],
                    "scatter": [
                      {
                        "fillpattern": {
                          "fillmode": "overlay",
                          "size": 10,
                          "solidity": 0.2
                        },
                        "type": "scatter"
                      }
                    ],
                    "scatter3d": [
                      {
                        "line": {
                          "colorbar": {
                            "outlinewidth": 0,
                            "ticks": ""
                          }
                        },
                        "marker": {
                          "colorbar": {
                            "outlinewidth": 0,
                            "ticks": ""
                          }
                        },
                        "type": "scatter3d"
                      }
                    ],
                    "scattercarpet": [
                      {
                        "marker": {
                          "colorbar": {
                            "outlinewidth": 0,
                            "ticks": ""
                          }
                        },
                        "type": "scattercarpet"
                      }
                    ],
                    "scattergeo": [
                      {
                        "marker": {
                          "colorbar": {
                            "outlinewidth": 0,
                            "ticks": ""
                          }
                        },
                        "type": "scattergeo"
                      }
                    ],
                    "scattergl": [
                      {
                        "marker": {
                          "colorbar": {
                            "outlinewidth": 0,
                            "ticks": ""
                          }
                        },
                        "type": "scattergl"
                      }
                    ],
                    "scattermapbox": [
                      {
                        "marker": {
                          "colorbar": {
                            "outlinewidth": 0,
                            "ticks": ""
                          }
                        },
                        "type": "scattermapbox"
                      }
                    ],
                    "scatterpolar": [
                      {
                        "marker": {
                          "colorbar": {
                            "outlinewidth": 0,
                            "ticks": ""
                          }
                        },
                        "type": "scatterpolar"
                      }
                    ],
                    "scatterpolargl": [
                      {
                        "marker": {
                          "colorbar": {
                            "outlinewidth": 0,
                            "ticks": ""
                          }
                        },
                        "type": "scatterpolargl"
                      }
                    ],
                    "scatterternary": [
                      {
                        "marker": {
                          "colorbar": {
                            "outlinewidth": 0,
                            "ticks": ""
                          }
                        },
                        "type": "scatterternary"
                      }
                    ],
                    "surface": [
                      {
                        "colorbar": {
                          "outlinewidth": 0,
                          "ticks": ""
                        },
                        "colorscale": [
                          [
                            0,
                            "#0d0887"
                          ],
                          [
                            0.1111111111111111,
                            "#46039f"
                          ],
                          [
                            0.2222222222222222,
                            "#7201a8"
                          ],
                          [
                            0.3333333333333333,
                            "#9c179e"
                          ],
                          [
                            0.4444444444444444,
                            "#bd3786"
                          ],
                          [
                            0.5555555555555556,
                            "#d8576b"
                          ],
                          [
                            0.6666666666666666,
                            "#ed7953"
                          ],
                          [
                            0.7777777777777778,
                            "#fb9f3a"
                          ],
                          [
                            0.8888888888888888,
                            "#fdca26"
                          ],
                          [
                            1,
                            "#f0f921"
                          ]
                        ],
                        "type": "surface"
                      }
                    ],
                    "table": [
                      {
                        "cells": {
                          "fill": {
                            "color": "#EBF0F8"
                          },
                          "line": {
                            "color": "white"
                          }
                        },
                        "header": {
                          "fill": {
                            "color": "#C8D4E3"
                          },
                          "line": {
                            "color": "white"
                          }
                        },
                        "type": "table"
                      }
                    ]
                  },
                  "layout": {
                    "annotationdefaults": {
                      "arrowcolor": "#2a3f5f",
                      "arrowhead": 0,
                      "arrowwidth": 1
                    },
                    "autotypenumbers": "strict",
                    "coloraxis": {
                      "colorbar": {
                        "outlinewidth": 0,
                        "ticks": ""
                      }
                    },
                    "colorscale": {
                      "diverging": [
                        [
                          0,
                          "#8e0152"
                        ],
                        [
                          0.1,
                          "#c51b7d"
                        ],
                        [
                          0.2,
                          "#de77ae"
                        ],
                        [
                          0.3,
                          "#f1b6da"
                        ],
                        [
                          0.4,
                          "#fde0ef"
                        ],
                        [
                          0.5,
                          "#f7f7f7"
                        ],
                        [
                          0.6,
                          "#e6f5d0"
                        ],
                        [
                          0.7,
                          "#b8e186"
                        ],
                        [
                          0.8,
                          "#7fbc41"
                        ],
                        [
                          0.9,
                          "#4d9221"
                        ],
                        [
                          1,
                          "#276419"
                        ]
                      ],
                      "sequential": [
                        [
                          0,
                          "#0d0887"
                        ],
                        [
                          0.1111111111111111,
                          "#46039f"
                        ],
                        [
                          0.2222222222222222,
                          "#7201a8"
                        ],
                        [
                          0.3333333333333333,
                          "#9c179e"
                        ],
                        [
                          0.4444444444444444,
                          "#bd3786"
                        ],
                        [
                          0.5555555555555556,
                          "#d8576b"
                        ],
                        [
                          0.6666666666666666,
                          "#ed7953"
                        ],
                        [
                          0.7777777777777778,
                          "#fb9f3a"
                        ],
                        [
                          0.8888888888888888,
                          "#fdca26"
                        ],
                        [
                          1,
                          "#f0f921"
                        ]
                      ],
                      "sequentialminus": [
                        [
                          0,
                          "#0d0887"
                        ],
                        [
                          0.1111111111111111,
                          "#46039f"
                        ],
                        [
                          0.2222222222222222,
                          "#7201a8"
                        ],
                        [
                          0.3333333333333333,
                          "#9c179e"
                        ],
                        [
                          0.4444444444444444,
                          "#bd3786"
                        ],
                        [
                          0.5555555555555556,
                          "#d8576b"
                        ],
                        [
                          0.6666666666666666,
                          "#ed7953"
                        ],
                        [
                          0.7777777777777778,
                          "#fb9f3a"
                        ],
                        [
                          0.8888888888888888,
                          "#fdca26"
                        ],
                        [
                          1,
                          "#f0f921"
                        ]
                      ]
                    },
                    "colorway": [
                      "#636efa",
                      "#EF553B",
                      "#00cc96",
                      "#ab63fa",
                      "#FFA15A",
                      "#19d3f3",
                      "#FF6692",
                      "#B6E880",
                      "#FF97FF",
                      "#FECB52"
                    ],
                    "font": {
                      "color": "#2a3f5f"
                    },
                    "geo": {
                      "bgcolor": "white",
                      "lakecolor": "white",
                      "landcolor": "#E5ECF6",
                      "showlakes": true,
                      "showland": true,
                      "subunitcolor": "white"
                    },
                    "hoverlabel": {
                      "align": "left"
                    },
                    "hovermode": "closest",
                    "mapbox": {
                      "style": "light"
                    },
                    "paper_bgcolor": "white",
                    "plot_bgcolor": "#E5ECF6",
                    "polar": {
                      "angularaxis": {
                        "gridcolor": "white",
                        "linecolor": "white",
                        "ticks": ""
                      },
                      "bgcolor": "#E5ECF6",
                      "radialaxis": {
                        "gridcolor": "white",
                        "linecolor": "white",
                        "ticks": ""
                      }
                    },
                    "scene": {
                      "xaxis": {
                        "backgroundcolor": "#E5ECF6",
                        "gridcolor": "white",
                        "gridwidth": 2,
                        "linecolor": "white",
                        "showbackground": true,
                        "ticks": "",
                        "zerolinecolor": "white"
                      },
                      "yaxis": {
                        "backgroundcolor": "#E5ECF6",
                        "gridcolor": "white",
                        "gridwidth": 2,
                        "linecolor": "white",
                        "showbackground": true,
                        "ticks": "",
                        "zerolinecolor": "white"
                      },
                      "zaxis": {
                        "backgroundcolor": "#E5ECF6",
                        "gridcolor": "white",
                        "gridwidth": 2,
                        "linecolor": "white",
                        "showbackground": true,
                        "ticks": "",
                        "zerolinecolor": "white"
                      }
                    },
                    "shapedefaults": {
                      "line": {
                        "color": "#2a3f5f"
                      }
                    },
                    "ternary": {
                      "aaxis": {
                        "gridcolor": "white",
                        "linecolor": "white",
                        "ticks": ""
                      },
                      "baxis": {
                        "gridcolor": "white",
                        "linecolor": "white",
                        "ticks": ""
                      },
                      "bgcolor": "#E5ECF6",
                      "caxis": {
                        "gridcolor": "white",
                        "linecolor": "white",
                        "ticks": ""
                      }
                    },
                    "title": {
                      "x": 0.05
                    },
                    "xaxis": {
                      "automargin": true,
                      "gridcolor": "white",
                      "linecolor": "white",
                      "ticks": "",
                      "title": {
                        "standoff": 15
                      },
                      "zerolinecolor": "white",
                      "zerolinewidth": 2
                    },
                    "yaxis": {
                      "automargin": true,
                      "gridcolor": "white",
                      "linecolor": "white",
                      "ticks": "",
                      "title": {
                        "standoff": 15
                      },
                      "zerolinecolor": "white",
                      "zerolinewidth": 2
                    }
                  }
                }
              }
            }
          },
          "metadata": {},
          "output_type": "display_data"
        }
      ],
      "source": [
        "import plotly.graph_objects as go\n",
        "\n",
        "fig =go.Figure(go.Sunburst(\n",
        "    labels=[\"Eve\", \"Cain\", \"Seth\", \"Enos\", \"Noam\", \"Abel\", \"Awan\", \"Enoch\", \"Azura\"],\n",
        "    parents=[\"\", \"Eve\", \"Eve\", \"Seth\", \"Seth\", \"Eve\", \"Eve\", \"Awan\", \"Eve\" ],\n",
        "    values=[10, 14, 12, 10, 2, 6, 6, 4, 4],\n",
        "))\n",
        "fig.update_layout(margin = dict(t=0, l=0, r=0, b=0))\n",
        "\n",
        "fig.show()\n",
        "\n",
        "# labels = ['Oxygen','Hydrogen','Carbon_Dioxide','Nitrogen']\n",
        "# values = [4500, 2500, 1053, 500]\n",
        "\n",
        "# # pull is given as a fraction of the pie radius\n",
        "# fig = go.Figure(data=[go.Pie(labels=labels, values=values, pull=[0, 0, 0.2, 0])])\n",
        "# fig.show()\n"
      ]
    },
    {
      "cell_type": "code",
      "execution_count": 49,
      "metadata": {},
      "outputs": [
        {
          "name": "stdout",
          "output_type": "stream",
          "text": [
            "\u001b[0;31mInit signature:\u001b[0m\n",
            "\u001b[0mgo\u001b[0m\u001b[0;34m.\u001b[0m\u001b[0mSunburst\u001b[0m\u001b[0;34m(\u001b[0m\u001b[0;34m\u001b[0m\n",
            "\u001b[0;34m\u001b[0m    \u001b[0marg\u001b[0m\u001b[0;34m=\u001b[0m\u001b[0;32mNone\u001b[0m\u001b[0;34m,\u001b[0m\u001b[0;34m\u001b[0m\n",
            "\u001b[0;34m\u001b[0m    \u001b[0mbranchvalues\u001b[0m\u001b[0;34m=\u001b[0m\u001b[0;32mNone\u001b[0m\u001b[0;34m,\u001b[0m\u001b[0;34m\u001b[0m\n",
            "\u001b[0;34m\u001b[0m    \u001b[0mcount\u001b[0m\u001b[0;34m=\u001b[0m\u001b[0;32mNone\u001b[0m\u001b[0;34m,\u001b[0m\u001b[0;34m\u001b[0m\n",
            "\u001b[0;34m\u001b[0m    \u001b[0mcustomdata\u001b[0m\u001b[0;34m=\u001b[0m\u001b[0;32mNone\u001b[0m\u001b[0;34m,\u001b[0m\u001b[0;34m\u001b[0m\n",
            "\u001b[0;34m\u001b[0m    \u001b[0mcustomdatasrc\u001b[0m\u001b[0;34m=\u001b[0m\u001b[0;32mNone\u001b[0m\u001b[0;34m,\u001b[0m\u001b[0;34m\u001b[0m\n",
            "\u001b[0;34m\u001b[0m    \u001b[0mdomain\u001b[0m\u001b[0;34m=\u001b[0m\u001b[0;32mNone\u001b[0m\u001b[0;34m,\u001b[0m\u001b[0;34m\u001b[0m\n",
            "\u001b[0;34m\u001b[0m    \u001b[0mhoverinfo\u001b[0m\u001b[0;34m=\u001b[0m\u001b[0;32mNone\u001b[0m\u001b[0;34m,\u001b[0m\u001b[0;34m\u001b[0m\n",
            "\u001b[0;34m\u001b[0m    \u001b[0mhoverinfosrc\u001b[0m\u001b[0;34m=\u001b[0m\u001b[0;32mNone\u001b[0m\u001b[0;34m,\u001b[0m\u001b[0;34m\u001b[0m\n",
            "\u001b[0;34m\u001b[0m    \u001b[0mhoverlabel\u001b[0m\u001b[0;34m=\u001b[0m\u001b[0;32mNone\u001b[0m\u001b[0;34m,\u001b[0m\u001b[0;34m\u001b[0m\n",
            "\u001b[0;34m\u001b[0m    \u001b[0mhovertemplate\u001b[0m\u001b[0;34m=\u001b[0m\u001b[0;32mNone\u001b[0m\u001b[0;34m,\u001b[0m\u001b[0;34m\u001b[0m\n",
            "\u001b[0;34m\u001b[0m    \u001b[0mhovertemplatesrc\u001b[0m\u001b[0;34m=\u001b[0m\u001b[0;32mNone\u001b[0m\u001b[0;34m,\u001b[0m\u001b[0;34m\u001b[0m\n",
            "\u001b[0;34m\u001b[0m    \u001b[0mhovertext\u001b[0m\u001b[0;34m=\u001b[0m\u001b[0;32mNone\u001b[0m\u001b[0;34m,\u001b[0m\u001b[0;34m\u001b[0m\n",
            "\u001b[0;34m\u001b[0m    \u001b[0mhovertextsrc\u001b[0m\u001b[0;34m=\u001b[0m\u001b[0;32mNone\u001b[0m\u001b[0;34m,\u001b[0m\u001b[0;34m\u001b[0m\n",
            "\u001b[0;34m\u001b[0m    \u001b[0mids\u001b[0m\u001b[0;34m=\u001b[0m\u001b[0;32mNone\u001b[0m\u001b[0;34m,\u001b[0m\u001b[0;34m\u001b[0m\n",
            "\u001b[0;34m\u001b[0m    \u001b[0midssrc\u001b[0m\u001b[0;34m=\u001b[0m\u001b[0;32mNone\u001b[0m\u001b[0;34m,\u001b[0m\u001b[0;34m\u001b[0m\n",
            "\u001b[0;34m\u001b[0m    \u001b[0minsidetextfont\u001b[0m\u001b[0;34m=\u001b[0m\u001b[0;32mNone\u001b[0m\u001b[0;34m,\u001b[0m\u001b[0;34m\u001b[0m\n",
            "\u001b[0;34m\u001b[0m    \u001b[0minsidetextorientation\u001b[0m\u001b[0;34m=\u001b[0m\u001b[0;32mNone\u001b[0m\u001b[0;34m,\u001b[0m\u001b[0;34m\u001b[0m\n",
            "\u001b[0;34m\u001b[0m    \u001b[0mlabels\u001b[0m\u001b[0;34m=\u001b[0m\u001b[0;32mNone\u001b[0m\u001b[0;34m,\u001b[0m\u001b[0;34m\u001b[0m\n",
            "\u001b[0;34m\u001b[0m    \u001b[0mlabelssrc\u001b[0m\u001b[0;34m=\u001b[0m\u001b[0;32mNone\u001b[0m\u001b[0;34m,\u001b[0m\u001b[0;34m\u001b[0m\n",
            "\u001b[0;34m\u001b[0m    \u001b[0mleaf\u001b[0m\u001b[0;34m=\u001b[0m\u001b[0;32mNone\u001b[0m\u001b[0;34m,\u001b[0m\u001b[0;34m\u001b[0m\n",
            "\u001b[0;34m\u001b[0m    \u001b[0mlegendgrouptitle\u001b[0m\u001b[0;34m=\u001b[0m\u001b[0;32mNone\u001b[0m\u001b[0;34m,\u001b[0m\u001b[0;34m\u001b[0m\n",
            "\u001b[0;34m\u001b[0m    \u001b[0mlegendrank\u001b[0m\u001b[0;34m=\u001b[0m\u001b[0;32mNone\u001b[0m\u001b[0;34m,\u001b[0m\u001b[0;34m\u001b[0m\n",
            "\u001b[0;34m\u001b[0m    \u001b[0mlegendwidth\u001b[0m\u001b[0;34m=\u001b[0m\u001b[0;32mNone\u001b[0m\u001b[0;34m,\u001b[0m\u001b[0;34m\u001b[0m\n",
            "\u001b[0;34m\u001b[0m    \u001b[0mlevel\u001b[0m\u001b[0;34m=\u001b[0m\u001b[0;32mNone\u001b[0m\u001b[0;34m,\u001b[0m\u001b[0;34m\u001b[0m\n",
            "\u001b[0;34m\u001b[0m    \u001b[0mmarker\u001b[0m\u001b[0;34m=\u001b[0m\u001b[0;32mNone\u001b[0m\u001b[0;34m,\u001b[0m\u001b[0;34m\u001b[0m\n",
            "\u001b[0;34m\u001b[0m    \u001b[0mmaxdepth\u001b[0m\u001b[0;34m=\u001b[0m\u001b[0;32mNone\u001b[0m\u001b[0;34m,\u001b[0m\u001b[0;34m\u001b[0m\n",
            "\u001b[0;34m\u001b[0m    \u001b[0mmeta\u001b[0m\u001b[0;34m=\u001b[0m\u001b[0;32mNone\u001b[0m\u001b[0;34m,\u001b[0m\u001b[0;34m\u001b[0m\n",
            "\u001b[0;34m\u001b[0m    \u001b[0mmetasrc\u001b[0m\u001b[0;34m=\u001b[0m\u001b[0;32mNone\u001b[0m\u001b[0;34m,\u001b[0m\u001b[0;34m\u001b[0m\n",
            "\u001b[0;34m\u001b[0m    \u001b[0mname\u001b[0m\u001b[0;34m=\u001b[0m\u001b[0;32mNone\u001b[0m\u001b[0;34m,\u001b[0m\u001b[0;34m\u001b[0m\n",
            "\u001b[0;34m\u001b[0m    \u001b[0mopacity\u001b[0m\u001b[0;34m=\u001b[0m\u001b[0;32mNone\u001b[0m\u001b[0;34m,\u001b[0m\u001b[0;34m\u001b[0m\n",
            "\u001b[0;34m\u001b[0m    \u001b[0moutsidetextfont\u001b[0m\u001b[0;34m=\u001b[0m\u001b[0;32mNone\u001b[0m\u001b[0;34m,\u001b[0m\u001b[0;34m\u001b[0m\n",
            "\u001b[0;34m\u001b[0m    \u001b[0mparents\u001b[0m\u001b[0;34m=\u001b[0m\u001b[0;32mNone\u001b[0m\u001b[0;34m,\u001b[0m\u001b[0;34m\u001b[0m\n",
            "\u001b[0;34m\u001b[0m    \u001b[0mparentssrc\u001b[0m\u001b[0;34m=\u001b[0m\u001b[0;32mNone\u001b[0m\u001b[0;34m,\u001b[0m\u001b[0;34m\u001b[0m\n",
            "\u001b[0;34m\u001b[0m    \u001b[0mroot\u001b[0m\u001b[0;34m=\u001b[0m\u001b[0;32mNone\u001b[0m\u001b[0;34m,\u001b[0m\u001b[0;34m\u001b[0m\n",
            "\u001b[0;34m\u001b[0m    \u001b[0mrotation\u001b[0m\u001b[0;34m=\u001b[0m\u001b[0;32mNone\u001b[0m\u001b[0;34m,\u001b[0m\u001b[0;34m\u001b[0m\n",
            "\u001b[0;34m\u001b[0m    \u001b[0msort\u001b[0m\u001b[0;34m=\u001b[0m\u001b[0;32mNone\u001b[0m\u001b[0;34m,\u001b[0m\u001b[0;34m\u001b[0m\n",
            "\u001b[0;34m\u001b[0m    \u001b[0mstream\u001b[0m\u001b[0;34m=\u001b[0m\u001b[0;32mNone\u001b[0m\u001b[0;34m,\u001b[0m\u001b[0;34m\u001b[0m\n",
            "\u001b[0;34m\u001b[0m    \u001b[0mtext\u001b[0m\u001b[0;34m=\u001b[0m\u001b[0;32mNone\u001b[0m\u001b[0;34m,\u001b[0m\u001b[0;34m\u001b[0m\n",
            "\u001b[0;34m\u001b[0m    \u001b[0mtextfont\u001b[0m\u001b[0;34m=\u001b[0m\u001b[0;32mNone\u001b[0m\u001b[0;34m,\u001b[0m\u001b[0;34m\u001b[0m\n",
            "\u001b[0;34m\u001b[0m    \u001b[0mtextinfo\u001b[0m\u001b[0;34m=\u001b[0m\u001b[0;32mNone\u001b[0m\u001b[0;34m,\u001b[0m\u001b[0;34m\u001b[0m\n",
            "\u001b[0;34m\u001b[0m    \u001b[0mtextsrc\u001b[0m\u001b[0;34m=\u001b[0m\u001b[0;32mNone\u001b[0m\u001b[0;34m,\u001b[0m\u001b[0;34m\u001b[0m\n",
            "\u001b[0;34m\u001b[0m    \u001b[0mtexttemplate\u001b[0m\u001b[0;34m=\u001b[0m\u001b[0;32mNone\u001b[0m\u001b[0;34m,\u001b[0m\u001b[0;34m\u001b[0m\n",
            "\u001b[0;34m\u001b[0m    \u001b[0mtexttemplatesrc\u001b[0m\u001b[0;34m=\u001b[0m\u001b[0;32mNone\u001b[0m\u001b[0;34m,\u001b[0m\u001b[0;34m\u001b[0m\n",
            "\u001b[0;34m\u001b[0m    \u001b[0muid\u001b[0m\u001b[0;34m=\u001b[0m\u001b[0;32mNone\u001b[0m\u001b[0;34m,\u001b[0m\u001b[0;34m\u001b[0m\n",
            "\u001b[0;34m\u001b[0m    \u001b[0muirevision\u001b[0m\u001b[0;34m=\u001b[0m\u001b[0;32mNone\u001b[0m\u001b[0;34m,\u001b[0m\u001b[0;34m\u001b[0m\n",
            "\u001b[0;34m\u001b[0m    \u001b[0mvalues\u001b[0m\u001b[0;34m=\u001b[0m\u001b[0;32mNone\u001b[0m\u001b[0;34m,\u001b[0m\u001b[0;34m\u001b[0m\n",
            "\u001b[0;34m\u001b[0m    \u001b[0mvaluessrc\u001b[0m\u001b[0;34m=\u001b[0m\u001b[0;32mNone\u001b[0m\u001b[0;34m,\u001b[0m\u001b[0;34m\u001b[0m\n",
            "\u001b[0;34m\u001b[0m    \u001b[0mvisible\u001b[0m\u001b[0;34m=\u001b[0m\u001b[0;32mNone\u001b[0m\u001b[0;34m,\u001b[0m\u001b[0;34m\u001b[0m\n",
            "\u001b[0;34m\u001b[0m    \u001b[0;34m**\u001b[0m\u001b[0mkwargs\u001b[0m\u001b[0;34m,\u001b[0m\u001b[0;34m\u001b[0m\n",
            "\u001b[0;34m\u001b[0m\u001b[0;34m)\u001b[0m\u001b[0;34m\u001b[0m\u001b[0;34m\u001b[0m\u001b[0m\n",
            "\u001b[0;31mDocstring:\u001b[0m     \n",
            "Base class for the all trace types.\n",
            "\n",
            "Specific trace type classes (Scatter, Bar, etc.) are code generated as\n",
            "subclasses of this class.\n",
            "\u001b[0;31mInit docstring:\u001b[0m\n",
            "Construct a new Sunburst object\n",
            "\n",
            "Visualize hierarchal data spanning outward radially from root\n",
            "to leaves. The sunburst sectors are determined by the entries\n",
            "in \"labels\" or \"ids\" and in \"parents\".\n",
            "\n",
            "Parameters\n",
            "----------\n",
            "arg\n",
            "    dict of properties compatible with this constructor or\n",
            "    an instance of :class:`plotly.graph_objs.Sunburst`\n",
            "branchvalues\n",
            "    Determines how the items in `values` are summed. When\n",
            "    set to \"total\", items in `values` are taken to be value\n",
            "    of all its descendants. When set to \"remainder\", items\n",
            "    in `values` corresponding to the root and the branches\n",
            "    sectors are taken to be the extra part not part of the\n",
            "    sum of the values at their leaves.\n",
            "count\n",
            "    Determines default for `values` when it is not\n",
            "    provided, by inferring a 1 for each of the \"leaves\"\n",
            "    and/or \"branches\", otherwise 0.\n",
            "customdata\n",
            "    Assigns extra data each datum. This may be useful when\n",
            "    listening to hover, click and selection events. Note\n",
            "    that, \"scatter\" traces also appends customdata items in\n",
            "    the markers DOM elements\n",
            "customdatasrc\n",
            "    Sets the source reference on Chart Studio Cloud for\n",
            "    `customdata`.\n",
            "domain\n",
            "    :class:`plotly.graph_objects.sunburst.Domain` instance\n",
            "    or dict with compatible properties\n",
            "hoverinfo\n",
            "    Determines which trace information appear on hover. If\n",
            "    `none` or `skip` are set, no information is displayed\n",
            "    upon hovering. But, if `none` is set, click and hover\n",
            "    events are still fired.\n",
            "hoverinfosrc\n",
            "    Sets the source reference on Chart Studio Cloud for\n",
            "    `hoverinfo`.\n",
            "hoverlabel\n",
            "    :class:`plotly.graph_objects.sunburst.Hoverlabel`\n",
            "    instance or dict with compatible properties\n",
            "hovertemplate\n",
            "    Template string used for rendering the information that\n",
            "    appear on hover box. Note that this will override\n",
            "    `hoverinfo`. Variables are inserted using %{variable},\n",
            "    for example \"y: %{y}\" as well as %{xother}, {%_xother},\n",
            "    {%_xother_}, {%xother_}. When showing info for several\n",
            "    points, \"xother\" will be added to those with different\n",
            "    x positions from the first point. An underscore before\n",
            "    or after \"(x|y)other\" will add a space on that side,\n",
            "    only when this field is shown. Numbers are formatted\n",
            "    using d3-format's syntax %{variable:d3-format}, for\n",
            "    example \"Price: %{y:$.2f}\".\n",
            "    https://github.com/d3/d3-format/tree/v1.4.5#d3-format\n",
            "    for details on the formatting syntax. Dates are\n",
            "    formatted using d3-time-format's syntax\n",
            "    %{variable|d3-time-format}, for example \"Day:\n",
            "    %{2019-01-01|%A}\". https://github.com/d3/d3-time-\n",
            "    format/tree/v2.2.3#locale_format for details on the\n",
            "    date formatting syntax. The variables available in\n",
            "    `hovertemplate` are the ones emitted as event data\n",
            "    described at this link\n",
            "    https://plotly.com/javascript/plotlyjs-events/#event-\n",
            "    data. Additionally, every attributes that can be\n",
            "    specified per-point (the ones that are `arrayOk: true`)\n",
            "    are available. variables `currentPath`, `root`,\n",
            "    `entry`, `percentRoot`, `percentEntry` and\n",
            "    `percentParent`. Anything contained in tag `<extra>` is\n",
            "    displayed in the secondary box, for example\n",
            "    \"<extra>{fullData.name}</extra>\". To hide the secondary\n",
            "    box completely, use an empty tag `<extra></extra>`.\n",
            "hovertemplatesrc\n",
            "    Sets the source reference on Chart Studio Cloud for\n",
            "    `hovertemplate`.\n",
            "hovertext\n",
            "    Sets hover text elements associated with each sector.\n",
            "    If a single string, the same string appears for all\n",
            "    data points. If an array of string, the items are\n",
            "    mapped in order of this trace's sectors. To be seen,\n",
            "    trace `hoverinfo` must contain a \"text\" flag.\n",
            "hovertextsrc\n",
            "    Sets the source reference on Chart Studio Cloud for\n",
            "    `hovertext`.\n",
            "ids\n",
            "    Assigns id labels to each datum. These ids for object\n",
            "    constancy of data points during animation. Should be an\n",
            "    array of strings, not numbers or any other type.\n",
            "idssrc\n",
            "    Sets the source reference on Chart Studio Cloud for\n",
            "    `ids`.\n",
            "insidetextfont\n",
            "    Sets the font used for `textinfo` lying inside the\n",
            "    sector.\n",
            "insidetextorientation\n",
            "    Controls the orientation of the text inside chart\n",
            "    sectors. When set to \"auto\", text may be oriented in\n",
            "    any direction in order to be as big as possible in the\n",
            "    middle of a sector. The \"horizontal\" option orients\n",
            "    text to be parallel with the bottom of the chart, and\n",
            "    may make text smaller in order to achieve that goal.\n",
            "    The \"radial\" option orients text along the radius of\n",
            "    the sector. The \"tangential\" option orients text\n",
            "    perpendicular to the radius of the sector.\n",
            "labels\n",
            "    Sets the labels of each of the sectors.\n",
            "labelssrc\n",
            "    Sets the source reference on Chart Studio Cloud for\n",
            "    `labels`.\n",
            "leaf\n",
            "    :class:`plotly.graph_objects.sunburst.Leaf` instance or\n",
            "    dict with compatible properties\n",
            "legendgrouptitle\n",
            "    :class:`plotly.graph_objects.sunburst.Legendgrouptitle`\n",
            "    instance or dict with compatible properties\n",
            "legendrank\n",
            "    Sets the legend rank for this trace. Items and groups\n",
            "    with smaller ranks are presented on top/left side while\n",
            "    with `*reversed* `legend.traceorder` they are on\n",
            "    bottom/right side. The default legendrank is 1000, so\n",
            "    that you can use ranks less than 1000 to place certain\n",
            "    items before all unranked items, and ranks greater than\n",
            "    1000 to go after all unranked items.\n",
            "legendwidth\n",
            "    Sets the width (in px or fraction) of the legend for\n",
            "    this trace.\n",
            "level\n",
            "    Sets the level from which this trace hierarchy is\n",
            "    rendered. Set `level` to `''` to start from the root\n",
            "    node in the hierarchy. Must be an \"id\" if `ids` is\n",
            "    filled in, otherwise plotly attempts to find a matching\n",
            "    item in `labels`.\n",
            "marker\n",
            "    :class:`plotly.graph_objects.sunburst.Marker` instance\n",
            "    or dict with compatible properties\n",
            "maxdepth\n",
            "    Sets the number of rendered sectors from any given\n",
            "    `level`. Set `maxdepth` to \"-1\" to render all the\n",
            "    levels in the hierarchy.\n",
            "meta\n",
            "    Assigns extra meta information associated with this\n",
            "    trace that can be used in various text attributes.\n",
            "    Attributes such as trace `name`, graph, axis and\n",
            "    colorbar `title.text`, annotation `text`\n",
            "    `rangeselector`, `updatemenues` and `sliders` `label`\n",
            "    text all support `meta`. To access the trace `meta`\n",
            "    values in an attribute in the same trace, simply use\n",
            "    `%{meta[i]}` where `i` is the index or key of the\n",
            "    `meta` item in question. To access trace `meta` in\n",
            "    layout attributes, use `%{data[n[.meta[i]}` where `i`\n",
            "    is the index or key of the `meta` and `n` is the trace\n",
            "    index.\n",
            "metasrc\n",
            "    Sets the source reference on Chart Studio Cloud for\n",
            "    `meta`.\n",
            "name\n",
            "    Sets the trace name. The trace name appear as the\n",
            "    legend item and on hover.\n",
            "opacity\n",
            "    Sets the opacity of the trace.\n",
            "outsidetextfont\n",
            "    Sets the font used for `textinfo` lying outside the\n",
            "    sector. This option refers to the root of the hierarchy\n",
            "    presented at the center of a sunburst graph. Please\n",
            "    note that if a hierarchy has multiple root nodes, this\n",
            "    option won't have any effect and `insidetextfont` would\n",
            "    be used.\n",
            "parents\n",
            "    Sets the parent sectors for each of the sectors. Empty\n",
            "    string items '' are understood to reference the root\n",
            "    node in the hierarchy. If `ids` is filled, `parents`\n",
            "    items are understood to be \"ids\" themselves. When `ids`\n",
            "    is not set, plotly attempts to find matching items in\n",
            "    `labels`, but beware they must be unique.\n",
            "parentssrc\n",
            "    Sets the source reference on Chart Studio Cloud for\n",
            "    `parents`.\n",
            "root\n",
            "    :class:`plotly.graph_objects.sunburst.Root` instance or\n",
            "    dict with compatible properties\n",
            "rotation\n",
            "    Rotates the whole diagram counterclockwise by some\n",
            "    angle. By default the first slice starts at 3 o'clock.\n",
            "sort\n",
            "    Determines whether or not the sectors are reordered\n",
            "    from largest to smallest.\n",
            "stream\n",
            "    :class:`plotly.graph_objects.sunburst.Stream` instance\n",
            "    or dict with compatible properties\n",
            "text\n",
            "    Sets text elements associated with each sector. If\n",
            "    trace `textinfo` contains a \"text\" flag, these elements\n",
            "    will be seen on the chart. If trace `hoverinfo`\n",
            "    contains a \"text\" flag and \"hovertext\" is not set,\n",
            "    these elements will be seen in the hover labels.\n",
            "textfont\n",
            "    Sets the font used for `textinfo`.\n",
            "textinfo\n",
            "    Determines which trace information appear on the graph.\n",
            "textsrc\n",
            "    Sets the source reference on Chart Studio Cloud for\n",
            "    `text`.\n",
            "texttemplate\n",
            "    Template string used for rendering the information text\n",
            "    that appear on points. Note that this will override\n",
            "    `textinfo`. Variables are inserted using %{variable},\n",
            "    for example \"y: %{y}\". Numbers are formatted using\n",
            "    d3-format's syntax %{variable:d3-format}, for example\n",
            "    \"Price: %{y:$.2f}\".\n",
            "    https://github.com/d3/d3-format/tree/v1.4.5#d3-format\n",
            "    for details on the formatting syntax. Dates are\n",
            "    formatted using d3-time-format's syntax\n",
            "    %{variable|d3-time-format}, for example \"Day:\n",
            "    %{2019-01-01|%A}\". https://github.com/d3/d3-time-\n",
            "    format/tree/v2.2.3#locale_format for details on the\n",
            "    date formatting syntax. Every attributes that can be\n",
            "    specified per-point (the ones that are `arrayOk: true`)\n",
            "    are available. variables `currentPath`, `root`,\n",
            "    `entry`, `percentRoot`, `percentEntry`,\n",
            "    `percentParent`, `label` and `value`.\n",
            "texttemplatesrc\n",
            "    Sets the source reference on Chart Studio Cloud for\n",
            "    `texttemplate`.\n",
            "uid\n",
            "    Assign an id to this trace, Use this to provide object\n",
            "    constancy between traces during animations and\n",
            "    transitions.\n",
            "uirevision\n",
            "    Controls persistence of some user-driven changes to the\n",
            "    trace: `constraintrange` in `parcoords` traces, as well\n",
            "    as some `editable: true` modifications such as `name`\n",
            "    and `colorbar.title`. Defaults to `layout.uirevision`.\n",
            "    Note that other user-driven trace attribute changes are\n",
            "    controlled by `layout` attributes: `trace.visible` is\n",
            "    controlled by `layout.legend.uirevision`,\n",
            "    `selectedpoints` is controlled by\n",
            "    `layout.selectionrevision`, and `colorbar.(x|y)`\n",
            "    (accessible with `config: {editable: true}`) is\n",
            "    controlled by `layout.editrevision`. Trace changes are\n",
            "    tracked by `uid`, which only falls back on trace index\n",
            "    if no `uid` is provided. So if your app can add/remove\n",
            "    traces before the end of the `data` array, such that\n",
            "    the same trace has a different index, you can still\n",
            "    preserve user-driven changes if you give each trace a\n",
            "    `uid` that stays with it as it moves.\n",
            "values\n",
            "    Sets the values associated with each of the sectors.\n",
            "    Use with `branchvalues` to determine how the values are\n",
            "    summed.\n",
            "valuessrc\n",
            "    Sets the source reference on Chart Studio Cloud for\n",
            "    `values`.\n",
            "visible\n",
            "    Determines whether or not this trace is visible. If\n",
            "    \"legendonly\", the trace is not drawn, but can appear as\n",
            "    a legend item (provided that the legend itself is\n",
            "    visible).\n",
            "\n",
            "Returns\n",
            "-------\n",
            "Sunburst\n",
            "\u001b[0;31mFile:\u001b[0m           ~/.local/lib/python3.10/site-packages/plotly/graph_objs/_sunburst.py\n",
            "\u001b[0;31mType:\u001b[0m           type\n",
            "\u001b[0;31mSubclasses:\u001b[0m     \n"
          ]
        }
      ],
      "source": [
        "?go.Sunburst"
      ]
    },
    {
      "cell_type": "code",
      "execution_count": 11,
      "metadata": {},
      "outputs": [
        {
          "data": {
            "application/vnd.plotly.v1+json": {
              "config": {
                "plotlyServerURL": "https://plot.ly"
              },
              "data": [
                {
                  "branchvalues": "total",
                  "labels": [
                    "Contigs",
                    "Não virais",
                    "Não Mapeados",
                    "Virais*",
                    "Virais Exógenos",
                    "EVE"
                  ],
                  "parents": [
                    "",
                    "Contigs",
                    "Contigs",
                    "Contigs",
                    "Virais*",
                    "Virais*"
                  ],
                  "rotation": -30,
                  "sort": true,
                  "textfont": {
                    "size": 15
                  },
                  "textinfo": "label+value",
                  "type": "sunburst",
                  "values": [
                    80,
                    24,
                    14,
                    42,
                    40,
                    2
                  ]
                }
              ],
              "layout": {
                "colorway": [
                  "#1f77b4",
                  "#ff7f0e",
                  "#2ca02c",
                  "#d62728",
                  "#9467bd",
                  "#8c564b",
                  "#e377c2",
                  "#7f7f7f",
                  "#bcbd22",
                  "#17becf"
                ],
                "height": 600,
                "margin": {
                  "b": 0,
                  "l": 0,
                  "r": 0
                },
                "template": {
                  "data": {
                    "bar": [
                      {
                        "error_x": {
                          "color": "#2a3f5f"
                        },
                        "error_y": {
                          "color": "#2a3f5f"
                        },
                        "marker": {
                          "line": {
                            "color": "#E5ECF6",
                            "width": 0.5
                          },
                          "pattern": {
                            "fillmode": "overlay",
                            "size": 10,
                            "solidity": 0.2
                          }
                        },
                        "type": "bar"
                      }
                    ],
                    "barpolar": [
                      {
                        "marker": {
                          "line": {
                            "color": "#E5ECF6",
                            "width": 0.5
                          },
                          "pattern": {
                            "fillmode": "overlay",
                            "size": 10,
                            "solidity": 0.2
                          }
                        },
                        "type": "barpolar"
                      }
                    ],
                    "carpet": [
                      {
                        "aaxis": {
                          "endlinecolor": "#2a3f5f",
                          "gridcolor": "white",
                          "linecolor": "white",
                          "minorgridcolor": "white",
                          "startlinecolor": "#2a3f5f"
                        },
                        "baxis": {
                          "endlinecolor": "#2a3f5f",
                          "gridcolor": "white",
                          "linecolor": "white",
                          "minorgridcolor": "white",
                          "startlinecolor": "#2a3f5f"
                        },
                        "type": "carpet"
                      }
                    ],
                    "choropleth": [
                      {
                        "colorbar": {
                          "outlinewidth": 0,
                          "ticks": ""
                        },
                        "type": "choropleth"
                      }
                    ],
                    "contour": [
                      {
                        "colorbar": {
                          "outlinewidth": 0,
                          "ticks": ""
                        },
                        "colorscale": [
                          [
                            0,
                            "#0d0887"
                          ],
                          [
                            0.1111111111111111,
                            "#46039f"
                          ],
                          [
                            0.2222222222222222,
                            "#7201a8"
                          ],
                          [
                            0.3333333333333333,
                            "#9c179e"
                          ],
                          [
                            0.4444444444444444,
                            "#bd3786"
                          ],
                          [
                            0.5555555555555556,
                            "#d8576b"
                          ],
                          [
                            0.6666666666666666,
                            "#ed7953"
                          ],
                          [
                            0.7777777777777778,
                            "#fb9f3a"
                          ],
                          [
                            0.8888888888888888,
                            "#fdca26"
                          ],
                          [
                            1,
                            "#f0f921"
                          ]
                        ],
                        "type": "contour"
                      }
                    ],
                    "contourcarpet": [
                      {
                        "colorbar": {
                          "outlinewidth": 0,
                          "ticks": ""
                        },
                        "type": "contourcarpet"
                      }
                    ],
                    "heatmap": [
                      {
                        "colorbar": {
                          "outlinewidth": 0,
                          "ticks": ""
                        },
                        "colorscale": [
                          [
                            0,
                            "#0d0887"
                          ],
                          [
                            0.1111111111111111,
                            "#46039f"
                          ],
                          [
                            0.2222222222222222,
                            "#7201a8"
                          ],
                          [
                            0.3333333333333333,
                            "#9c179e"
                          ],
                          [
                            0.4444444444444444,
                            "#bd3786"
                          ],
                          [
                            0.5555555555555556,
                            "#d8576b"
                          ],
                          [
                            0.6666666666666666,
                            "#ed7953"
                          ],
                          [
                            0.7777777777777778,
                            "#fb9f3a"
                          ],
                          [
                            0.8888888888888888,
                            "#fdca26"
                          ],
                          [
                            1,
                            "#f0f921"
                          ]
                        ],
                        "type": "heatmap"
                      }
                    ],
                    "heatmapgl": [
                      {
                        "colorbar": {
                          "outlinewidth": 0,
                          "ticks": ""
                        },
                        "colorscale": [
                          [
                            0,
                            "#0d0887"
                          ],
                          [
                            0.1111111111111111,
                            "#46039f"
                          ],
                          [
                            0.2222222222222222,
                            "#7201a8"
                          ],
                          [
                            0.3333333333333333,
                            "#9c179e"
                          ],
                          [
                            0.4444444444444444,
                            "#bd3786"
                          ],
                          [
                            0.5555555555555556,
                            "#d8576b"
                          ],
                          [
                            0.6666666666666666,
                            "#ed7953"
                          ],
                          [
                            0.7777777777777778,
                            "#fb9f3a"
                          ],
                          [
                            0.8888888888888888,
                            "#fdca26"
                          ],
                          [
                            1,
                            "#f0f921"
                          ]
                        ],
                        "type": "heatmapgl"
                      }
                    ],
                    "histogram": [
                      {
                        "marker": {
                          "pattern": {
                            "fillmode": "overlay",
                            "size": 10,
                            "solidity": 0.2
                          }
                        },
                        "type": "histogram"
                      }
                    ],
                    "histogram2d": [
                      {
                        "colorbar": {
                          "outlinewidth": 0,
                          "ticks": ""
                        },
                        "colorscale": [
                          [
                            0,
                            "#0d0887"
                          ],
                          [
                            0.1111111111111111,
                            "#46039f"
                          ],
                          [
                            0.2222222222222222,
                            "#7201a8"
                          ],
                          [
                            0.3333333333333333,
                            "#9c179e"
                          ],
                          [
                            0.4444444444444444,
                            "#bd3786"
                          ],
                          [
                            0.5555555555555556,
                            "#d8576b"
                          ],
                          [
                            0.6666666666666666,
                            "#ed7953"
                          ],
                          [
                            0.7777777777777778,
                            "#fb9f3a"
                          ],
                          [
                            0.8888888888888888,
                            "#fdca26"
                          ],
                          [
                            1,
                            "#f0f921"
                          ]
                        ],
                        "type": "histogram2d"
                      }
                    ],
                    "histogram2dcontour": [
                      {
                        "colorbar": {
                          "outlinewidth": 0,
                          "ticks": ""
                        },
                        "colorscale": [
                          [
                            0,
                            "#0d0887"
                          ],
                          [
                            0.1111111111111111,
                            "#46039f"
                          ],
                          [
                            0.2222222222222222,
                            "#7201a8"
                          ],
                          [
                            0.3333333333333333,
                            "#9c179e"
                          ],
                          [
                            0.4444444444444444,
                            "#bd3786"
                          ],
                          [
                            0.5555555555555556,
                            "#d8576b"
                          ],
                          [
                            0.6666666666666666,
                            "#ed7953"
                          ],
                          [
                            0.7777777777777778,
                            "#fb9f3a"
                          ],
                          [
                            0.8888888888888888,
                            "#fdca26"
                          ],
                          [
                            1,
                            "#f0f921"
                          ]
                        ],
                        "type": "histogram2dcontour"
                      }
                    ],
                    "mesh3d": [
                      {
                        "colorbar": {
                          "outlinewidth": 0,
                          "ticks": ""
                        },
                        "type": "mesh3d"
                      }
                    ],
                    "parcoords": [
                      {
                        "line": {
                          "colorbar": {
                            "outlinewidth": 0,
                            "ticks": ""
                          }
                        },
                        "type": "parcoords"
                      }
                    ],
                    "pie": [
                      {
                        "automargin": true,
                        "type": "pie"
                      }
                    ],
                    "scatter": [
                      {
                        "fillpattern": {
                          "fillmode": "overlay",
                          "size": 10,
                          "solidity": 0.2
                        },
                        "type": "scatter"
                      }
                    ],
                    "scatter3d": [
                      {
                        "line": {
                          "colorbar": {
                            "outlinewidth": 0,
                            "ticks": ""
                          }
                        },
                        "marker": {
                          "colorbar": {
                            "outlinewidth": 0,
                            "ticks": ""
                          }
                        },
                        "type": "scatter3d"
                      }
                    ],
                    "scattercarpet": [
                      {
                        "marker": {
                          "colorbar": {
                            "outlinewidth": 0,
                            "ticks": ""
                          }
                        },
                        "type": "scattercarpet"
                      }
                    ],
                    "scattergeo": [
                      {
                        "marker": {
                          "colorbar": {
                            "outlinewidth": 0,
                            "ticks": ""
                          }
                        },
                        "type": "scattergeo"
                      }
                    ],
                    "scattergl": [
                      {
                        "marker": {
                          "colorbar": {
                            "outlinewidth": 0,
                            "ticks": ""
                          }
                        },
                        "type": "scattergl"
                      }
                    ],
                    "scattermapbox": [
                      {
                        "marker": {
                          "colorbar": {
                            "outlinewidth": 0,
                            "ticks": ""
                          }
                        },
                        "type": "scattermapbox"
                      }
                    ],
                    "scatterpolar": [
                      {
                        "marker": {
                          "colorbar": {
                            "outlinewidth": 0,
                            "ticks": ""
                          }
                        },
                        "type": "scatterpolar"
                      }
                    ],
                    "scatterpolargl": [
                      {
                        "marker": {
                          "colorbar": {
                            "outlinewidth": 0,
                            "ticks": ""
                          }
                        },
                        "type": "scatterpolargl"
                      }
                    ],
                    "scatterternary": [
                      {
                        "marker": {
                          "colorbar": {
                            "outlinewidth": 0,
                            "ticks": ""
                          }
                        },
                        "type": "scatterternary"
                      }
                    ],
                    "surface": [
                      {
                        "colorbar": {
                          "outlinewidth": 0,
                          "ticks": ""
                        },
                        "colorscale": [
                          [
                            0,
                            "#0d0887"
                          ],
                          [
                            0.1111111111111111,
                            "#46039f"
                          ],
                          [
                            0.2222222222222222,
                            "#7201a8"
                          ],
                          [
                            0.3333333333333333,
                            "#9c179e"
                          ],
                          [
                            0.4444444444444444,
                            "#bd3786"
                          ],
                          [
                            0.5555555555555556,
                            "#d8576b"
                          ],
                          [
                            0.6666666666666666,
                            "#ed7953"
                          ],
                          [
                            0.7777777777777778,
                            "#fb9f3a"
                          ],
                          [
                            0.8888888888888888,
                            "#fdca26"
                          ],
                          [
                            1,
                            "#f0f921"
                          ]
                        ],
                        "type": "surface"
                      }
                    ],
                    "table": [
                      {
                        "cells": {
                          "fill": {
                            "color": "#EBF0F8"
                          },
                          "line": {
                            "color": "white"
                          }
                        },
                        "header": {
                          "fill": {
                            "color": "#C8D4E3"
                          },
                          "line": {
                            "color": "white"
                          }
                        },
                        "type": "table"
                      }
                    ]
                  },
                  "layout": {
                    "annotationdefaults": {
                      "arrowcolor": "#2a3f5f",
                      "arrowhead": 0,
                      "arrowwidth": 1
                    },
                    "autotypenumbers": "strict",
                    "coloraxis": {
                      "colorbar": {
                        "outlinewidth": 0,
                        "ticks": ""
                      }
                    },
                    "colorscale": {
                      "diverging": [
                        [
                          0,
                          "#8e0152"
                        ],
                        [
                          0.1,
                          "#c51b7d"
                        ],
                        [
                          0.2,
                          "#de77ae"
                        ],
                        [
                          0.3,
                          "#f1b6da"
                        ],
                        [
                          0.4,
                          "#fde0ef"
                        ],
                        [
                          0.5,
                          "#f7f7f7"
                        ],
                        [
                          0.6,
                          "#e6f5d0"
                        ],
                        [
                          0.7,
                          "#b8e186"
                        ],
                        [
                          0.8,
                          "#7fbc41"
                        ],
                        [
                          0.9,
                          "#4d9221"
                        ],
                        [
                          1,
                          "#276419"
                        ]
                      ],
                      "sequential": [
                        [
                          0,
                          "#0d0887"
                        ],
                        [
                          0.1111111111111111,
                          "#46039f"
                        ],
                        [
                          0.2222222222222222,
                          "#7201a8"
                        ],
                        [
                          0.3333333333333333,
                          "#9c179e"
                        ],
                        [
                          0.4444444444444444,
                          "#bd3786"
                        ],
                        [
                          0.5555555555555556,
                          "#d8576b"
                        ],
                        [
                          0.6666666666666666,
                          "#ed7953"
                        ],
                        [
                          0.7777777777777778,
                          "#fb9f3a"
                        ],
                        [
                          0.8888888888888888,
                          "#fdca26"
                        ],
                        [
                          1,
                          "#f0f921"
                        ]
                      ],
                      "sequentialminus": [
                        [
                          0,
                          "#0d0887"
                        ],
                        [
                          0.1111111111111111,
                          "#46039f"
                        ],
                        [
                          0.2222222222222222,
                          "#7201a8"
                        ],
                        [
                          0.3333333333333333,
                          "#9c179e"
                        ],
                        [
                          0.4444444444444444,
                          "#bd3786"
                        ],
                        [
                          0.5555555555555556,
                          "#d8576b"
                        ],
                        [
                          0.6666666666666666,
                          "#ed7953"
                        ],
                        [
                          0.7777777777777778,
                          "#fb9f3a"
                        ],
                        [
                          0.8888888888888888,
                          "#fdca26"
                        ],
                        [
                          1,
                          "#f0f921"
                        ]
                      ]
                    },
                    "colorway": [
                      "#636efa",
                      "#EF553B",
                      "#00cc96",
                      "#ab63fa",
                      "#FFA15A",
                      "#19d3f3",
                      "#FF6692",
                      "#B6E880",
                      "#FF97FF",
                      "#FECB52"
                    ],
                    "font": {
                      "color": "#2a3f5f"
                    },
                    "geo": {
                      "bgcolor": "white",
                      "lakecolor": "white",
                      "landcolor": "#E5ECF6",
                      "showlakes": true,
                      "showland": true,
                      "subunitcolor": "white"
                    },
                    "hoverlabel": {
                      "align": "left"
                    },
                    "hovermode": "closest",
                    "mapbox": {
                      "style": "light"
                    },
                    "paper_bgcolor": "white",
                    "plot_bgcolor": "#E5ECF6",
                    "polar": {
                      "angularaxis": {
                        "gridcolor": "white",
                        "linecolor": "white",
                        "ticks": ""
                      },
                      "bgcolor": "#E5ECF6",
                      "radialaxis": {
                        "gridcolor": "white",
                        "linecolor": "white",
                        "ticks": ""
                      }
                    },
                    "scene": {
                      "xaxis": {
                        "backgroundcolor": "#E5ECF6",
                        "gridcolor": "white",
                        "gridwidth": 2,
                        "linecolor": "white",
                        "showbackground": true,
                        "ticks": "",
                        "zerolinecolor": "white"
                      },
                      "yaxis": {
                        "backgroundcolor": "#E5ECF6",
                        "gridcolor": "white",
                        "gridwidth": 2,
                        "linecolor": "white",
                        "showbackground": true,
                        "ticks": "",
                        "zerolinecolor": "white"
                      },
                      "zaxis": {
                        "backgroundcolor": "#E5ECF6",
                        "gridcolor": "white",
                        "gridwidth": 2,
                        "linecolor": "white",
                        "showbackground": true,
                        "ticks": "",
                        "zerolinecolor": "white"
                      }
                    },
                    "shapedefaults": {
                      "line": {
                        "color": "#2a3f5f"
                      }
                    },
                    "ternary": {
                      "aaxis": {
                        "gridcolor": "white",
                        "linecolor": "white",
                        "ticks": ""
                      },
                      "baxis": {
                        "gridcolor": "white",
                        "linecolor": "white",
                        "ticks": ""
                      },
                      "bgcolor": "#E5ECF6",
                      "caxis": {
                        "gridcolor": "white",
                        "linecolor": "white",
                        "ticks": ""
                      }
                    },
                    "title": {
                      "x": 0.05
                    },
                    "xaxis": {
                      "automargin": true,
                      "gridcolor": "white",
                      "linecolor": "white",
                      "ticks": "",
                      "title": {
                        "standoff": 15
                      },
                      "zerolinecolor": "white",
                      "zerolinewidth": 2
                    },
                    "yaxis": {
                      "automargin": true,
                      "gridcolor": "white",
                      "linecolor": "white",
                      "ticks": "",
                      "title": {
                        "standoff": 15
                      },
                      "zerolinecolor": "white",
                      "zerolinewidth": 2
                    }
                  }
                },
                "title": {
                  "font": {
                    "size": 20
                  },
                  "text": "RNPM170_01: Classification"
                },
                "width": 600
              }
            }
          },
          "metadata": {},
          "output_type": "display_data"
        }
      ],
      "source": [
        "import plotly.graph_objects as go\n",
        "import plotly.express as px\n",
        "\n",
        "\n",
        "# 0\tRNPM68_01\t2\t12\t5\t1\t1\t0\t12\t0\t5\t0.0\t0.0\t0.0\n",
        "# 1\tRNPM164_01\t42\t24\t14\t40\t2\t0\t24\t0\t14\t0.0\t0.0\t0.0\n",
        "# 3\tRKPM44_06\t25\t21\t26\t23\t2\t0\t21\t0\t26\t0.0\t0.0\t0.0\n",
        "# 8\tRNPM170_01\t42\t24\t14\t40\t2\t0\t24\t0\t14\t0.0\t0.0\t0.0\n",
        "# 6\tRNPM110_02\t47\t73\t151\t17\t30\t4\t69\t1\t150\t5.797101\t0.666667\t2.283105\n",
        "# 5\tRNPM2_02\t61\t270\t943\t5\t56\t24\t246\t64\t879\t9.756098\t7.281001\t7.822222\n",
        "# 2\tRNPM221_01\t20\t297\t62\t11\t9\t23\t274\t4\t58\t8.394161\t6.896552\t8.13253\n",
        "\n",
        "# ID\tviral\tnonviral\tnohit\tviral [viral]\tviral [eve]\tnonviral [viral]\tnonviral [eve]\tnohit [viral]\tnohit [eve]\tnv_v %\tnh_v %\tfoo %\n",
        "# RNPM169_01    24  18  7\t22\t2\t2\t16\t0\t7\t12.5\t0.0\t8.695652\n",
        "\n",
        "# 4\tZIKV_01\t66\t346\t330\t36\t30\t99\t247\t93\t237\t40.080972\t39.240506\t39.669421\n",
        "\n",
        "\n",
        "# df = px.data.tips()\n",
        "# fig = px.sunburst(df, path=['sex', 'day', 'time'], values='total_bill', color='day')\n",
        "# fig.show()\n",
        "\n",
        "\n",
        "sunburst = go.Sunburst(\n",
        "# fig = go.Figure(px.Sunburst(\n",
        "    # labels=[\"Contigs Montados\", \"Não virais\"],\n",
        "    # parents=[\"\", \"Contigs Montados\"],\n",
        "    # values=[70, 346],\n",
        "    textinfo='label+value',\n",
        "    # leaf=[.7, .3],\n",
        "    # leaf=.3,\n",
        "    # leaf=True\n",
        "    sort=True,\n",
        "    rotation=-30,\n",
        "    # insidetextorientation='horizontal',\n",
        "    # insidetextorientation='radial',\n",
        "    # insidetextorientation='tangential',\n",
        "    branchvalues='total',\n",
        "    textfont_size=15,\n",
        "    labels=[\"Contigs\", \"Não virais\", \"Não Mapeados\", \"Virais*\", \"Virais Exógenos\", \"EVE\"],\n",
        "    # labels=[\"Contigs Montados\", \"Contigs >= 200 nt\", \"Não virais\", \"Não Mapeados\", \"Virais*\", \"Virais Endógenos\", \"Virais\"],\n",
        "    # parents=[\"\", \"Contigs Montados\", \"Contigs Montados\", \"Contigs Montados\", \"Virais*\", \"Virais*\" ],\n",
        "    parents=[\"\", \"Contigs\", \"Contigs\", 'Contigs', \"Virais*\", \"Virais*\" ],\n",
        "    # values=[3166, 80, 24, 14, 42, 40, 2],\n",
        "    values=[80, 24, 14, 42, 40, 2],\n",
        ")\n",
        "\n",
        "fig = go.Figure(\n",
        "    data=[sunburst],\n",
        "    layout=go.Layout(\n",
        "        title=go.layout.Title(text=\"RNPM170_01: Classification\"),\n",
        "        title_font_size=20,\n",
        "        height=600,\n",
        "        width=600,\n",
        "        margin=dict(l=0, r=0, b=0),\n",
        "        # automargin=False,\n",
        "        # autosize=True,\n",
        "        # boxmode=True,\n",
        "        colorway=['#1f77b4', '#ff7f0e', '#2ca02c', '#d62728', '#9467bd', '#8c564b', '#e377c2', '#7f7f7f', '#bcbd22', '#17becf'],\n",
        "        # colorway=['#ff7f0e', '#2ca02c', '#d62728', '#9467bd', '#8c564b', '#e377c2', '#7f7f7f', '#bcbd22', '#17becf'],\n",
        "        # colorway=['#2ca02c', '#d62728', '#9467bd', '#8c564b', '#e377c2', '#7f7f7f', '#bcbd22', '#17becf'],\n",
        "        # colorway=['#1f77b4', '#2ca02c', '#8c564b', '#e377c2', '#7f7f7f', '#bcbd22', '#17becf'],\n",
        "    )\n",
        ")\n",
        "# fig.update_layout(title_automargin='paper')\n",
        "# fig.update_layout(title_text='RNPM170_01: Classification', margin=dict(l=0, r=0, b=0))\n",
        "\n",
        "\n",
        "fig.show()\n",
        "\n",
        "# ? go.Layout"
      ]
    },
    {
      "cell_type": "code",
      "execution_count": 152,
      "metadata": {},
      "outputs": [
        {
          "data": {
            "application/vnd.plotly.v1+json": {
              "config": {
                "plotlyServerURL": "https://plot.ly"
              },
              "data": [
                {
                  "branchvalues": "total",
                  "labels": [
                    " ",
                    "Virais*",
                    "Virais",
                    "EVEs"
                  ],
                  "parents": [
                    "",
                    " ",
                    "Virais*",
                    "Virais*"
                  ],
                  "rotation": -45,
                  "sort": true,
                  "textfont": {
                    "size": 15
                  },
                  "textinfo": "label+value",
                  "type": "sunburst",
                  "values": [
                    4000,
                    2315,
                    1321,
                    994
                  ]
                }
              ],
              "layout": {
                "colorway": [
                  "#2ca02c",
                  "#d62728",
                  "#9467bd",
                  "#8c564b",
                  "#e377c2",
                  "#7f7f7f",
                  "#bcbd22",
                  "#17becf"
                ],
                "height": 600,
                "margin": {
                  "b": 0,
                  "l": 0,
                  "r": 0
                },
                "template": {
                  "data": {
                    "bar": [
                      {
                        "error_x": {
                          "color": "#2a3f5f"
                        },
                        "error_y": {
                          "color": "#2a3f5f"
                        },
                        "marker": {
                          "line": {
                            "color": "#E5ECF6",
                            "width": 0.5
                          },
                          "pattern": {
                            "fillmode": "overlay",
                            "size": 10,
                            "solidity": 0.2
                          }
                        },
                        "type": "bar"
                      }
                    ],
                    "barpolar": [
                      {
                        "marker": {
                          "line": {
                            "color": "#E5ECF6",
                            "width": 0.5
                          },
                          "pattern": {
                            "fillmode": "overlay",
                            "size": 10,
                            "solidity": 0.2
                          }
                        },
                        "type": "barpolar"
                      }
                    ],
                    "carpet": [
                      {
                        "aaxis": {
                          "endlinecolor": "#2a3f5f",
                          "gridcolor": "white",
                          "linecolor": "white",
                          "minorgridcolor": "white",
                          "startlinecolor": "#2a3f5f"
                        },
                        "baxis": {
                          "endlinecolor": "#2a3f5f",
                          "gridcolor": "white",
                          "linecolor": "white",
                          "minorgridcolor": "white",
                          "startlinecolor": "#2a3f5f"
                        },
                        "type": "carpet"
                      }
                    ],
                    "choropleth": [
                      {
                        "colorbar": {
                          "outlinewidth": 0,
                          "ticks": ""
                        },
                        "type": "choropleth"
                      }
                    ],
                    "contour": [
                      {
                        "colorbar": {
                          "outlinewidth": 0,
                          "ticks": ""
                        },
                        "colorscale": [
                          [
                            0,
                            "#0d0887"
                          ],
                          [
                            0.1111111111111111,
                            "#46039f"
                          ],
                          [
                            0.2222222222222222,
                            "#7201a8"
                          ],
                          [
                            0.3333333333333333,
                            "#9c179e"
                          ],
                          [
                            0.4444444444444444,
                            "#bd3786"
                          ],
                          [
                            0.5555555555555556,
                            "#d8576b"
                          ],
                          [
                            0.6666666666666666,
                            "#ed7953"
                          ],
                          [
                            0.7777777777777778,
                            "#fb9f3a"
                          ],
                          [
                            0.8888888888888888,
                            "#fdca26"
                          ],
                          [
                            1,
                            "#f0f921"
                          ]
                        ],
                        "type": "contour"
                      }
                    ],
                    "contourcarpet": [
                      {
                        "colorbar": {
                          "outlinewidth": 0,
                          "ticks": ""
                        },
                        "type": "contourcarpet"
                      }
                    ],
                    "heatmap": [
                      {
                        "colorbar": {
                          "outlinewidth": 0,
                          "ticks": ""
                        },
                        "colorscale": [
                          [
                            0,
                            "#0d0887"
                          ],
                          [
                            0.1111111111111111,
                            "#46039f"
                          ],
                          [
                            0.2222222222222222,
                            "#7201a8"
                          ],
                          [
                            0.3333333333333333,
                            "#9c179e"
                          ],
                          [
                            0.4444444444444444,
                            "#bd3786"
                          ],
                          [
                            0.5555555555555556,
                            "#d8576b"
                          ],
                          [
                            0.6666666666666666,
                            "#ed7953"
                          ],
                          [
                            0.7777777777777778,
                            "#fb9f3a"
                          ],
                          [
                            0.8888888888888888,
                            "#fdca26"
                          ],
                          [
                            1,
                            "#f0f921"
                          ]
                        ],
                        "type": "heatmap"
                      }
                    ],
                    "heatmapgl": [
                      {
                        "colorbar": {
                          "outlinewidth": 0,
                          "ticks": ""
                        },
                        "colorscale": [
                          [
                            0,
                            "#0d0887"
                          ],
                          [
                            0.1111111111111111,
                            "#46039f"
                          ],
                          [
                            0.2222222222222222,
                            "#7201a8"
                          ],
                          [
                            0.3333333333333333,
                            "#9c179e"
                          ],
                          [
                            0.4444444444444444,
                            "#bd3786"
                          ],
                          [
                            0.5555555555555556,
                            "#d8576b"
                          ],
                          [
                            0.6666666666666666,
                            "#ed7953"
                          ],
                          [
                            0.7777777777777778,
                            "#fb9f3a"
                          ],
                          [
                            0.8888888888888888,
                            "#fdca26"
                          ],
                          [
                            1,
                            "#f0f921"
                          ]
                        ],
                        "type": "heatmapgl"
                      }
                    ],
                    "histogram": [
                      {
                        "marker": {
                          "pattern": {
                            "fillmode": "overlay",
                            "size": 10,
                            "solidity": 0.2
                          }
                        },
                        "type": "histogram"
                      }
                    ],
                    "histogram2d": [
                      {
                        "colorbar": {
                          "outlinewidth": 0,
                          "ticks": ""
                        },
                        "colorscale": [
                          [
                            0,
                            "#0d0887"
                          ],
                          [
                            0.1111111111111111,
                            "#46039f"
                          ],
                          [
                            0.2222222222222222,
                            "#7201a8"
                          ],
                          [
                            0.3333333333333333,
                            "#9c179e"
                          ],
                          [
                            0.4444444444444444,
                            "#bd3786"
                          ],
                          [
                            0.5555555555555556,
                            "#d8576b"
                          ],
                          [
                            0.6666666666666666,
                            "#ed7953"
                          ],
                          [
                            0.7777777777777778,
                            "#fb9f3a"
                          ],
                          [
                            0.8888888888888888,
                            "#fdca26"
                          ],
                          [
                            1,
                            "#f0f921"
                          ]
                        ],
                        "type": "histogram2d"
                      }
                    ],
                    "histogram2dcontour": [
                      {
                        "colorbar": {
                          "outlinewidth": 0,
                          "ticks": ""
                        },
                        "colorscale": [
                          [
                            0,
                            "#0d0887"
                          ],
                          [
                            0.1111111111111111,
                            "#46039f"
                          ],
                          [
                            0.2222222222222222,
                            "#7201a8"
                          ],
                          [
                            0.3333333333333333,
                            "#9c179e"
                          ],
                          [
                            0.4444444444444444,
                            "#bd3786"
                          ],
                          [
                            0.5555555555555556,
                            "#d8576b"
                          ],
                          [
                            0.6666666666666666,
                            "#ed7953"
                          ],
                          [
                            0.7777777777777778,
                            "#fb9f3a"
                          ],
                          [
                            0.8888888888888888,
                            "#fdca26"
                          ],
                          [
                            1,
                            "#f0f921"
                          ]
                        ],
                        "type": "histogram2dcontour"
                      }
                    ],
                    "mesh3d": [
                      {
                        "colorbar": {
                          "outlinewidth": 0,
                          "ticks": ""
                        },
                        "type": "mesh3d"
                      }
                    ],
                    "parcoords": [
                      {
                        "line": {
                          "colorbar": {
                            "outlinewidth": 0,
                            "ticks": ""
                          }
                        },
                        "type": "parcoords"
                      }
                    ],
                    "pie": [
                      {
                        "automargin": true,
                        "type": "pie"
                      }
                    ],
                    "scatter": [
                      {
                        "fillpattern": {
                          "fillmode": "overlay",
                          "size": 10,
                          "solidity": 0.2
                        },
                        "type": "scatter"
                      }
                    ],
                    "scatter3d": [
                      {
                        "line": {
                          "colorbar": {
                            "outlinewidth": 0,
                            "ticks": ""
                          }
                        },
                        "marker": {
                          "colorbar": {
                            "outlinewidth": 0,
                            "ticks": ""
                          }
                        },
                        "type": "scatter3d"
                      }
                    ],
                    "scattercarpet": [
                      {
                        "marker": {
                          "colorbar": {
                            "outlinewidth": 0,
                            "ticks": ""
                          }
                        },
                        "type": "scattercarpet"
                      }
                    ],
                    "scattergeo": [
                      {
                        "marker": {
                          "colorbar": {
                            "outlinewidth": 0,
                            "ticks": ""
                          }
                        },
                        "type": "scattergeo"
                      }
                    ],
                    "scattergl": [
                      {
                        "marker": {
                          "colorbar": {
                            "outlinewidth": 0,
                            "ticks": ""
                          }
                        },
                        "type": "scattergl"
                      }
                    ],
                    "scattermapbox": [
                      {
                        "marker": {
                          "colorbar": {
                            "outlinewidth": 0,
                            "ticks": ""
                          }
                        },
                        "type": "scattermapbox"
                      }
                    ],
                    "scatterpolar": [
                      {
                        "marker": {
                          "colorbar": {
                            "outlinewidth": 0,
                            "ticks": ""
                          }
                        },
                        "type": "scatterpolar"
                      }
                    ],
                    "scatterpolargl": [
                      {
                        "marker": {
                          "colorbar": {
                            "outlinewidth": 0,
                            "ticks": ""
                          }
                        },
                        "type": "scatterpolargl"
                      }
                    ],
                    "scatterternary": [
                      {
                        "marker": {
                          "colorbar": {
                            "outlinewidth": 0,
                            "ticks": ""
                          }
                        },
                        "type": "scatterternary"
                      }
                    ],
                    "surface": [
                      {
                        "colorbar": {
                          "outlinewidth": 0,
                          "ticks": ""
                        },
                        "colorscale": [
                          [
                            0,
                            "#0d0887"
                          ],
                          [
                            0.1111111111111111,
                            "#46039f"
                          ],
                          [
                            0.2222222222222222,
                            "#7201a8"
                          ],
                          [
                            0.3333333333333333,
                            "#9c179e"
                          ],
                          [
                            0.4444444444444444,
                            "#bd3786"
                          ],
                          [
                            0.5555555555555556,
                            "#d8576b"
                          ],
                          [
                            0.6666666666666666,
                            "#ed7953"
                          ],
                          [
                            0.7777777777777778,
                            "#fb9f3a"
                          ],
                          [
                            0.8888888888888888,
                            "#fdca26"
                          ],
                          [
                            1,
                            "#f0f921"
                          ]
                        ],
                        "type": "surface"
                      }
                    ],
                    "table": [
                      {
                        "cells": {
                          "fill": {
                            "color": "#EBF0F8"
                          },
                          "line": {
                            "color": "white"
                          }
                        },
                        "header": {
                          "fill": {
                            "color": "#C8D4E3"
                          },
                          "line": {
                            "color": "white"
                          }
                        },
                        "type": "table"
                      }
                    ]
                  },
                  "layout": {
                    "annotationdefaults": {
                      "arrowcolor": "#2a3f5f",
                      "arrowhead": 0,
                      "arrowwidth": 1
                    },
                    "autotypenumbers": "strict",
                    "coloraxis": {
                      "colorbar": {
                        "outlinewidth": 0,
                        "ticks": ""
                      }
                    },
                    "colorscale": {
                      "diverging": [
                        [
                          0,
                          "#8e0152"
                        ],
                        [
                          0.1,
                          "#c51b7d"
                        ],
                        [
                          0.2,
                          "#de77ae"
                        ],
                        [
                          0.3,
                          "#f1b6da"
                        ],
                        [
                          0.4,
                          "#fde0ef"
                        ],
                        [
                          0.5,
                          "#f7f7f7"
                        ],
                        [
                          0.6,
                          "#e6f5d0"
                        ],
                        [
                          0.7,
                          "#b8e186"
                        ],
                        [
                          0.8,
                          "#7fbc41"
                        ],
                        [
                          0.9,
                          "#4d9221"
                        ],
                        [
                          1,
                          "#276419"
                        ]
                      ],
                      "sequential": [
                        [
                          0,
                          "#0d0887"
                        ],
                        [
                          0.1111111111111111,
                          "#46039f"
                        ],
                        [
                          0.2222222222222222,
                          "#7201a8"
                        ],
                        [
                          0.3333333333333333,
                          "#9c179e"
                        ],
                        [
                          0.4444444444444444,
                          "#bd3786"
                        ],
                        [
                          0.5555555555555556,
                          "#d8576b"
                        ],
                        [
                          0.6666666666666666,
                          "#ed7953"
                        ],
                        [
                          0.7777777777777778,
                          "#fb9f3a"
                        ],
                        [
                          0.8888888888888888,
                          "#fdca26"
                        ],
                        [
                          1,
                          "#f0f921"
                        ]
                      ],
                      "sequentialminus": [
                        [
                          0,
                          "#0d0887"
                        ],
                        [
                          0.1111111111111111,
                          "#46039f"
                        ],
                        [
                          0.2222222222222222,
                          "#7201a8"
                        ],
                        [
                          0.3333333333333333,
                          "#9c179e"
                        ],
                        [
                          0.4444444444444444,
                          "#bd3786"
                        ],
                        [
                          0.5555555555555556,
                          "#d8576b"
                        ],
                        [
                          0.6666666666666666,
                          "#ed7953"
                        ],
                        [
                          0.7777777777777778,
                          "#fb9f3a"
                        ],
                        [
                          0.8888888888888888,
                          "#fdca26"
                        ],
                        [
                          1,
                          "#f0f921"
                        ]
                      ]
                    },
                    "colorway": [
                      "#636efa",
                      "#EF553B",
                      "#00cc96",
                      "#ab63fa",
                      "#FFA15A",
                      "#19d3f3",
                      "#FF6692",
                      "#B6E880",
                      "#FF97FF",
                      "#FECB52"
                    ],
                    "font": {
                      "color": "#2a3f5f"
                    },
                    "geo": {
                      "bgcolor": "white",
                      "lakecolor": "white",
                      "landcolor": "#E5ECF6",
                      "showlakes": true,
                      "showland": true,
                      "subunitcolor": "white"
                    },
                    "hoverlabel": {
                      "align": "left"
                    },
                    "hovermode": "closest",
                    "mapbox": {
                      "style": "light"
                    },
                    "paper_bgcolor": "white",
                    "plot_bgcolor": "#E5ECF6",
                    "polar": {
                      "angularaxis": {
                        "gridcolor": "white",
                        "linecolor": "white",
                        "ticks": ""
                      },
                      "bgcolor": "#E5ECF6",
                      "radialaxis": {
                        "gridcolor": "white",
                        "linecolor": "white",
                        "ticks": ""
                      }
                    },
                    "scene": {
                      "xaxis": {
                        "backgroundcolor": "#E5ECF6",
                        "gridcolor": "white",
                        "gridwidth": 2,
                        "linecolor": "white",
                        "showbackground": true,
                        "ticks": "",
                        "zerolinecolor": "white"
                      },
                      "yaxis": {
                        "backgroundcolor": "#E5ECF6",
                        "gridcolor": "white",
                        "gridwidth": 2,
                        "linecolor": "white",
                        "showbackground": true,
                        "ticks": "",
                        "zerolinecolor": "white"
                      },
                      "zaxis": {
                        "backgroundcolor": "#E5ECF6",
                        "gridcolor": "white",
                        "gridwidth": 2,
                        "linecolor": "white",
                        "showbackground": true,
                        "ticks": "",
                        "zerolinecolor": "white"
                      }
                    },
                    "shapedefaults": {
                      "line": {
                        "color": "#2a3f5f"
                      }
                    },
                    "ternary": {
                      "aaxis": {
                        "gridcolor": "white",
                        "linecolor": "white",
                        "ticks": ""
                      },
                      "baxis": {
                        "gridcolor": "white",
                        "linecolor": "white",
                        "ticks": ""
                      },
                      "bgcolor": "#E5ECF6",
                      "caxis": {
                        "gridcolor": "white",
                        "linecolor": "white",
                        "ticks": ""
                      }
                    },
                    "title": {
                      "x": 0.05
                    },
                    "xaxis": {
                      "automargin": true,
                      "gridcolor": "white",
                      "linecolor": "white",
                      "ticks": "",
                      "title": {
                        "standoff": 15
                      },
                      "zerolinecolor": "white",
                      "zerolinewidth": 2
                    },
                    "yaxis": {
                      "automargin": true,
                      "gridcolor": "white",
                      "linecolor": "white",
                      "ticks": "",
                      "title": {
                        "standoff": 15
                      },
                      "zerolinecolor": "white",
                      "zerolinewidth": 2
                    }
                  }
                },
                "title": {
                  "font": {
                    "size": 20
                  },
                  "text": "Clasificador Vírus × EVEs - Dados de treinamento"
                },
                "width": 600
              }
            }
          },
          "metadata": {},
          "output_type": "display_data"
        }
      ],
      "source": [
        "import plotly.graph_objects as go\n",
        "import plotly.express as px\n",
        "\n",
        "\n",
        "# 0\tRNPM68_01\t2\t12\t5\t1\t1\t0\t12\t0\t5\t0.0\t0.0\t0.0\n",
        "# 1\tRNPM164_01\t42\t24\t14\t40\t2\t0\t24\t0\t14\t0.0\t0.0\t0.0\n",
        "# 3\tRKPM44_06\t25\t21\t26\t23\t2\t0\t21\t0\t26\t0.0\t0.0\t0.0\n",
        "# 8\tRNPM170_01\t42\t24\t14\t40\t2\t0\t24\t0\t14\t0.0\t0.0\t0.0\n",
        "# 6\tRNPM110_02\t47\t73\t151\t17\t30\t4\t69\t1\t150\t5.797101\t0.666667\t2.283105\n",
        "# 5\tRNPM2_02\t61\t270\t943\t5\t56\t24\t246\t64\t879\t9.756098\t7.281001\t7.822222\n",
        "# 2\tRNPM221_01\t20\t297\t62\t11\t9\t23\t274\t4\t58\t8.394161\t6.896552\t8.13253\n",
        "\n",
        "# ID\tviral\tnonviral\tnohit\tviral [viral]\tviral [eve]\tnonviral [viral]\tnonviral [eve]\tnohit [viral]\tnohit [eve]\tnv_v %\tnh_v %\tfoo %\n",
        "# RNPM169_01    24  18  7\t22\t2\t2\t16\t0\t7\t12.5\t0.0\t8.695652\n",
        "\n",
        "# 4\tZIKV_01\t66\t346\t330\t36\t30\t99\t247\t93\t237\t40.080972\t39.240506\t39.669421\n",
        "\n",
        "\n",
        "# df = px.data.tips()\n",
        "# fig = px.sunburst(df, path=['sex', 'day', 'time'], values='total_bill', color='day')\n",
        "# fig.show()\n",
        "\n",
        "\n",
        "sunburst = go.Sunburst(\n",
        "# fig = go.Figure(px.Sunburst(\n",
        "    # labels=[\"Contigs Montados\", \"Não virais\"],\n",
        "    # parents=[\"\", \"Contigs Montados\"],\n",
        "    # values=[70, 346],\n",
        "    textinfo='label+value',\n",
        "    # leaf=[.7, .3],\n",
        "    # leaf=.3,\n",
        "    # leaf=True\n",
        "    sort=True,\n",
        "    rotation=-45,\n",
        "    # insidetextorientation='horizontal',\n",
        "    # insidetextorientation='radial',\n",
        "    # insidetextorientation='tangential',\n",
        "    branchvalues='total',\n",
        "    textfont_size=15,\n",
        "    labels=[\" \", \"Virais*\", \"Virais\", \"EVEs\"],\n",
        "    # labels=[\"Contigs Montados\", \"Contigs >= 200 nt\", \"Não virais\", \"Não Mapeados\", \"Virais*\", \"Virais Endógenos\", \"Virais\"],\n",
        "    # parents=[\"\", \"Contigs Montados\", \"Contigs Montados\", \"Contigs Montados\", \"Virais*\", \"Virais*\" ],\n",
        "    parents=[\"\", \" \", \"Virais*\", \"Virais*\" ],\n",
        "    # values=[3166, 80, 24, 14, 42, 40, 2],\n",
        "    values=[4000, 2315, 1321, 994],\n",
        "\n",
        "    # labels=[\"Eve\", \"Cain\", \"Seth\", \"Enos\", \"Noam\", \"Abel\", \"Awan\", \"Enoch\", \"Azura\"],\n",
        "    # parents=[\"\", \"Eve\", \"Eve\", \"Seth\", \"Seth\", \"Eve\", \"Eve\", \"Awan\", \"Eve\" ],\n",
        "    # values=[10, 14, 12, 10, 2, 6, 6, 4, 4],\n",
        ")\n",
        "\n",
        "fig = go.Figure(\n",
        "    data=[sunburst],\n",
        "    layout=go.Layout(\n",
        "        title=go.layout.Title(text=\"Clasificador Vírus × EVEs - Dados de treinamento\"),\n",
        "        title_font_size=20,\n",
        "        height=600,\n",
        "        width=600,\n",
        "        margin=dict(l=0, r=0, b=0),\n",
        "        # automargin=False,\n",
        "        # autosize=True,\n",
        "        # boxmode=True,\n",
        "        # colorway=['#1f77b4', '#ff7f0e', '#2ca02c', '#d62728', '#9467bd', '#8c564b', '#e377c2', '#7f7f7f', '#bcbd22', '#17becf'],\n",
        "        # colorway=['#ff7f0e', '#2ca02c', '#d62728', '#9467bd', '#8c564b', '#e377c2', '#7f7f7f', '#bcbd22', '#17becf'],\n",
        "        colorway=['#2ca02c', '#d62728', '#9467bd', '#8c564b', '#e377c2', '#7f7f7f', '#bcbd22', '#17becf'],\n",
        "        # colorway=['#17becf'],\n",
        "    )\n",
        ")\n",
        "# fig.update_layout(title_automargin='paper')\n",
        "# fig.update_layout(title_text='RNPM170_01: Classification', margin=dict(l=0, r=0, b=0))\n",
        "\n",
        "\n",
        "fig.show()\n"
      ]
    },
    {
      "cell_type": "code",
      "execution_count": 105,
      "metadata": {},
      "outputs": [
        {
          "data": {
            "image/png": "[encoded data removed]",
            "text/plain": [
              "<Figure size 900x500 with 2 Axes>"
            ]
          },
          "metadata": {},
          "output_type": "display_data"
        }
      ],
      "source": [
        "import matplotlib.pyplot as plt\n",
        "from matplotlib.patches import ConnectionPatch\n",
        "import numpy as np\n",
        "\n",
        "# make figure and assign axis objects\n",
        "fig, (ax1, ax2) = plt.subplots(1, 2, figsize=(9, 5))\n",
        "fig.subplots_adjust(wspace=0)\n",
        "\n",
        "# pie chart parameters\n",
        "overall_ratios = [.27, .56, .17]\n",
        "labels = ['Approve', 'Disapprove', 'Undecided']\n",
        "explode = [0.1, 0, 0]\n",
        "\n",
        "# rotate so that first wedge is split by the x-axis\n",
        "angle = -180 * overall_ratios[0]\n",
        "wedges, *_ = ax1.pie(overall_ratios, autopct='%1.1f%%', startangle=angle,\n",
        "                     labels=labels, explode=explode)\n",
        "\n",
        "# bar chart parameters\n",
        "age_ratios = [.33, .54, .07, .06]\n",
        "age_labels = ['Under 35', '35-49', '50-65', 'Over 65']\n",
        "bottom = 1\n",
        "width = .2\n",
        "\n",
        "# Adding from the top matches the legend.\n",
        "for j, (height, label) in enumerate(reversed([*zip(age_ratios, age_labels)])):\n",
        "    bottom -= height\n",
        "    bc = ax2.bar(0, height, width, bottom=bottom, color='C0', label=label,\n",
        "                 alpha=0.1 + 0.25 * j)\n",
        "    ax2.bar_label(bc, labels=[f\"{height:.0%}\"], label_type='center')\n",
        "\n",
        "ax2.set_title('Age of approvers')\n",
        "ax2.legend()\n",
        "ax2.axis('off')\n",
        "ax2.set_xlim(- 2.5 * width, 2.5 * width)\n",
        "\n",
        "# use ConnectionPatch to draw lines between the two plots\n",
        "theta1, theta2 = wedges[0].theta1, wedges[0].theta2\n",
        "center, r = wedges[0].center, wedges[0].r\n",
        "bar_height = sum(age_ratios)\n",
        "\n",
        "# # draw top connecting line\n",
        "# x = r * np.cos(np.pi / 180 * theta2) + center[0]\n",
        "# y = r * np.sin(np.pi / 180 * theta2) + center[1]\n",
        "# con = ConnectionPatch(xyA=(-width / 2, bar_height), coordsA=ax2.transData,\n",
        "#                       xyB=(x, y), coordsB=ax1.transData)\n",
        "# con.set_color([0, 0, 0])\n",
        "# con.set_linewidth(4)\n",
        "# ax2.add_artist(con)\n",
        "\n",
        "# # draw bottom connecting line\n",
        "# x = r * np.cos(np.pi / 180 * theta1) + center[0]\n",
        "# y = r * np.sin(np.pi / 180 * theta1) + center[1]\n",
        "# con = ConnectionPatch(xyA=(-width / 2, 0), coordsA=ax2.transData,\n",
        "#                       xyB=(x, y), coordsB=ax1.transData)\n",
        "# con.set_color([0, 0, 0])\n",
        "# ax2.add_artist(con)\n",
        "# con.set_linewidth(4)\n",
        "\n",
        "plt.show()"
      ]
    },
    {
      "cell_type": "code",
      "execution_count": 130,
      "metadata": {},
      "outputs": [
        {
          "data": {
            "image/png": "[encoded data removed]",
            "text/plain": [
              "<Figure size 900x500 with 2 Axes>"
            ]
          },
          "metadata": {},
          "output_type": "display_data"
        }
      ],
      "source": [
        "\n",
        "# make figure and assign axis objects\n",
        "fig, (ax1, ax2) = plt.subplots(1, 2, figsize=(9, 5))\n",
        "fig.subplots_adjust(wspace=0)\n",
        "\n",
        "# pie chart parameters\n",
        "foo = [(66, 'Viral'), (346, 'Non viral'), (330, 'Unmapped')]\n",
        "overall_ratios = [sector[0] for sector in foo]\n",
        "# labels = ['Viral', 'Non Viral', 'Unmapped']\n",
        "labels = [F'{sector[0]} {sector[1]}' for sector in foo]\n",
        "explode = [0.2, 0, 0]\n",
        "\n",
        "# rotate so that first wedge is split by the x-axis\n",
        "angle = -180 * overall_ratios[0]\n",
        "# wedges, *_ = ax1.pie(overall_ratios, labels=labels, autopct='%1.0f%%', explode=explode, startangle=angle)\n",
        "# wedges, *_ = ax1.pie(overall_ratios, labels=labels, explode=explode, startangle=angle, pctdistance=8.5, labeldistance=1.1)\n",
        "wedges, *_ = ax1.pie(overall_ratios, labels=labels, explode=explode, startangle=angle, labeldistance=.4)\n",
        "\n",
        "# bar chart parameters\n",
        "age_ratios = [36, 30]\n",
        "age_labels = ['Viral', 'EVEs']\n",
        "bottom = 1\n",
        "width = .2\n",
        "\n",
        "ax1.set_title('Pipeline Classification')\n",
        "\n",
        "# # Plotting the pie chart with labels inside\n",
        "# plt.pie(values, labels=sectors, autopct='%1.1f%%', pctdistance=0.85, labeldistance=1.1)\n",
        "\n",
        "# # Drawing a white circle at the center to create a donut chart-like appearance\n",
        "# center_circle = plt.Circle((0, 0), 0.70, fc='white')\n",
        "# fig = plt.gcf()\n",
        "# fig.gca().add_artist(center_circle)\n",
        "\n",
        "\n",
        "# Adding from the top matches the legend.\n",
        "for j, (height, label) in enumerate(reversed([*zip(age_ratios, age_labels)])):\n",
        "    bottom -= height\n",
        "    bc = ax2.bar(0, height, width, bottom=bottom, color='C0', label=label, alpha=0.1 + 0.25 * j)\n",
        "    # ax2.bar_label(bc, labels=[f\"{height:.0%}\"], label_type='center')\n",
        "    ax2.bar_label(bc, labels=[height], label_type='center')\n",
        "\n",
        "ax2.set_title('Viral × EVE classification')\n",
        "ax2.legend()\n",
        "ax2.axis('off')\n",
        "ax2.set_xlim(- 2.5 * width, 2.5 * width)\n",
        "\n",
        "# use ConnectionPatch to draw lines between the two plots\n",
        "theta1, theta2 = wedges[0].theta1, wedges[0].theta2\n",
        "center, r = wedges[0].center, wedges[0].r\n",
        "bar_height = sum(age_ratios)\n",
        "\n",
        "# draw top connecting line\n",
        "x = r * np.cos(np.pi / 180 * theta2) + center[0]\n",
        "y = r * np.sin(np.pi / 180 * theta2) + center[1]\n",
        "con = ConnectionPatch(\n",
        "    xyA=(-width / 2, 0), coordsA=ax2.transData,\n",
        "    # xyB=(x, y), coordsB=ax1.transData\n",
        "    xyB=(x, y), coordsB=ax1.transData\n",
        ")\n",
        "con.set_color([0, 0, 0])\n",
        "con.set_linewidth(1)\n",
        "ax2.add_artist(con)\n",
        "\n",
        "# draw bottom connecting line\n",
        "x = r * np.cos(np.pi / 180 * theta1) + center[0]\n",
        "y = r * np.sin(np.pi / 180 * theta1) + center[1]\n",
        "con = ConnectionPatch(xyA=(-width / 2, -64), coordsA=ax2.transData,\n",
        "                      xyB=(x, y), coordsB=ax1.transData)\n",
        "con.set_color([0, 0, 0])\n",
        "ax2.add_artist(con)\n",
        "con.set_linewidth(1)\n",
        "\n",
        "plt.show()"
      ]
    },
    {
      "cell_type": "code",
      "execution_count": 30,
      "metadata": {},
      "outputs": [
        {
          "data": {
            "image/png": "[encoded data removed]",
            "text/plain": [
              "<Figure size 900x500 with 2 Axes>"
            ]
          },
          "metadata": {},
          "output_type": "display_data"
        }
      ],
      "source": [
        "\n",
        "# make figure and assign axis objects\n",
        "fig, (ax1, ax2) = plt.subplots(1, 2, figsize=(9, 5))\n",
        "fig.subplots_adjust(wspace=0)\n",
        "\n",
        "# pie chart parameters\n",
        "foo = [(42, 'Viral'), (24, 'Non viral'), (7, 'Unmapped')]\n",
        "overall_ratios = [sector[0] for sector in foo]\n",
        "# labels = ['Viral', 'Non Viral', 'Unmapped']\n",
        "labels = [F'{sector[0]} {sector[1]}' for sector in foo]\n",
        "explode = [0.2, 0, 0]\n",
        "\n",
        "# rotate so that first wedge is split by the x-axis\n",
        "angle = 20 * overall_ratios[0]\n",
        "# wedges, *_ = ax1.pie(overall_ratios, labels=labels, autopct='%1.0f%%', explode=explode, startangle=angle)\n",
        "# wedges, *_ = ax1.pie(overall_ratios, labels=labels, explode=explode, startangle=angle, pctdistance=8.5, labeldistance=1.1)\n",
        "wedges, *_ = ax1.pie(overall_ratios, labels=labels, explode=explode, startangle=angle, labeldistance=.4)\n",
        "\n",
        "# bar chart parameters\n",
        "age_ratios = [40, 2]\n",
        "age_labels = ['Viral', 'EVEs']\n",
        "bottom = 1\n",
        "width = .2\n",
        "\n",
        "ax1.set_title('RNPM170_01: Pipeline Classification')\n",
        "\n",
        "# # Plotting the pie chart with labels inside\n",
        "# plt.pie(values, labels=sectors, autopct='%1.1f%%', pctdistance=0.85, labeldistance=1.1)\n",
        "\n",
        "# # Drawing a white circle at the center to create a donut chart-like appearance\n",
        "# center_circle = plt.Circle((0, 0), 0.70, fc='white')\n",
        "# fig = plt.gcf()\n",
        "# fig.gca().add_artist(center_circle)\n",
        "\n",
        "\n",
        "# Adding from the top matches the legend.\n",
        "for j, (height, label) in enumerate(reversed([*zip(age_ratios, age_labels)])):\n",
        "    bottom -= height\n",
        "    bc = ax2.bar(0, height, width, bottom=bottom, color='C0', label=label, alpha=0.1 + 0.25 * j)\n",
        "    # ax2.bar_label(bc, labels=[f\"{height:.0%}\"], label_type='center')\n",
        "    ax2.bar_label(bc, labels=[height], label_type='center')\n",
        "\n",
        "ax2.set_title('Viral × EVE classification [contigs]')\n",
        "ax2.legend()\n",
        "ax2.axis('off')\n",
        "ax2.set_xlim(- 2.5 * width, 2.5 * width)\n",
        "\n",
        "# use ConnectionPatch to draw lines between the two plots\n",
        "theta1, theta2 = wedges[0].theta1, wedges[0].theta2\n",
        "center, r = wedges[0].center, wedges[0].r\n",
        "bar_height = sum(age_ratios)\n",
        "\n",
        "# draw top connecting line\n",
        "x = r * np.cos(np.pi / 180 * theta2) + center[0]\n",
        "y = r * np.sin(np.pi / 180 * theta2) + center[1]\n",
        "con = ConnectionPatch(\n",
        "    xyA=(-width / 2, 0), coordsA=ax2.transData,\n",
        "    # xyB=(x, y), coordsB=ax1.transData\n",
        "    xyB=(x, y), coordsB=ax1.transData\n",
        ")\n",
        "con.set_color([0, 0, 0])\n",
        "con.set_linewidth(1)\n",
        "ax2.add_artist(con)\n",
        "\n",
        "# draw bottom connecting line\n",
        "x = r * np.cos(np.pi / 180 * theta1) + center[0]\n",
        "y = r * np.sin(np.pi / 180 * theta1) + center[1]\n",
        "con = ConnectionPatch(xyA=(-width / 2, -64), coordsA=ax2.transData,\n",
        "                      xyB=(x, y), coordsB=ax1.transData)\n",
        "con.set_color([0, 0, 0])\n",
        "ax2.add_artist(con)\n",
        "con.set_linewidth(1)\n",
        "\n",
        "plt.show()"
      ]
    },
    {
      "attachments": {},
      "cell_type": "markdown",
      "metadata": {},
      "source": [
        "## Inspect individual lib"
      ]
    },
    {
      "cell_type": "code",
      "execution_count": 60,
      "metadata": {},
      "outputs": [
        {
          "data": {
            "text/plain": [
              "'RNPM170_01'"
            ]
          },
          "execution_count": 60,
          "metadata": {},
          "output_type": "execute_result"
        }
      ],
      "source": [
        "# { 'id': 'RNPM169_01',   'dir': f'{path_r2d2}/RNPM169_01' },\n",
        "# { 'id': 'RNPM170_01',   'dir': f'{path_r2d2}/RNPM170_01' },\n",
        "\n",
        "\n",
        "\n",
        "lib = libs[8]\n",
        "lib['id']"
      ]
    },
    {
      "cell_type": "code",
      "execution_count": 13,
      "metadata": {},
      "outputs": [
        {
          "name": "stdout",
          "output_type": "stream",
          "text": [
            "\n",
            "-- RNPM170_01 Classification Summary --\n"
          ]
        },
        {
          "data": {
            "text/plain": [
              "Similarity_label  class\n",
              "nohit             eve      14\n",
              "nonviral          eve      24\n",
              "viral             viral    40\n",
              "                  eve       2\n",
              "Name: class, dtype: int64"
            ]
          },
          "execution_count": 13,
          "metadata": {},
          "output_type": "execute_result"
        }
      ],
      "source": [
        "print(f'\\n-- '+lib['id']+' Classification Summary --')\n",
        "lib['df_classification'].groupby(col_class_dark)[col_class_eve].value_counts()"
      ]
    },
    {
      "cell_type": "code",
      "execution_count": 14,
      "metadata": {},
      "outputs": [
        {
          "data": {
            "text/html": [
              "<div>\n",
              "<style scoped>\n",
              "    .dataframe tbody tr th:only-of-type {\n",
              "        vertical-align: middle;\n",
              "    }\n",
              "\n",
              "    .dataframe tbody tr th {\n",
              "        vertical-align: top;\n",
              "    }\n",
              "\n",
              "    .dataframe thead th {\n",
              "        text-align: right;\n",
              "    }\n",
              "</style>\n",
              "<table border=\"1\" class=\"dataframe\">\n",
              "  <thead>\n",
              "    <tr style=\"text-align: right;\">\n",
              "      <th></th>\n",
              "      <th>Contigs_ID</th>\n",
              "      <th>Similarity_label</th>\n",
              "      <th>class</th>\n",
              "    </tr>\n",
              "  </thead>\n",
              "  <tbody>\n",
              "    <tr>\n",
              "      <th>0</th>\n",
              "      <td>RNPM170_Contig1015_1014</td>\n",
              "      <td>nohit</td>\n",
              "      <td>eve</td>\n",
              "    </tr>\n",
              "    <tr>\n",
              "      <th>1</th>\n",
              "      <td>RNPM170_Contig2835_2834</td>\n",
              "      <td>nohit</td>\n",
              "      <td>eve</td>\n",
              "    </tr>\n",
              "    <tr>\n",
              "      <th>2</th>\n",
              "      <td>RNPM170_Contig2840_2839</td>\n",
              "      <td>nohit</td>\n",
              "      <td>eve</td>\n",
              "    </tr>\n",
              "    <tr>\n",
              "      <th>3</th>\n",
              "      <td>RNPM170_Contig2851_2850</td>\n",
              "      <td>nohit</td>\n",
              "      <td>eve</td>\n",
              "    </tr>\n",
              "    <tr>\n",
              "      <th>4</th>\n",
              "      <td>RNPM170_Contig2855_2854</td>\n",
              "      <td>nohit</td>\n",
              "      <td>eve</td>\n",
              "    </tr>\n",
              "  </tbody>\n",
              "</table>\n",
              "</div>"
            ],
            "text/plain": [
              "                Contigs_ID Similarity_label class\n",
              "0  RNPM170_Contig1015_1014            nohit   eve\n",
              "1  RNPM170_Contig2835_2834            nohit   eve\n",
              "2  RNPM170_Contig2840_2839            nohit   eve\n",
              "3  RNPM170_Contig2851_2850            nohit   eve\n",
              "4  RNPM170_Contig2855_2854            nohit   eve"
            ]
          },
          "execution_count": 14,
          "metadata": {},
          "output_type": "execute_result"
        }
      ],
      "source": [
        "lib['df_classification'].head()"
      ]
    },
    {
      "cell_type": "code",
      "execution_count": 97,
      "metadata": {},
      "outputs": [],
      "source": [
        "# lib['df_classification'][ lib['df_classification']['class'] == 'eve']"
      ]
    },
    {
      "cell_type": "code",
      "execution_count": null,
      "metadata": {},
      "outputs": [],
      "source": [
        "profile.bX_RNPM170_Contig2116_2115.publication\n",
        "\n",
        "bX_RNPM170_Contig2116_2115\n",
        "bX_RNPM170_Contig2116_2115\n",
        "\n",
        ">bX_RNPM170_Contig2116_2115 |QRW41912.1 capsid protein [Netjeret virus]\t200"
      ]
    },
    {
      "attachments": {},
      "cell_type": "markdown",
      "metadata": {},
      "source": [
        "### Plot table"
      ]
    },
    {
      "cell_type": "code",
      "execution_count": 15,
      "metadata": {},
      "outputs": [],
      "source": [
        "from tabulate import tabulate"
      ]
    },
    {
      "cell_type": "code",
      "execution_count": 16,
      "metadata": {},
      "outputs": [
        {
          "name": "stdout",
          "output_type": "stream",
          "text": [
            "╒════╤══════════════════════════════════════════════════╤════════════════════╤═════════╕\n",
            "│    │ Contigs_ID                                       │ Similarity_label   │ class   │\n",
            "╞════╪══════════════════════════════════════════════════╪════════════════════╪═════════╡\n",
            "│  0 │ RNPM170_Contig1015_1014                          │ nohit              │ eve     │\n",
            "├────┼──────────────────────────────────────────────────┼────────────────────┼─────────┤\n",
            "│  1 │ RNPM170_Contig2835_2834                          │ nohit              │ eve     │\n",
            "├────┼──────────────────────────────────────────────────┼────────────────────┼─────────┤\n",
            "│  2 │ RNPM170_Contig2840_2839                          │ nohit              │ eve     │\n",
            "├────┼──────────────────────────────────────────────────┼────────────────────┼─────────┤\n",
            "│  3 │ RNPM170_Contig2851_2850                          │ nohit              │ eve     │\n",
            "├────┼──────────────────────────────────────────────────┼────────────────────┼─────────┤\n",
            "│  4 │ RNPM170_Contig2855_2854                          │ nohit              │ eve     │\n",
            "├────┼──────────────────────────────────────────────────┼────────────────────┼─────────┤\n",
            "│  5 │ RNPM170_Contig3338_3337                          │ nohit              │ eve     │\n",
            "├────┼──────────────────────────────────────────────────┼────────────────────┼─────────┤\n",
            "│  6 │ RNPM170_Contig3339_3338                          │ nohit              │ eve     │\n",
            "├────┼──────────────────────────────────────────────────┼────────────────────┼─────────┤\n",
            "│  7 │ RNPM170_Contig3342_3341                          │ nohit              │ eve     │\n",
            "├────┼──────────────────────────────────────────────────┼────────────────────┼─────────┤\n",
            "│  8 │ RNPM170_Contig3344_3343                          │ nohit              │ eve     │\n",
            "├────┼──────────────────────────────────────────────────┼────────────────────┼─────────┤\n",
            "│  9 │ RNPM170_Contig3345_3344                          │ nohit              │ eve     │\n",
            "├────┼──────────────────────────────────────────────────┼────────────────────┼─────────┤\n",
            "│ 10 │ RNPM170_Contig3346_3345                          │ nohit              │ eve     │\n",
            "├────┼──────────────────────────────────────────────────┼────────────────────┼─────────┤\n",
            "│ 11 │ RNPM170_Contig379_378                            │ nohit              │ eve     │\n",
            "├────┼──────────────────────────────────────────────────┼────────────────────┼─────────┤\n",
            "│ 12 │ RNPM170_Contig528_527                            │ nohit              │ eve     │\n",
            "├────┼──────────────────────────────────────────────────┼────────────────────┼─────────┤\n",
            "│ 13 │ RNPM170_Contig558_557                            │ nohit              │ eve     │\n",
            "├────┼──────────────────────────────────────────────────┼────────────────────┼─────────┤\n",
            "│ 14 │ bN_RNPM170_Contig1010_1009                       │ viral              │ viral   │\n",
            "├────┼──────────────────────────────────────────────────┼────────────────────┼─────────┤\n",
            "│ 15 │ bN_RNPM170_Contig1194_1193                       │ nonviral           │ eve     │\n",
            "├────┼──────────────────────────────────────────────────┼────────────────────┼─────────┤\n",
            "│ 16 │ bN_RNPM170_Contig1484_1483                       │ nonviral           │ eve     │\n",
            "├────┼──────────────────────────────────────────────────┼────────────────────┼─────────┤\n",
            "│ 17 │ bN_RNPM170_Contig14_13                           │ viral              │ viral   │\n",
            "├────┼──────────────────────────────────────────────────┼────────────────────┼─────────┤\n",
            "│ 18 │ bN_RNPM170_Contig1772_1771                       │ nonviral           │ eve     │\n",
            "├────┼──────────────────────────────────────────────────┼────────────────────┼─────────┤\n",
            "│ 19 │ bN_RNPM170_Contig1_0                             │ viral              │ viral   │\n",
            "├────┼──────────────────────────────────────────────────┼────────────────────┼─────────┤\n",
            "│ 20 │ bN_RNPM170_Contig257_256                         │ viral              │ viral   │\n",
            "├────┼──────────────────────────────────────────────────┼────────────────────┼─────────┤\n",
            "│ 21 │ bN_RNPM170_Contig2830_2829                       │ viral              │ viral   │\n",
            "├────┼──────────────────────────────────────────────────┼────────────────────┼─────────┤\n",
            "│ 22 │ bN_RNPM170_Contig2831_2830                       │ viral              │ viral   │\n",
            "├────┼──────────────────────────────────────────────────┼────────────────────┼─────────┤\n",
            "│ 23 │ bN_RNPM170_Contig2832_2831                       │ viral              │ viral   │\n",
            "├────┼──────────────────────────────────────────────────┼────────────────────┼─────────┤\n",
            "│ 24 │ bN_RNPM170_Contig2833_2832                       │ viral              │ viral   │\n",
            "├────┼──────────────────────────────────────────────────┼────────────────────┼─────────┤\n",
            "│ 25 │ bN_RNPM170_Contig2834_2833                       │ viral              │ viral   │\n",
            "├────┼──────────────────────────────────────────────────┼────────────────────┼─────────┤\n",
            "│ 26 │ bN_RNPM170_Contig2836_2835                       │ viral              │ viral   │\n",
            "├────┼──────────────────────────────────────────────────┼────────────────────┼─────────┤\n",
            "│ 27 │ bN_RNPM170_Contig2837_2836                       │ viral              │ viral   │\n",
            "├────┼──────────────────────────────────────────────────┼────────────────────┼─────────┤\n",
            "│ 28 │ bN_RNPM170_Contig2838_2837                       │ viral              │ viral   │\n",
            "├────┼──────────────────────────────────────────────────┼────────────────────┼─────────┤\n",
            "│ 29 │ bN_RNPM170_Contig2839_2838                       │ viral              │ viral   │\n",
            "├────┼──────────────────────────────────────────────────┼────────────────────┼─────────┤\n",
            "│ 30 │ bN_RNPM170_Contig2841_2840                       │ viral              │ viral   │\n",
            "├────┼──────────────────────────────────────────────────┼────────────────────┼─────────┤\n",
            "│ 31 │ bN_RNPM170_Contig2842_2841                       │ nonviral           │ eve     │\n",
            "├────┼──────────────────────────────────────────────────┼────────────────────┼─────────┤\n",
            "│ 32 │ bN_RNPM170_Contig2843_2842                       │ viral              │ viral   │\n",
            "├────┼──────────────────────────────────────────────────┼────────────────────┼─────────┤\n",
            "│ 33 │ bN_RNPM170_Contig2844_2843                       │ viral              │ viral   │\n",
            "├────┼──────────────────────────────────────────────────┼────────────────────┼─────────┤\n",
            "│ 34 │ bN_RNPM170_Contig2845_2844                       │ viral              │ viral   │\n",
            "├────┼──────────────────────────────────────────────────┼────────────────────┼─────────┤\n",
            "│ 35 │ bN_RNPM170_Contig2846_2845                       │ viral              │ viral   │\n",
            "├────┼──────────────────────────────────────────────────┼────────────────────┼─────────┤\n",
            "│ 36 │ bN_RNPM170_Contig2847_2846                       │ nonviral           │ eve     │\n",
            "├────┼──────────────────────────────────────────────────┼────────────────────┼─────────┤\n",
            "│ 37 │ bN_RNPM170_Contig2848_2847                       │ viral              │ viral   │\n",
            "├────┼──────────────────────────────────────────────────┼────────────────────┼─────────┤\n",
            "│ 38 │ bN_RNPM170_Contig2849_2848                       │ nonviral           │ eve     │\n",
            "├────┼──────────────────────────────────────────────────┼────────────────────┼─────────┤\n",
            "│ 39 │ bN_RNPM170_Contig2850_2849                       │ nonviral           │ eve     │\n",
            "├────┼──────────────────────────────────────────────────┼────────────────────┼─────────┤\n",
            "│ 40 │ bN_RNPM170_Contig2852_2851                       │ viral              │ viral   │\n",
            "├────┼──────────────────────────────────────────────────┼────────────────────┼─────────┤\n",
            "│ 41 │ bN_RNPM170_Contig2854_2853                       │ viral              │ viral   │\n",
            "├────┼──────────────────────────────────────────────────┼────────────────────┼─────────┤\n",
            "│ 42 │ bN_RNPM170_Contig2859_2858                       │ nonviral           │ eve     │\n",
            "├────┼──────────────────────────────────────────────────┼────────────────────┼─────────┤\n",
            "│ 43 │ bN_RNPM170_Contig2860_2859                       │ viral              │ viral   │\n",
            "├────┼──────────────────────────────────────────────────┼────────────────────┼─────────┤\n",
            "│ 44 │ bN_RNPM170_Contig2862_2861                       │ viral              │ viral   │\n",
            "├────┼──────────────────────────────────────────────────┼────────────────────┼─────────┤\n",
            "│ 45 │ bN_RNPM170_Contig2969_2968                       │ viral              │ viral   │\n",
            "├────┼──────────────────────────────────────────────────┼────────────────────┼─────────┤\n",
            "│ 46 │ bN_RNPM170_Contig2_1                             │ viral              │ viral   │\n",
            "├────┼──────────────────────────────────────────────────┼────────────────────┼─────────┤\n",
            "│ 47 │ bN_RNPM170_Contig3197_3196                       │ viral              │ viral   │\n",
            "├────┼──────────────────────────────────────────────────┼────────────────────┼─────────┤\n",
            "│ 48 │ bN_RNPM170_Contig3220_3219                       │ nonviral           │ eve     │\n",
            "├────┼──────────────────────────────────────────────────┼────────────────────┼─────────┤\n",
            "│ 49 │ bN_RNPM170_Contig325_324                         │ viral              │ viral   │\n",
            "├────┼──────────────────────────────────────────────────┼────────────────────┼─────────┤\n",
            "│ 50 │ bN_RNPM170_Contig3282_3281                       │ nonviral           │ eve     │\n",
            "├────┼──────────────────────────────────────────────────┼────────────────────┼─────────┤\n",
            "│ 51 │ bN_RNPM170_Contig3287_3286                       │ nonviral           │ eve     │\n",
            "├────┼──────────────────────────────────────────────────┼────────────────────┼─────────┤\n",
            "│ 52 │ bN_RNPM170_Contig3326_3325                       │ viral              │ viral   │\n",
            "├────┼──────────────────────────────────────────────────┼────────────────────┼─────────┤\n",
            "│ 53 │ bN_RNPM170_Contig3327_3326                       │ nonviral           │ eve     │\n",
            "├────┼──────────────────────────────────────────────────┼────────────────────┼─────────┤\n",
            "│ 54 │ bN_RNPM170_Contig3329_3328                       │ viral              │ viral   │\n",
            "├────┼──────────────────────────────────────────────────┼────────────────────┼─────────┤\n",
            "│ 55 │ bN_RNPM170_Contig3330_3329                       │ viral              │ viral   │\n",
            "├────┼──────────────────────────────────────────────────┼────────────────────┼─────────┤\n",
            "│ 56 │ bN_RNPM170_Contig3331_3330                       │ viral              │ viral   │\n",
            "├────┼──────────────────────────────────────────────────┼────────────────────┼─────────┤\n",
            "│ 57 │ bN_RNPM170_Contig3332_3331                       │ viral              │ viral   │\n",
            "├────┼──────────────────────────────────────────────────┼────────────────────┼─────────┤\n",
            "│ 58 │ bN_RNPM170_Contig3333_3332                       │ nonviral           │ eve     │\n",
            "├────┼──────────────────────────────────────────────────┼────────────────────┼─────────┤\n",
            "│ 59 │ bN_RNPM170_Contig3334_3333                       │ viral              │ viral   │\n",
            "├────┼──────────────────────────────────────────────────┼────────────────────┼─────────┤\n",
            "│ 60 │ bN_RNPM170_Contig3335_3334                       │ nonviral           │ eve     │\n",
            "├────┼──────────────────────────────────────────────────┼────────────────────┼─────────┤\n",
            "│ 61 │ bN_RNPM170_Contig3337_3336                       │ nonviral           │ eve     │\n",
            "├────┼──────────────────────────────────────────────────┼────────────────────┼─────────┤\n",
            "│ 62 │ bN_RNPM170_Contig3340_3339                       │ nonviral           │ eve     │\n",
            "├────┼──────────────────────────────────────────────────┼────────────────────┼─────────┤\n",
            "│ 63 │ bN_RNPM170_Contig3341_3340                       │ nonviral           │ eve     │\n",
            "├────┼──────────────────────────────────────────────────┼────────────────────┼─────────┤\n",
            "│ 64 │ bN_RNPM170_Contig3343_3342                       │ viral              │ viral   │\n",
            "├────┼──────────────────────────────────────────────────┼────────────────────┼─────────┤\n",
            "│ 65 │ bN_RNPM170_Contig3_2                             │ viral              │ viral   │\n",
            "├────┼──────────────────────────────────────────────────┼────────────────────┼─────────┤\n",
            "│ 66 │ bN_RNPM170_Contig461_460                         │ nonviral           │ eve     │\n",
            "├────┼──────────────────────────────────────────────────┼────────────────────┼─────────┤\n",
            "│ 67 │ bN_RNPM170_Contig489_488                         │ nonviral           │ eve     │\n",
            "├────┼──────────────────────────────────────────────────┼────────────────────┼─────────┤\n",
            "│ 68 │ bN_RNPM170_Contig55_54                           │ viral              │ viral   │\n",
            "├────┼──────────────────────────────────────────────────┼────────────────────┼─────────┤\n",
            "│ 69 │ bN_RNPM170_Contig580_579                         │ viral              │ viral   │\n",
            "├────┼──────────────────────────────────────────────────┼────────────────────┼─────────┤\n",
            "│ 70 │ bN_RNPM170_Contig7_6                             │ viral              │ viral   │\n",
            "├────┼──────────────────────────────────────────────────┼────────────────────┼─────────┤\n",
            "│ 71 │ bN_RNPM170_Contig97_96                           │ viral              │ viral   │\n",
            "├────┼──────────────────────────────────────────────────┼────────────────────┼─────────┤\n",
            "│ 72 │ bN_RNPM170_Contig9_8                             │ viral              │ viral   │\n",
            "├────┼──────────────────────────────────────────────────┼────────────────────┼─────────┤\n",
            "│ 73 │ bN_RNPM170_NODE_50_length_242_cov_6.878924_10712 │ nonviral           │ eve     │\n",
            "├────┼──────────────────────────────────────────────────┼────────────────────┼─────────┤\n",
            "│ 74 │ bX_RNPM170_Contig2116_2115                       │ viral              │ eve     │\n",
            "├────┼──────────────────────────────────────────────────┼────────────────────┼─────────┤\n",
            "│ 75 │ bX_RNPM170_Contig2853_2852                       │ nonviral           │ eve     │\n",
            "├────┼──────────────────────────────────────────────────┼────────────────────┼─────────┤\n",
            "│ 76 │ bX_RNPM170_Contig2866_2865                       │ nonviral           │ eve     │\n",
            "├────┼──────────────────────────────────────────────────┼────────────────────┼─────────┤\n",
            "│ 77 │ bX_RNPM170_Contig3328_3327                       │ viral              │ eve     │\n",
            "├────┼──────────────────────────────────────────────────┼────────────────────┼─────────┤\n",
            "│ 78 │ bX_RNPM170_Contig3336_3335                       │ nonviral           │ eve     │\n",
            "├────┼──────────────────────────────────────────────────┼────────────────────┼─────────┤\n",
            "│ 79 │ bX_RNPM170_Contig3347_3346                       │ nonviral           │ eve     │\n",
            "╘════╧══════════════════════════════════════════════════╧════════════════════╧═════════╛\n"
          ]
        }
      ],
      "source": [
        "table = tabulate(lib['df_classification'], headers='keys', tablefmt='fancy_grid')\n",
        "print(table)"
      ]
    },
    {
      "attachments": {},
      "cell_type": "markdown",
      "metadata": {},
      "source": [
        "## Export report"
      ]
    },
    {
      "cell_type": "code",
      "execution_count": 17,
      "metadata": {},
      "outputs": [],
      "source": [
        "df_export = pd.DataFrame(\n",
        "    columns = [\n",
        "        'ID', 'Lib',\n",
        "        'Input Size [?]', 'Reads [?]',\n",
        "        'Mounted Contigs', 'Contigs >= 200nt',\n",
        "        'Viral [1]', 'Non Viral', 'No Hit',\n",
        "        'Viral / Viral', 'Viral / EVE',\n",
        "        'Non Viral / Viral', 'Non Viral / EVE',\n",
        "        'No Hit / Viral', 'No Hit / EVE',\n",
        "        'Execution Time',\n",
        "        # 'Output Size'\n",
        "    ]\n",
        ")"
      ]
    },
    {
      "cell_type": "code",
      "execution_count": 18,
      "metadata": {},
      "outputs": [
        {
          "ename": "SyntaxError",
          "evalue": "invalid syntax (1333578905.py, line 3)",
          "output_type": "error",
          "traceback": [
            "\u001b[0;36m  Cell \u001b[0;32mIn [18], line 3\u001b[0;36m\u001b[0m\n\u001b[0;31m    ]\u001b[0m\n\u001b[0m    ^\u001b[0m\n\u001b[0;31mSyntaxError\u001b[0m\u001b[0;31m:\u001b[0m invalid syntax\n"
          ]
        }
      ],
      "source": [
        "df_export[\n",
        "    \n",
        "]"
      ]
    },
    {
      "attachments": {},
      "cell_type": "markdown",
      "metadata": {},
      "source": [
        "### Plot table"
      ]
    },
    {
      "cell_type": "code",
      "execution_count": null,
      "metadata": {},
      "outputs": [],
      "source": [
        "import matplotlib.pyplot as plt"
      ]
    },
    {
      "cell_type": "code",
      "execution_count": null,
      "metadata": {},
      "outputs": [
        {
          "data": {
            "image/png": "[encoded data removed]",
            "text/plain": [
              "<Figure size 640x480 with 1 Axes>"
            ]
          },
          "metadata": {},
          "output_type": "display_data"
        }
      ],
      "source": [
        "fig, ax = plt.subplots()\n",
        "ax.axis('off')  # Hide axis\n",
        "\n",
        "table = pd.plotting.table(ax, df_report)\n",
        "\n",
        "# table.auto_set_font_size(False)\n",
        "# table.scale(2, 1.5)\n",
        "\n",
        "# Customize table design\n",
        "for (row, col), cell in table.get_celld().items():\n",
        "    \n",
        "    # Header row\n",
        "    if row == 0:\n",
        "        cell.set_text_props(size=10, weight='bold', color='white')\n",
        "        cell.set_facecolor('black')\n",
        "    \n",
        "    # Data rows\n",
        "    else:\n",
        "        cell.set_text_props(size=10, color='black')\n",
        "        if row % 2:\n",
        "            cell.set_facecolor('lightgray')\n",
        "    \n",
        "    # # Contig ID column\n",
        "    # if col == 2:\n",
        "    #     cell.set_width(1.5)\n",
        "    # # Other columns\n",
        "    # else:\n",
        "    #     cell.set_width(.5)\n",
        "\n",
        "#\n",
        "# TODO 23-06-14: Make report files saving worl\n",
        "#\n",
        "\n",
        "# path_table = f'{path_root}/{report_name}.png'\n",
        "# path_table = f'{report_name}.png'\n",
        "# print(f'path_table: {path_table}')\n",
        "# plt.savefig(path_table)\n",
        "\n",
        "plt.show()"
      ]
    },
    {
      "attachments": {},
      "cell_type": "markdown",
      "metadata": {},
      "source": [
        "# Draft"
      ]
    },
    {
      "cell_type": "code",
      "execution_count": 95,
      "metadata": {},
      "outputs": [
        {
          "data": {
            "text/html": [
              "<div>\n",
              "<style scoped>\n",
              "    .dataframe tbody tr th:only-of-type {\n",
              "        vertical-align: middle;\n",
              "    }\n",
              "\n",
              "    .dataframe tbody tr th {\n",
              "        vertical-align: top;\n",
              "    }\n",
              "\n",
              "    .dataframe thead th {\n",
              "        text-align: right;\n",
              "    }\n",
              "</style>\n",
              "<table border=\"1\" class=\"dataframe\">\n",
              "  <thead>\n",
              "    <tr style=\"text-align: right;\">\n",
              "      <th></th>\n",
              "      <th>Código</th>\n",
              "      <th>Espécie</th>\n",
              "      <th>Origem da amostra</th>\n",
              "      <th>Ano coleta</th>\n",
              "      <th>Descrição_original</th>\n",
              "      <th>Disponibildiade</th>\n",
              "      <th>Acesso SRA</th>\n",
              "      <th>Descrição</th>\n",
              "      <th>Contaminado</th>\n",
              "    </tr>\n",
              "  </thead>\n",
              "  <tbody>\n",
              "    <tr>\n",
              "      <th>0</th>\n",
              "      <td>RKPM44</td>\n",
              "      <td>Ae. aegypti</td>\n",
              "      <td>Caratinga-MG-Brasil</td>\n",
              "      <td>2011</td>\n",
              "      <td>Mosquitos de campo</td>\n",
              "      <td>Público</td>\n",
              "      <td>SRR14263507</td>\n",
              "      <td>Mosquitos de campo</td>\n",
              "      <td>não</td>\n",
              "    </tr>\n",
              "    <tr>\n",
              "      <th>1</th>\n",
              "      <td>RNPM164</td>\n",
              "      <td>Ae. aegypti</td>\n",
              "      <td>Linhagem de labaoratório. RNAI-ICB-UFMG</td>\n",
              "      <td>2021</td>\n",
              "      <td>Intestino de mosquitos inffectados com ZIKA em...</td>\n",
              "      <td>Não publicado</td>\n",
              "      <td>NaN</td>\n",
              "      <td>Intestino de mosquitos infectados com ZIKA em ...</td>\n",
              "      <td>sim</td>\n",
              "    </tr>\n",
              "    <tr>\n",
              "      <th>2</th>\n",
              "      <td>RNPM169</td>\n",
              "      <td>Ae. aegypti</td>\n",
              "      <td>Linhagem de labaoratório. RNAI-ICB-UFMG</td>\n",
              "      <td>2021</td>\n",
              "      <td>Carcassa de mosquitos inffectados com ZIKA em ...</td>\n",
              "      <td>Não publicado</td>\n",
              "      <td>NaN</td>\n",
              "      <td>Carcaça de mosquitos infectados com ZIKA em la...</td>\n",
              "      <td>sim</td>\n",
              "    </tr>\n",
              "    <tr>\n",
              "      <th>3</th>\n",
              "      <td>RNPM170</td>\n",
              "      <td>Ae. aegypti</td>\n",
              "      <td>Linhagem de labaoratório. RNAI-ICB-UFMG</td>\n",
              "      <td>2021</td>\n",
              "      <td>Carcassa de mosquitos inffectados com ZIKA em ...</td>\n",
              "      <td>Não publicado</td>\n",
              "      <td>NaN</td>\n",
              "      <td>Carcaça de mosquitos infectados com ZIKA em la...</td>\n",
              "      <td>sim</td>\n",
              "    </tr>\n",
              "    <tr>\n",
              "      <th>4</th>\n",
              "      <td>RNPM68</td>\n",
              "      <td>Ae. albopictus</td>\n",
              "      <td>Montes Claros-MG-Brasil</td>\n",
              "      <td>2017</td>\n",
              "      <td>Mosquitos de campo</td>\n",
              "      <td>Público</td>\n",
              "      <td>SRR14263445</td>\n",
              "      <td>Mosquitos de campo</td>\n",
              "      <td>não</td>\n",
              "    </tr>\n",
              "    <tr>\n",
              "      <th>5</th>\n",
              "      <td>RNPM110</td>\n",
              "      <td>Ae. albopictus</td>\n",
              "      <td>Estrasburgo-França</td>\n",
              "      <td>2018</td>\n",
              "      <td>Mosquitos de campo</td>\n",
              "      <td>Público</td>\n",
              "      <td>SRR14263442</td>\n",
              "      <td>Mosquitos de campo</td>\n",
              "      <td>não</td>\n",
              "    </tr>\n",
              "    <tr>\n",
              "      <th>6</th>\n",
              "      <td>ZIKV</td>\n",
              "      <td>Ae. japonicus</td>\n",
              "      <td>Lelystad-Holanda</td>\n",
              "      <td>2018</td>\n",
              "      <td>Mosquitos de campo infectato com Zika em labor...</td>\n",
              "      <td>Público</td>\n",
              "      <td>SRR9131262</td>\n",
              "      <td>Mosquitos de campo infectados com Zika em labo...</td>\n",
              "      <td>sim</td>\n",
              "    </tr>\n",
              "    <tr>\n",
              "      <th>7</th>\n",
              "      <td>RNPM2</td>\n",
              "      <td>Haemagogus sp.</td>\n",
              "      <td>Brumadinho-MG-Brasil</td>\n",
              "      <td>2017</td>\n",
              "      <td>Mosquito de campo</td>\n",
              "      <td>Não publicado</td>\n",
              "      <td>NaN</td>\n",
              "      <td>Mosquito de campo</td>\n",
              "      <td>não</td>\n",
              "    </tr>\n",
              "    <tr>\n",
              "      <th>8</th>\n",
              "      <td>RNPM221</td>\n",
              "      <td>Apis melifera</td>\n",
              "      <td>Viçosa-MG-Brasil</td>\n",
              "      <td>2021</td>\n",
              "      <td>Abelhas coletadas no apiário da Universidade F...</td>\n",
              "      <td>Não publicado</td>\n",
              "      <td>NaN</td>\n",
              "      <td>Abelhas coletadas no apiário da UFV</td>\n",
              "      <td>não</td>\n",
              "    </tr>\n",
              "  </tbody>\n",
              "</table>\n",
              "</div>"
            ],
            "text/plain": [
              "    Código         Espécie                         Origem da amostra  \\\n",
              "0   RKPM44     Ae. aegypti                       Caratinga-MG-Brasil   \n",
              "1  RNPM164     Ae. aegypti  Linhagem de labaoratório. RNAI-ICB-UFMG    \n",
              "2  RNPM169     Ae. aegypti  Linhagem de labaoratório. RNAI-ICB-UFMG    \n",
              "3  RNPM170     Ae. aegypti  Linhagem de labaoratório. RNAI-ICB-UFMG    \n",
              "4   RNPM68  Ae. albopictus                   Montes Claros-MG-Brasil   \n",
              "5  RNPM110  Ae. albopictus                        Estrasburgo-França   \n",
              "6     ZIKV   Ae. japonicus                          Lelystad-Holanda   \n",
              "7    RNPM2  Haemagogus sp.                      Brumadinho-MG-Brasil   \n",
              "8  RNPM221   Apis melifera                          Viçosa-MG-Brasil   \n",
              "\n",
              "   Ano coleta                                 Descrição_original  \\\n",
              "0        2011                                 Mosquitos de campo   \n",
              "1        2021  Intestino de mosquitos inffectados com ZIKA em...   \n",
              "2        2021  Carcassa de mosquitos inffectados com ZIKA em ...   \n",
              "3        2021  Carcassa de mosquitos inffectados com ZIKA em ...   \n",
              "4        2017                                 Mosquitos de campo   \n",
              "5        2018                                 Mosquitos de campo   \n",
              "6        2018  Mosquitos de campo infectato com Zika em labor...   \n",
              "7        2017                                  Mosquito de campo   \n",
              "8        2021  Abelhas coletadas no apiário da Universidade F...   \n",
              "\n",
              "  Disponibildiade   Acesso SRA  \\\n",
              "0         Público  SRR14263507   \n",
              "1   Não publicado          NaN   \n",
              "2   Não publicado          NaN   \n",
              "3   Não publicado          NaN   \n",
              "4         Público  SRR14263445   \n",
              "5         Público  SRR14263442   \n",
              "6         Público  SRR9131262    \n",
              "7   Não publicado          NaN   \n",
              "8   Não publicado          NaN   \n",
              "\n",
              "                                           Descrição Contaminado  \n",
              "0                                 Mosquitos de campo         não  \n",
              "1  Intestino de mosquitos infectados com ZIKA em ...         sim  \n",
              "2  Carcaça de mosquitos infectados com ZIKA em la...         sim  \n",
              "3  Carcaça de mosquitos infectados com ZIKA em la...         sim  \n",
              "4                                 Mosquitos de campo         não  \n",
              "5                                 Mosquitos de campo         não  \n",
              "6  Mosquitos de campo infectados com Zika em labo...         sim  \n",
              "7                                  Mosquito de campo         não  \n",
              "8                Abelhas coletadas no apiário da UFV         não  "
            ]
          },
          "execution_count": 95,
          "metadata": {},
          "output_type": "execute_result"
        }
      ],
      "source": [
        "df_libs_excel = pd.read_excel('/home/hjcosta/Downloads/temp/icb/bibliotecas_hebert.xlsx', sheet_name='Sheet1')\n",
        "df_libs_excel"
      ]
    },
    {
      "cell_type": "code",
      "execution_count": 101,
      "metadata": {},
      "outputs": [
        {
          "data": {
            "text/html": [
              "<div>\n",
              "<style scoped>\n",
              "    .dataframe tbody tr th:only-of-type {\n",
              "        vertical-align: middle;\n",
              "    }\n",
              "\n",
              "    .dataframe tbody tr th {\n",
              "        vertical-align: top;\n",
              "    }\n",
              "\n",
              "    .dataframe thead th {\n",
              "        text-align: right;\n",
              "    }\n",
              "</style>\n",
              "<table border=\"1\" class=\"dataframe\">\n",
              "  <thead>\n",
              "    <tr style=\"text-align: right;\">\n",
              "      <th></th>\n",
              "      <th>ID</th>\n",
              "      <th>Espécie</th>\n",
              "      <th>Origem</th>\n",
              "      <th>Ano</th>\n",
              "      <th>Descrição</th>\n",
              "      <th>Público</th>\n",
              "      <th>Contaminado</th>\n",
              "    </tr>\n",
              "  </thead>\n",
              "  <tbody>\n",
              "    <tr>\n",
              "      <th>0</th>\n",
              "      <td>RNPM110_02</td>\n",
              "      <td>Ae. aegypti</td>\n",
              "      <td>Caratinga-MG-Brasil</td>\n",
              "      <td>2011</td>\n",
              "      <td>Mosquitos de campo</td>\n",
              "      <td>sim</td>\n",
              "      <td>não</td>\n",
              "    </tr>\n",
              "    <tr>\n",
              "      <th>1</th>\n",
              "      <td>RNPM164_01</td>\n",
              "      <td>Ae. aegypti</td>\n",
              "      <td>Linhagem de labaoratório. RNAI-ICB-UFMG</td>\n",
              "      <td>2021</td>\n",
              "      <td>Intestino de mosquitos infectados com ZIKA em ...</td>\n",
              "      <td>não</td>\n",
              "      <td>sim</td>\n",
              "    </tr>\n",
              "    <tr>\n",
              "      <th>2</th>\n",
              "      <td>RNPM169_01</td>\n",
              "      <td>Ae. aegypti</td>\n",
              "      <td>Linhagem de labaoratório. RNAI-ICB-UFMG</td>\n",
              "      <td>2021</td>\n",
              "      <td>Carcaça de mosquitos infectados com ZIKA em la...</td>\n",
              "      <td>não</td>\n",
              "      <td>sim</td>\n",
              "    </tr>\n",
              "    <tr>\n",
              "      <th>3</th>\n",
              "      <td>RNPM170_01</td>\n",
              "      <td>Ae. aegypti</td>\n",
              "      <td>Linhagem de labaoratório. RNAI-ICB-UFMG</td>\n",
              "      <td>2021</td>\n",
              "      <td>Carcaça de mosquitos infectados com ZIKA em la...</td>\n",
              "      <td>não</td>\n",
              "      <td>sim</td>\n",
              "    </tr>\n",
              "    <tr>\n",
              "      <th>4</th>\n",
              "      <td>RNPM68_01</td>\n",
              "      <td>Ae. albopictus</td>\n",
              "      <td>Montes Claros-MG-Brasil</td>\n",
              "      <td>2017</td>\n",
              "      <td>Mosquitos de campo</td>\n",
              "      <td>sim</td>\n",
              "      <td>não</td>\n",
              "    </tr>\n",
              "    <tr>\n",
              "      <th>5</th>\n",
              "      <td>RKPM44_06</td>\n",
              "      <td>Ae. albopictus</td>\n",
              "      <td>Estrasburgo-França</td>\n",
              "      <td>2018</td>\n",
              "      <td>Mosquitos de campo</td>\n",
              "      <td>sim</td>\n",
              "      <td>não</td>\n",
              "    </tr>\n",
              "    <tr>\n",
              "      <th>6</th>\n",
              "      <td>ZIKV_01</td>\n",
              "      <td>Ae. japonicus</td>\n",
              "      <td>Lelystad-Holanda</td>\n",
              "      <td>2018</td>\n",
              "      <td>Mosquitos de campo infectados com Zika em labo...</td>\n",
              "      <td>sim</td>\n",
              "      <td>sim</td>\n",
              "    </tr>\n",
              "    <tr>\n",
              "      <th>7</th>\n",
              "      <td>RNPM2_02</td>\n",
              "      <td>Haemagogus sp.</td>\n",
              "      <td>Brumadinho-MG-Brasil</td>\n",
              "      <td>2017</td>\n",
              "      <td>Mosquito de campo</td>\n",
              "      <td>não</td>\n",
              "      <td>não</td>\n",
              "    </tr>\n",
              "    <tr>\n",
              "      <th>8</th>\n",
              "      <td>RNPM221_01</td>\n",
              "      <td>Apis melifera</td>\n",
              "      <td>Viçosa-MG-Brasil</td>\n",
              "      <td>2021</td>\n",
              "      <td>Abelhas coletadas no apiário da UFV</td>\n",
              "      <td>não</td>\n",
              "      <td>não</td>\n",
              "    </tr>\n",
              "  </tbody>\n",
              "</table>\n",
              "</div>"
            ],
            "text/plain": [
              "           ID         Espécie                                    Origem   Ano  \\\n",
              "0  RNPM110_02     Ae. aegypti                       Caratinga-MG-Brasil  2011   \n",
              "1  RNPM164_01     Ae. aegypti  Linhagem de labaoratório. RNAI-ICB-UFMG   2021   \n",
              "2  RNPM169_01     Ae. aegypti  Linhagem de labaoratório. RNAI-ICB-UFMG   2021   \n",
              "3  RNPM170_01     Ae. aegypti  Linhagem de labaoratório. RNAI-ICB-UFMG   2021   \n",
              "4   RNPM68_01  Ae. albopictus                   Montes Claros-MG-Brasil  2017   \n",
              "5   RKPM44_06  Ae. albopictus                        Estrasburgo-França  2018   \n",
              "6     ZIKV_01   Ae. japonicus                          Lelystad-Holanda  2018   \n",
              "7    RNPM2_02  Haemagogus sp.                      Brumadinho-MG-Brasil  2017   \n",
              "8  RNPM221_01   Apis melifera                          Viçosa-MG-Brasil  2021   \n",
              "\n",
              "                                           Descrição Público Contaminado  \n",
              "0                                 Mosquitos de campo     sim         não  \n",
              "1  Intestino de mosquitos infectados com ZIKA em ...     não         sim  \n",
              "2  Carcaça de mosquitos infectados com ZIKA em la...     não         sim  \n",
              "3  Carcaça de mosquitos infectados com ZIKA em la...     não         sim  \n",
              "4                                 Mosquitos de campo     sim         não  \n",
              "5                                 Mosquitos de campo     sim         não  \n",
              "6  Mosquitos de campo infectados com Zika em labo...     sim         sim  \n",
              "7                                  Mosquito de campo     não         não  \n",
              "8                Abelhas coletadas no apiário da UFV     não         não  "
            ]
          },
          "execution_count": 101,
          "metadata": {},
          "output_type": "execute_result"
        }
      ],
      "source": [
        "df_excel2 = df_libs_excel.copy()\n",
        "\n",
        "foo = lambda code: f'{code}_01'\n",
        "\n",
        "df_excel2['Origem'] = df_excel2['Origem da amostra']\n",
        "df_excel2['Ano'] = df_excel2['Ano coleta']\n",
        "df_excel2['Público'] = df_excel2['Disponibildiade'].apply(lambda x: 'sim' if x == 'Público' else 'não')\n",
        "df_excel2['ID'] = df_excel2['Código'].apply(foo)\n",
        "# df_excel2[ df_excel2['Código'] == 'RNPM110' ]['ID'] = 'RNPM110_02'\n",
        "# df_excel2.iloc[5]['ID'] = 'RNPM110_02'\n",
        "\n",
        "df_excel2.at[5, 'ID'] = 'RKPM44_06'\n",
        "df_excel2.at[0, 'ID'] = 'RNPM110_02'\n",
        "df_excel2.at[7, 'ID'] = 'RNPM2_02'\n",
        "\n",
        "df_excel2.columns\n",
        "# RNPM169_01\t19663205\t19.66\t02:36:24:331\tr2d2\t2.606759\n",
        "# 0\tRNPM68_01\t13125926\t13.13\t02:43:15:146\tdicer2\t2.720874\n",
        "# 8\tRNPM170_01\t24518179\t24.52\t02:57:24:567\tr2d2\t2.956824\n",
        "# 1\tRNPM164_01\t44565086\t44.57\t03:43:50:482\tdicer2\t3.730689\n",
        "# 6\tRNPM110_02\t20421283\t20.42\t05:20:44:031\tr2d2\t5.345564\n",
        "# 2\tRNPM221_01\t20062770\t20.06\t05:39:36:411\tdicer2\t5.660114\n",
        "# 4\tZIKV_01\t33757362\t33.76\t09:28:07:815\tdicer2\t9.468838\n",
        "# 3\tRKPM44_06\t21595029\t21.60\t13:17:46:144\tdicer2\t13.296151\n",
        "# 5\tRNPM2_02\n",
        "\n",
        "# df_excel2\n",
        "\n",
        "\n",
        "pumba = [\n",
        "    'ID',\n",
        "    # 'Código', \n",
        "    'Espécie', \n",
        "    'Origem', \n",
        "    # 'Origem da amostra', \n",
        "    # 'Ano coleta', \n",
        "    'Ano', \n",
        "    'Descrição',\n",
        "    # 'Disponibildiade',\n",
        "    'Público',\n",
        "    # 'Acesso SRA',\n",
        "    'Contaminado',\n",
        "]\n",
        "\n",
        "\n",
        "    \n",
        "df_excel2[pumba]"
      ]
    },
    {
      "cell_type": "code",
      "execution_count": 106,
      "metadata": {},
      "outputs": [
        {
          "data": {
            "text/html": [
              "<div>\n",
              "<style scoped>\n",
              "    .dataframe tbody tr th:only-of-type {\n",
              "        vertical-align: middle;\n",
              "    }\n",
              "\n",
              "    .dataframe tbody tr th {\n",
              "        vertical-align: top;\n",
              "    }\n",
              "\n",
              "    .dataframe thead th {\n",
              "        text-align: right;\n",
              "    }\n",
              "</style>\n",
              "<table border=\"1\" class=\"dataframe\">\n",
              "  <thead>\n",
              "    <tr style=\"text-align: right;\">\n",
              "      <th></th>\n",
              "      <th>ID</th>\n",
              "      <th>Reads</th>\n",
              "      <th>Contigs</th>\n",
              "      <th>Contigs &gt;= 200nt</th>\n",
              "      <th>viral</th>\n",
              "      <th>nonviral</th>\n",
              "      <th>nohit</th>\n",
              "      <th>viral [viral]</th>\n",
              "      <th>viral [eve]</th>\n",
              "      <th>nonviral [viral]</th>\n",
              "      <th>...</th>\n",
              "      <th>Origem da amostra</th>\n",
              "      <th>Ano coleta</th>\n",
              "      <th>Descrição_original</th>\n",
              "      <th>Disponibildiade</th>\n",
              "      <th>Acesso SRA</th>\n",
              "      <th>Descrição</th>\n",
              "      <th>Contaminado</th>\n",
              "      <th>Origem</th>\n",
              "      <th>Ano</th>\n",
              "      <th>Público</th>\n",
              "    </tr>\n",
              "  </thead>\n",
              "  <tbody>\n",
              "    <tr>\n",
              "      <th>0</th>\n",
              "      <td>RNPM68_01</td>\n",
              "      <td>13125926</td>\n",
              "      <td>1247</td>\n",
              "      <td>19</td>\n",
              "      <td>2</td>\n",
              "      <td>12</td>\n",
              "      <td>5</td>\n",
              "      <td>1</td>\n",
              "      <td>1</td>\n",
              "      <td>0</td>\n",
              "      <td>...</td>\n",
              "      <td>Montes Claros-MG-Brasil</td>\n",
              "      <td>2017</td>\n",
              "      <td>Mosquitos de campo</td>\n",
              "      <td>Público</td>\n",
              "      <td>SRR14263445</td>\n",
              "      <td>Mosquitos de campo</td>\n",
              "      <td>não</td>\n",
              "      <td>Montes Claros-MG-Brasil</td>\n",
              "      <td>2017</td>\n",
              "      <td>sim</td>\n",
              "    </tr>\n",
              "    <tr>\n",
              "      <th>1</th>\n",
              "      <td>RNPM164_01</td>\n",
              "      <td>44565086</td>\n",
              "      <td>2138</td>\n",
              "      <td>44</td>\n",
              "      <td>42</td>\n",
              "      <td>24</td>\n",
              "      <td>14</td>\n",
              "      <td>40</td>\n",
              "      <td>2</td>\n",
              "      <td>0</td>\n",
              "      <td>...</td>\n",
              "      <td>Linhagem de labaoratório. RNAI-ICB-UFMG</td>\n",
              "      <td>2021</td>\n",
              "      <td>Intestino de mosquitos inffectados com ZIKA em...</td>\n",
              "      <td>Não publicado</td>\n",
              "      <td>NaN</td>\n",
              "      <td>Intestino de mosquitos infectados com ZIKA em ...</td>\n",
              "      <td>sim</td>\n",
              "      <td>Linhagem de labaoratório. RNAI-ICB-UFMG</td>\n",
              "      <td>2021</td>\n",
              "      <td>não</td>\n",
              "    </tr>\n",
              "    <tr>\n",
              "      <th>2</th>\n",
              "      <td>RNPM221_01</td>\n",
              "      <td>20062770</td>\n",
              "      <td>3560</td>\n",
              "      <td>379</td>\n",
              "      <td>20</td>\n",
              "      <td>297</td>\n",
              "      <td>62</td>\n",
              "      <td>11</td>\n",
              "      <td>9</td>\n",
              "      <td>23</td>\n",
              "      <td>...</td>\n",
              "      <td>Viçosa-MG-Brasil</td>\n",
              "      <td>2021</td>\n",
              "      <td>Abelhas coletadas no apiário da Universidade F...</td>\n",
              "      <td>Não publicado</td>\n",
              "      <td>NaN</td>\n",
              "      <td>Abelhas coletadas no apiário da UFV</td>\n",
              "      <td>não</td>\n",
              "      <td>Viçosa-MG-Brasil</td>\n",
              "      <td>2021</td>\n",
              "      <td>não</td>\n",
              "    </tr>\n",
              "    <tr>\n",
              "      <th>3</th>\n",
              "      <td>RKPM44_06</td>\n",
              "      <td>21595029</td>\n",
              "      <td>1991</td>\n",
              "      <td>73</td>\n",
              "      <td>25</td>\n",
              "      <td>21</td>\n",
              "      <td>26</td>\n",
              "      <td>23</td>\n",
              "      <td>2</td>\n",
              "      <td>0</td>\n",
              "      <td>...</td>\n",
              "      <td>Estrasburgo-França</td>\n",
              "      <td>2018</td>\n",
              "      <td>Mosquitos de campo</td>\n",
              "      <td>Público</td>\n",
              "      <td>SRR14263442</td>\n",
              "      <td>Mosquitos de campo</td>\n",
              "      <td>não</td>\n",
              "      <td>Estrasburgo-França</td>\n",
              "      <td>2018</td>\n",
              "      <td>sim</td>\n",
              "    </tr>\n",
              "    <tr>\n",
              "      <th>4</th>\n",
              "      <td>ZIKV_01</td>\n",
              "      <td>33757362</td>\n",
              "      <td>12837</td>\n",
              "      <td>742</td>\n",
              "      <td>66</td>\n",
              "      <td>346</td>\n",
              "      <td>330</td>\n",
              "      <td>36</td>\n",
              "      <td>30</td>\n",
              "      <td>99</td>\n",
              "      <td>...</td>\n",
              "      <td>Lelystad-Holanda</td>\n",
              "      <td>2018</td>\n",
              "      <td>Mosquitos de campo infectato com Zika em labor...</td>\n",
              "      <td>Público</td>\n",
              "      <td>SRR9131262</td>\n",
              "      <td>Mosquitos de campo infectados com Zika em labo...</td>\n",
              "      <td>sim</td>\n",
              "      <td>Lelystad-Holanda</td>\n",
              "      <td>2018</td>\n",
              "      <td>sim</td>\n",
              "    </tr>\n",
              "    <tr>\n",
              "      <th>5</th>\n",
              "      <td>RNPM2_02</td>\n",
              "      <td>15102630</td>\n",
              "      <td>19160</td>\n",
              "      <td>1274</td>\n",
              "      <td>61</td>\n",
              "      <td>270</td>\n",
              "      <td>943</td>\n",
              "      <td>5</td>\n",
              "      <td>56</td>\n",
              "      <td>24</td>\n",
              "      <td>...</td>\n",
              "      <td>Brumadinho-MG-Brasil</td>\n",
              "      <td>2017</td>\n",
              "      <td>Mosquito de campo</td>\n",
              "      <td>Não publicado</td>\n",
              "      <td>NaN</td>\n",
              "      <td>Mosquito de campo</td>\n",
              "      <td>não</td>\n",
              "      <td>Brumadinho-MG-Brasil</td>\n",
              "      <td>2017</td>\n",
              "      <td>não</td>\n",
              "    </tr>\n",
              "    <tr>\n",
              "      <th>6</th>\n",
              "      <td>RNPM110_02</td>\n",
              "      <td>20421283</td>\n",
              "      <td>5562</td>\n",
              "      <td>271</td>\n",
              "      <td>47</td>\n",
              "      <td>73</td>\n",
              "      <td>151</td>\n",
              "      <td>17</td>\n",
              "      <td>30</td>\n",
              "      <td>4</td>\n",
              "      <td>...</td>\n",
              "      <td>Caratinga-MG-Brasil</td>\n",
              "      <td>2011</td>\n",
              "      <td>Mosquitos de campo</td>\n",
              "      <td>Público</td>\n",
              "      <td>SRR14263507</td>\n",
              "      <td>Mosquitos de campo</td>\n",
              "      <td>não</td>\n",
              "      <td>Caratinga-MG-Brasil</td>\n",
              "      <td>2011</td>\n",
              "      <td>sim</td>\n",
              "    </tr>\n",
              "    <tr>\n",
              "      <th>7</th>\n",
              "      <td>RNPM169_01</td>\n",
              "      <td>19663205</td>\n",
              "      <td>1716</td>\n",
              "      <td>49</td>\n",
              "      <td>24</td>\n",
              "      <td>18</td>\n",
              "      <td>7</td>\n",
              "      <td>22</td>\n",
              "      <td>2</td>\n",
              "      <td>2</td>\n",
              "      <td>...</td>\n",
              "      <td>Linhagem de labaoratório. RNAI-ICB-UFMG</td>\n",
              "      <td>2021</td>\n",
              "      <td>Carcassa de mosquitos inffectados com ZIKA em ...</td>\n",
              "      <td>Não publicado</td>\n",
              "      <td>NaN</td>\n",
              "      <td>Carcaça de mosquitos infectados com ZIKA em la...</td>\n",
              "      <td>sim</td>\n",
              "      <td>Linhagem de labaoratório. RNAI-ICB-UFMG</td>\n",
              "      <td>2021</td>\n",
              "      <td>não</td>\n",
              "    </tr>\n",
              "    <tr>\n",
              "      <th>8</th>\n",
              "      <td>RNPM170_01</td>\n",
              "      <td>24518179</td>\n",
              "      <td>3166</td>\n",
              "      <td>80</td>\n",
              "      <td>42</td>\n",
              "      <td>24</td>\n",
              "      <td>14</td>\n",
              "      <td>40</td>\n",
              "      <td>2</td>\n",
              "      <td>0</td>\n",
              "      <td>...</td>\n",
              "      <td>Linhagem de labaoratório. RNAI-ICB-UFMG</td>\n",
              "      <td>2021</td>\n",
              "      <td>Carcassa de mosquitos inffectados com ZIKA em ...</td>\n",
              "      <td>Não publicado</td>\n",
              "      <td>NaN</td>\n",
              "      <td>Carcaça de mosquitos infectados com ZIKA em la...</td>\n",
              "      <td>sim</td>\n",
              "      <td>Linhagem de labaoratório. RNAI-ICB-UFMG</td>\n",
              "      <td>2021</td>\n",
              "      <td>não</td>\n",
              "    </tr>\n",
              "  </tbody>\n",
              "</table>\n",
              "<p>9 rows × 37 columns</p>\n",
              "</div>"
            ],
            "text/plain": [
              "           ID     Reads Contigs Contigs >= 200nt viral nonviral nohit  \\\n",
              "0   RNPM68_01  13125926    1247               19     2       12     5   \n",
              "1  RNPM164_01  44565086    2138               44    42       24    14   \n",
              "2  RNPM221_01  20062770    3560              379    20      297    62   \n",
              "3   RKPM44_06  21595029    1991               73    25       21    26   \n",
              "4     ZIKV_01  33757362   12837              742    66      346   330   \n",
              "5    RNPM2_02  15102630   19160             1274    61      270   943   \n",
              "6  RNPM110_02  20421283    5562              271    47       73   151   \n",
              "7  RNPM169_01  19663205    1716               49    24       18     7   \n",
              "8  RNPM170_01  24518179    3166               80    42       24    14   \n",
              "\n",
              "  viral [viral] viral [eve] nonviral [viral]  ...  \\\n",
              "0             1           1                0  ...   \n",
              "1            40           2                0  ...   \n",
              "2            11           9               23  ...   \n",
              "3            23           2                0  ...   \n",
              "4            36          30               99  ...   \n",
              "5             5          56               24  ...   \n",
              "6            17          30                4  ...   \n",
              "7            22           2                2  ...   \n",
              "8            40           2                0  ...   \n",
              "\n",
              "                          Origem da amostra Ano coleta  \\\n",
              "0                   Montes Claros-MG-Brasil       2017   \n",
              "1  Linhagem de labaoratório. RNAI-ICB-UFMG        2021   \n",
              "2                          Viçosa-MG-Brasil       2021   \n",
              "3                        Estrasburgo-França       2018   \n",
              "4                          Lelystad-Holanda       2018   \n",
              "5                      Brumadinho-MG-Brasil       2017   \n",
              "6                       Caratinga-MG-Brasil       2011   \n",
              "7  Linhagem de labaoratório. RNAI-ICB-UFMG        2021   \n",
              "8  Linhagem de labaoratório. RNAI-ICB-UFMG        2021   \n",
              "\n",
              "                                  Descrição_original Disponibildiade  \\\n",
              "0                                 Mosquitos de campo         Público   \n",
              "1  Intestino de mosquitos inffectados com ZIKA em...   Não publicado   \n",
              "2  Abelhas coletadas no apiário da Universidade F...   Não publicado   \n",
              "3                                 Mosquitos de campo         Público   \n",
              "4  Mosquitos de campo infectato com Zika em labor...         Público   \n",
              "5                                  Mosquito de campo   Não publicado   \n",
              "6                                 Mosquitos de campo         Público   \n",
              "7  Carcassa de mosquitos inffectados com ZIKA em ...   Não publicado   \n",
              "8  Carcassa de mosquitos inffectados com ZIKA em ...   Não publicado   \n",
              "\n",
              "    Acesso SRA                                          Descrição Contaminado  \\\n",
              "0  SRR14263445                                 Mosquitos de campo         não   \n",
              "1          NaN  Intestino de mosquitos infectados com ZIKA em ...         sim   \n",
              "2          NaN                Abelhas coletadas no apiário da UFV         não   \n",
              "3  SRR14263442                                 Mosquitos de campo         não   \n",
              "4  SRR9131262   Mosquitos de campo infectados com Zika em labo...         sim   \n",
              "5          NaN                                  Mosquito de campo         não   \n",
              "6  SRR14263507                                 Mosquitos de campo         não   \n",
              "7          NaN  Carcaça de mosquitos infectados com ZIKA em la...         sim   \n",
              "8          NaN  Carcaça de mosquitos infectados com ZIKA em la...         sim   \n",
              "\n",
              "                                     Origem   Ano Público  \n",
              "0                   Montes Claros-MG-Brasil  2017     sim  \n",
              "1  Linhagem de labaoratório. RNAI-ICB-UFMG   2021     não  \n",
              "2                          Viçosa-MG-Brasil  2021     não  \n",
              "3                        Estrasburgo-França  2018     sim  \n",
              "4                          Lelystad-Holanda  2018     sim  \n",
              "5                      Brumadinho-MG-Brasil  2017     não  \n",
              "6                       Caratinga-MG-Brasil  2011     sim  \n",
              "7  Linhagem de labaoratório. RNAI-ICB-UFMG   2021     não  \n",
              "8  Linhagem de labaoratório. RNAI-ICB-UFMG   2021     não  \n",
              "\n",
              "[9 rows x 37 columns]"
            ]
          },
          "execution_count": 106,
          "metadata": {},
          "output_type": "execute_result"
        }
      ],
      "source": [
        "\n",
        "new_df = pd.merge(df_report2, df_excel2, on='ID', how='inner')\n",
        "# new_df.sort_values(by='ID')\n",
        "new_df\n",
        "\n",
        "# \tID\tviral\tnonviral\tnohit\tviral [viral]\tviral [eve]\tnonviral [viral]\tnonviral [eve]\tnohit [viral]\tnohit [eve]\n",
        "# 0\tRNPM68_01\t2\t12\t5\t1\t1\t0\t12\t0\t5\n",
        "# 1\tRNPM164_01\t42\t24\t14\t40\t2\t0\t24\t0\t14\n",
        "# 2\tRNPM221_01\t20\t297\t62\t11\t9\t23\t274\t4\t58\n",
        "# 3\tRKPM44_06\t25\t21\t26\t23\t2\t0\t21\t0\t26\n",
        "# 4\tZIKV_01\t66\t346\t330\t36\t30\t99\t247\t93\t237\n",
        "# 5\tRNPM2_02\t61\t270\t943\t5\t56\t24\t246\t64\t879\n",
        "# 6\tRNPM110_02\t47\t73\t151\t17\t30\t4\t69\t1\t150\n",
        "# 7\tRNPM169_01\t24\t18\t7\t22\t2\t2\t16\t0\t7\n",
        "# 8\tRNPM170_01\t42\t24\t14\t40\t2\t0\t24\t0\t14"
      ]
    },
    {
      "cell_type": "code",
      "execution_count": 117,
      "metadata": {},
      "outputs": [
        {
          "name": "stdout",
          "output_type": "stream",
          "text": [
            "--  ------------------- Bibliotecas utilizadas em cada experimento  -------------------\n"
          ]
        },
        {
          "data": {
            "text/html": [
              "<div>\n",
              "<style scoped>\n",
              "    .dataframe tbody tr th:only-of-type {\n",
              "        vertical-align: middle;\n",
              "    }\n",
              "\n",
              "    .dataframe tbody tr th {\n",
              "        vertical-align: top;\n",
              "    }\n",
              "\n",
              "    .dataframe thead th {\n",
              "        text-align: right;\n",
              "    }\n",
              "</style>\n",
              "<table border=\"1\" class=\"dataframe\">\n",
              "  <thead>\n",
              "    <tr style=\"text-align: right;\">\n",
              "      <th></th>\n",
              "      <th>ID</th>\n",
              "      <th>Espécie</th>\n",
              "      <th>Origem</th>\n",
              "      <th>Ano</th>\n",
              "      <th>Contaminado</th>\n",
              "      <th>Público</th>\n",
              "    </tr>\n",
              "  </thead>\n",
              "  <tbody>\n",
              "    <tr>\n",
              "      <th>0</th>\n",
              "      <td>RNPM68_01</td>\n",
              "      <td>Ae. albopictus</td>\n",
              "      <td>Montes Claros-MG-Brasil</td>\n",
              "      <td>2017</td>\n",
              "      <td>não</td>\n",
              "      <td>sim</td>\n",
              "    </tr>\n",
              "    <tr>\n",
              "      <th>1</th>\n",
              "      <td>RNPM164_01</td>\n",
              "      <td>Ae. aegypti</td>\n",
              "      <td>Linhagem de labaoratório. RNAI-ICB-UFMG</td>\n",
              "      <td>2021</td>\n",
              "      <td>sim</td>\n",
              "      <td>não</td>\n",
              "    </tr>\n",
              "    <tr>\n",
              "      <th>2</th>\n",
              "      <td>RNPM221_01</td>\n",
              "      <td>Apis melifera</td>\n",
              "      <td>Viçosa-MG-Brasil</td>\n",
              "      <td>2021</td>\n",
              "      <td>não</td>\n",
              "      <td>não</td>\n",
              "    </tr>\n",
              "    <tr>\n",
              "      <th>3</th>\n",
              "      <td>RKPM44_06</td>\n",
              "      <td>Ae. albopictus</td>\n",
              "      <td>Estrasburgo-França</td>\n",
              "      <td>2018</td>\n",
              "      <td>não</td>\n",
              "      <td>sim</td>\n",
              "    </tr>\n",
              "    <tr>\n",
              "      <th>4</th>\n",
              "      <td>ZIKV_01</td>\n",
              "      <td>Ae. japonicus</td>\n",
              "      <td>Lelystad-Holanda</td>\n",
              "      <td>2018</td>\n",
              "      <td>sim</td>\n",
              "      <td>sim</td>\n",
              "    </tr>\n",
              "    <tr>\n",
              "      <th>5</th>\n",
              "      <td>RNPM2_02</td>\n",
              "      <td>Haemagogus sp.</td>\n",
              "      <td>Brumadinho-MG-Brasil</td>\n",
              "      <td>2017</td>\n",
              "      <td>não</td>\n",
              "      <td>não</td>\n",
              "    </tr>\n",
              "    <tr>\n",
              "      <th>6</th>\n",
              "      <td>RNPM110_02</td>\n",
              "      <td>Ae. aegypti</td>\n",
              "      <td>Caratinga-MG-Brasil</td>\n",
              "      <td>2011</td>\n",
              "      <td>não</td>\n",
              "      <td>sim</td>\n",
              "    </tr>\n",
              "    <tr>\n",
              "      <th>7</th>\n",
              "      <td>RNPM169_01</td>\n",
              "      <td>Ae. aegypti</td>\n",
              "      <td>Linhagem de labaoratório. RNAI-ICB-UFMG</td>\n",
              "      <td>2021</td>\n",
              "      <td>sim</td>\n",
              "      <td>não</td>\n",
              "    </tr>\n",
              "    <tr>\n",
              "      <th>8</th>\n",
              "      <td>RNPM170_01</td>\n",
              "      <td>Ae. aegypti</td>\n",
              "      <td>Linhagem de labaoratório. RNAI-ICB-UFMG</td>\n",
              "      <td>2021</td>\n",
              "      <td>sim</td>\n",
              "      <td>não</td>\n",
              "    </tr>\n",
              "  </tbody>\n",
              "</table>\n",
              "</div>"
            ],
            "text/plain": [
              "           ID         Espécie                                    Origem   Ano  \\\n",
              "0   RNPM68_01  Ae. albopictus                   Montes Claros-MG-Brasil  2017   \n",
              "1  RNPM164_01     Ae. aegypti  Linhagem de labaoratório. RNAI-ICB-UFMG   2021   \n",
              "2  RNPM221_01   Apis melifera                          Viçosa-MG-Brasil  2021   \n",
              "3   RKPM44_06  Ae. albopictus                        Estrasburgo-França  2018   \n",
              "4     ZIKV_01   Ae. japonicus                          Lelystad-Holanda  2018   \n",
              "5    RNPM2_02  Haemagogus sp.                      Brumadinho-MG-Brasil  2017   \n",
              "6  RNPM110_02     Ae. aegypti                       Caratinga-MG-Brasil  2011   \n",
              "7  RNPM169_01     Ae. aegypti  Linhagem de labaoratório. RNAI-ICB-UFMG   2021   \n",
              "8  RNPM170_01     Ae. aegypti  Linhagem de labaoratório. RNAI-ICB-UFMG   2021   \n",
              "\n",
              "  Contaminado Público  \n",
              "0         não     sim  \n",
              "1         sim     não  \n",
              "2         não     não  \n",
              "3         não     sim  \n",
              "4         sim     sim  \n",
              "5         não     não  \n",
              "6         não     sim  \n",
              "7         sim     não  \n",
              "8         sim     não  "
            ]
          },
          "execution_count": 117,
          "metadata": {},
          "output_type": "execute_result"
        }
      ],
      "source": [
        "pumba = [\n",
        "    'ID',\n",
        "    # 'Código', \n",
        "    'Espécie', \n",
        "    'Origem', \n",
        "    # 'Origem da amostra', \n",
        "    # 'Ano coleta', \n",
        "    'Ano', \n",
        "    # 'Disponibildiade',\n",
        "    # 'Acesso SRA',\n",
        "    'Contaminado',\n",
        "    'Público',\n",
        "    # 'Descrição',\n",
        "]\n",
        "\n",
        "\n",
        "foo = lambda x: x*'-'\n",
        "baz = f'{foo(19)}'\n",
        "print(f'--  {baz} Bibliotecas utilizadas em cada experimento  {baz}')\n",
        "\n",
        "new_df[pumba]"
      ]
    }
  ],
  "metadata": {
    "colab": {
      "collapsed_sections": [
        "mQIuGxwf1n72",
        "JPtQN59Z2x2K",
        "r1EwsaGz3CHJ",
        "_XDJOT1Asww4",
        "DbLZH8838eF_",
        "G4eRxSdQ9IFC",
        "0PpBVY--881x",
        "nSMgnDVIUdMH",
        "EdoehfhowQ2V",
        "_Zn6ZClr9UOl",
        "6lQ_lXiLo9Tl",
        "8BI64VeOyv9n",
        "_CLFQ5cyu13l"
      ],
      "provenance": []
    },
    "kernelspec": {
      "display_name": "Python 3 (ipykernel)",
      "language": "python",
      "name": "python3"
    },
    "language_info": {
      "codemirror_mode": {
        "name": "ipython",
        "version": 3
      },
      "file_extension": ".py",
      "mimetype": "text/x-python",
      "name": "python",
      "nbconvert_exporter": "python",
      "pygments_lexer": "ipython3",
      "version": "3.10.6"
    }
  },
  "nbformat": 4,
  "nbformat_minor": 0
}
