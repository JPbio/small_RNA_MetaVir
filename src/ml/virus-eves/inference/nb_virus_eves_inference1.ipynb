{
  "cells": [
    {
      "attachments": {},
      "cell_type": "markdown",
      "metadata": {},
      "source": [
        "### Virus × EVE's classification\n",
        "\n",
        "___Inference___"
      ]
    },
    {
      "attachments": {},
      "cell_type": "markdown",
      "metadata": {},
      "source": [
        "### Initialization"
      ]
    },
    {
      "attachments": {},
      "cell_type": "markdown",
      "metadata": {
        "id": "EP525DrREX0N"
      },
      "source": [
        "Imports"
      ]
    },
    {
      "cell_type": "code",
      "execution_count": 266,
      "metadata": {
        "id": "-8hKq-6V67UA"
      },
      "outputs": [],
      "source": [
        "import pandas as pd"
      ]
    },
    {
      "attachments": {},
      "cell_type": "markdown",
      "metadata": {},
      "source": [
        "Parameters"
      ]
    },
    {
      "cell_type": "code",
      "execution_count": 267,
      "metadata": {},
      "outputs": [],
      "source": [
        "# path_root = '/home/small_rna_metavir/src'\n",
        "path_root = './'\n",
        "# path_runs = f'{path_root}/virus-eves/runs'"
      ]
    },
    {
      "attachments": {},
      "cell_type": "markdown",
      "metadata": {},
      "source": [
        "## Build Model _(Random Forest Classifier)_"
      ]
    },
    {
      "cell_type": "code",
      "execution_count": 305,
      "metadata": {},
      "outputs": [],
      "source": [
        "from inference import get_classification_report\n",
        "import pickle"
      ]
    },
    {
      "cell_type": "code",
      "execution_count": 306,
      "metadata": {
        "colab": {
          "base_uri": "https://localhost:8080/"
        },
        "id": "LWg4qPodDJwf",
        "outputId": "9e32fd2b-2147-4b39-bdbc-a1bf25a6f40e"
      },
      "outputs": [],
      "source": [
        "model_name = 'model_classifier_rf'\n",
        "path_model = f'{path_root}/{model_name}.pkl'\n",
        "\n",
        "with open(path_model, 'rb') as file:\n",
        "    classifier = pickle.load(file)"
      ]
    },
    {
      "attachments": {},
      "cell_type": "markdown",
      "metadata": {},
      "source": [
        "## Parse Dark Matter Data"
      ]
    },
    {
      "attachments": {},
      "cell_type": "markdown",
      "metadata": {},
      "source": [
        "Import Data"
      ]
    },
    {
      "cell_type": "code",
      "execution_count": 307,
      "metadata": {},
      "outputs": [],
      "source": [
        "path_runs = f'{path_root}/runs'\n",
        "\n",
        "path_ds_libs = [\n",
        "    \n",
        "    # dicer 2\n",
        "    ('RNPM68_01', f'{path_runs}/dicer2/exec_RNPM68_01/Zscore_and_features_matrix.tab'),\n",
        "    ('RNPM164_01', f'{path_runs}/dicer2/exec_RNPM164_01/Zscore_and_features_matrix.tab'),\n",
        "    ('RNPM221_01', f'{path_runs}/dicer2/exec_RNPM221_01/Zscore_and_features_matrix.tab'),\n",
        "    ('RKPM44_06', f'{path_runs}/dicer2/exec_test_v2_06/Zscore_and_features_matrix.tab'),\n",
        "    ('ZIKV_01', f'{path_runs}/dicer2/exec_ZIKV_01/Zscore_and_features_matrix.tab'),\n",
        "    \n",
        "    # r2d2\n",
        "    ('RNPM2_02', f'{path_runs}/r2d2/RNPM2_02/Zscore_and_features_matrix.tab'),\n",
        "    ('RNPM110_02', f'{path_runs}/r2d2/RNPM110_02/Zscore_and_features_matrix.tab'),\n",
        "    ('RNPM169_01', f'{path_runs}/r2d2/RNPM169_01/Zscore_and_features_matrix.tab'),\n",
        "    ('RNPM170_01', f'{path_runs}/r2d2/RNPM170_01/Zscore_and_features_matrix.tab'),\n",
        "]\n"
      ]
    },
    {
      "cell_type": "code",
      "execution_count": 308,
      "metadata": {},
      "outputs": [],
      "source": [
        "# lib_id, lib_path = path_ds_libs[0]\n",
        "# lib_id, lib_path = path_ds_libs[1]\n",
        "# lib_id, lib_path = path_ds_libs[2]\n",
        "# lib_id, lib_path = path_ds_libs[3]\n",
        "# lib_id, lib_path = path_ds_libs[4]\n",
        "# lib_id, lib_path = path_ds_libs[5]\n",
        "# lib_id, lib_path = path_ds_libs[6]\n",
        "# lib_id, lib_path = path_ds_libs[7]\n",
        "# lib_id, lib_path = path_ds_libs[8]\n",
        "\n",
        "# df_dark = pd.read_table(lib_path)\n",
        "\n",
        "# print(f'Parsing lib \"{lib_id}\" ({lib_path})')\n"
      ]
    },
    {
      "cell_type": "code",
      "execution_count": 309,
      "metadata": {},
      "outputs": [
        {
          "name": "stdout",
          "output_type": "stream",
          "text": [
            "Parsing lib \"RNPM170_01\" (.//runs/r2d2/RNPM170_01/Zscore_and_features_matrix.tab)\n"
          ]
        }
      ],
      "source": [
        "lib_id, lib_path = path_ds_libs[8]\n",
        "\n",
        "df_dark = pd.read_table(lib_path)\n",
        "\n",
        "print(f'Parsing lib \"{lib_id}\" ({lib_path})')"
      ]
    },
    {
      "attachments": {},
      "cell_type": "markdown",
      "metadata": {},
      "source": [
        "### EDA"
      ]
    },
    {
      "cell_type": "code",
      "execution_count": 310,
      "metadata": {},
      "outputs": [
        {
          "data": {
            "text/html": [
              "<div>\n",
              "<style scoped>\n",
              "    .dataframe tbody tr th:only-of-type {\n",
              "        vertical-align: middle;\n",
              "    }\n",
              "\n",
              "    .dataframe tbody tr th {\n",
              "        vertical-align: top;\n",
              "    }\n",
              "\n",
              "    .dataframe thead th {\n",
              "        text-align: right;\n",
              "    }\n",
              "</style>\n",
              "<table border=\"1\" class=\"dataframe\">\n",
              "  <thead>\n",
              "    <tr style=\"text-align: right;\">\n",
              "      <th></th>\n",
              "      <th>Contigs_ID</th>\n",
              "      <th>Similarity_label</th>\n",
              "      <th>15</th>\n",
              "      <th>16</th>\n",
              "      <th>17</th>\n",
              "      <th>18</th>\n",
              "      <th>19</th>\n",
              "      <th>20</th>\n",
              "      <th>21</th>\n",
              "      <th>22</th>\n",
              "      <th>...</th>\n",
              "      <th>-33</th>\n",
              "      <th>-34</th>\n",
              "      <th>-35</th>\n",
              "      <th>dens15to18</th>\n",
              "      <th>dens20to22</th>\n",
              "      <th>dens25to29</th>\n",
              "      <th>ratiosi_pi</th>\n",
              "      <th>ratio_si</th>\n",
              "      <th>dens18to35</th>\n",
              "      <th>length</th>\n",
              "    </tr>\n",
              "  </thead>\n",
              "  <tbody>\n",
              "    <tr>\n",
              "      <th>0</th>\n",
              "      <td>bN_RNPM170_Contig1010_1009</td>\n",
              "      <td>viral</td>\n",
              "      <td>-0.315672</td>\n",
              "      <td>-0.315672</td>\n",
              "      <td>-0.315672</td>\n",
              "      <td>-0.315672</td>\n",
              "      <td>-0.163873</td>\n",
              "      <td>0.236322</td>\n",
              "      <td>5.949462</td>\n",
              "      <td>0.236322</td>\n",
              "      <td>...</td>\n",
              "      <td>-0.315672</td>\n",
              "      <td>-0.315672</td>\n",
              "      <td>-0.288072</td>\n",
              "      <td>-16.609640</td>\n",
              "      <td>1.708750</td>\n",
              "      <td>-1.201634</td>\n",
              "      <td>2.910384</td>\n",
              "      <td>0.865939</td>\n",
              "      <td>2.066855</td>\n",
              "      <td>253</td>\n",
              "    </tr>\n",
              "    <tr>\n",
              "      <th>1</th>\n",
              "      <td>bN_RNPM170_Contig14_13</td>\n",
              "      <td>viral</td>\n",
              "      <td>-0.339558</td>\n",
              "      <td>-0.339558</td>\n",
              "      <td>-0.339558</td>\n",
              "      <td>-0.331505</td>\n",
              "      <td>-0.186556</td>\n",
              "      <td>2.511119</td>\n",
              "      <td>5.023580</td>\n",
              "      <td>0.224135</td>\n",
              "      <td>...</td>\n",
              "      <td>-0.323452</td>\n",
              "      <td>-0.331505</td>\n",
              "      <td>-0.339558</td>\n",
              "      <td>-4.682995</td>\n",
              "      <td>2.032109</td>\n",
              "      <td>-1.406870</td>\n",
              "      <td>3.438980</td>\n",
              "      <td>0.883098</td>\n",
              "      <td>2.345602</td>\n",
              "      <td>411</td>\n",
              "    </tr>\n",
              "    <tr>\n",
              "      <th>2</th>\n",
              "      <td>bN_RNPM170_Contig1_0</td>\n",
              "      <td>viral</td>\n",
              "      <td>-0.316422</td>\n",
              "      <td>-0.316422</td>\n",
              "      <td>-0.316422</td>\n",
              "      <td>-0.316422</td>\n",
              "      <td>0.003258</td>\n",
              "      <td>1.184684</td>\n",
              "      <td>5.785297</td>\n",
              "      <td>0.069278</td>\n",
              "      <td>...</td>\n",
              "      <td>-0.194805</td>\n",
              "      <td>-0.243452</td>\n",
              "      <td>-0.219129</td>\n",
              "      <td>-9.375039</td>\n",
              "      <td>2.473975</td>\n",
              "      <td>-1.062156</td>\n",
              "      <td>3.536131</td>\n",
              "      <td>0.725922</td>\n",
              "      <td>2.784201</td>\n",
              "      <td>664</td>\n",
              "    </tr>\n",
              "    <tr>\n",
              "      <th>3</th>\n",
              "      <td>bN_RNPM170_Contig257_256</td>\n",
              "      <td>viral</td>\n",
              "      <td>-0.359425</td>\n",
              "      <td>-0.359425</td>\n",
              "      <td>-0.359425</td>\n",
              "      <td>-0.350751</td>\n",
              "      <td>0.308466</td>\n",
              "      <td>1.305964</td>\n",
              "      <td>5.295958</td>\n",
              "      <td>0.377857</td>\n",
              "      <td>...</td>\n",
              "      <td>-0.359425</td>\n",
              "      <td>-0.350751</td>\n",
              "      <td>-0.350751</td>\n",
              "      <td>-7.090995</td>\n",
              "      <td>1.868041</td>\n",
              "      <td>-1.003532</td>\n",
              "      <td>2.871573</td>\n",
              "      <td>0.719983</td>\n",
              "      <td>2.309885</td>\n",
              "      <td>409</td>\n",
              "    </tr>\n",
              "    <tr>\n",
              "      <th>4</th>\n",
              "      <td>bN_RNPM170_Contig2830_2829</td>\n",
              "      <td>viral</td>\n",
              "      <td>-0.350546</td>\n",
              "      <td>-0.350546</td>\n",
              "      <td>-0.350546</td>\n",
              "      <td>-0.347311</td>\n",
              "      <td>-0.030324</td>\n",
              "      <td>1.185871</td>\n",
              "      <td>4.326630</td>\n",
              "      <td>0.199330</td>\n",
              "      <td>...</td>\n",
              "      <td>-0.340842</td>\n",
              "      <td>-0.334373</td>\n",
              "      <td>-0.337607</td>\n",
              "      <td>-9.893302</td>\n",
              "      <td>2.140810</td>\n",
              "      <td>-0.870934</td>\n",
              "      <td>3.011743</td>\n",
              "      <td>0.008256</td>\n",
              "      <td>2.524551</td>\n",
              "      <td>951</td>\n",
              "    </tr>\n",
              "  </tbody>\n",
              "</table>\n",
              "<p>5 rows × 51 columns</p>\n",
              "</div>"
            ],
            "text/plain": [
              "                   Contigs_ID Similarity_label        15        16        17  \\\n",
              "0  bN_RNPM170_Contig1010_1009            viral -0.315672 -0.315672 -0.315672   \n",
              "1      bN_RNPM170_Contig14_13            viral -0.339558 -0.339558 -0.339558   \n",
              "2        bN_RNPM170_Contig1_0            viral -0.316422 -0.316422 -0.316422   \n",
              "3    bN_RNPM170_Contig257_256            viral -0.359425 -0.359425 -0.359425   \n",
              "4  bN_RNPM170_Contig2830_2829            viral -0.350546 -0.350546 -0.350546   \n",
              "\n",
              "         18        19        20        21        22  ...       -33       -34  \\\n",
              "0 -0.315672 -0.163873  0.236322  5.949462  0.236322  ... -0.315672 -0.315672   \n",
              "1 -0.331505 -0.186556  2.511119  5.023580  0.224135  ... -0.323452 -0.331505   \n",
              "2 -0.316422  0.003258  1.184684  5.785297  0.069278  ... -0.194805 -0.243452   \n",
              "3 -0.350751  0.308466  1.305964  5.295958  0.377857  ... -0.359425 -0.350751   \n",
              "4 -0.347311 -0.030324  1.185871  4.326630  0.199330  ... -0.340842 -0.334373   \n",
              "\n",
              "        -35  dens15to18  dens20to22  dens25to29  ratiosi_pi  ratio_si  \\\n",
              "0 -0.288072  -16.609640    1.708750   -1.201634    2.910384  0.865939   \n",
              "1 -0.339558   -4.682995    2.032109   -1.406870    3.438980  0.883098   \n",
              "2 -0.219129   -9.375039    2.473975   -1.062156    3.536131  0.725922   \n",
              "3 -0.350751   -7.090995    1.868041   -1.003532    2.871573  0.719983   \n",
              "4 -0.337607   -9.893302    2.140810   -0.870934    3.011743  0.008256   \n",
              "\n",
              "   dens18to35  length  \n",
              "0    2.066855     253  \n",
              "1    2.345602     411  \n",
              "2    2.784201     664  \n",
              "3    2.309885     409  \n",
              "4    2.524551     951  \n",
              "\n",
              "[5 rows x 51 columns]"
            ]
          },
          "execution_count": 310,
          "metadata": {},
          "output_type": "execute_result"
        }
      ],
      "source": [
        "df_dark.head()"
      ]
    },
    {
      "cell_type": "code",
      "execution_count": 311,
      "metadata": {},
      "outputs": [
        {
          "data": {
            "text/plain": [
              "(80, 51)"
            ]
          },
          "execution_count": 311,
          "metadata": {},
          "output_type": "execute_result"
        }
      ],
      "source": [
        "df_dark.shape"
      ]
    },
    {
      "cell_type": "code",
      "execution_count": 312,
      "metadata": {},
      "outputs": [
        {
          "name": "stdout",
          "output_type": "stream",
          "text": [
            "<class 'pandas.core.frame.DataFrame'>\n",
            "RangeIndex: 80 entries, 0 to 79\n",
            "Data columns (total 51 columns):\n",
            " #   Column            Non-Null Count  Dtype  \n",
            "---  ------            --------------  -----  \n",
            " 0   Contigs_ID        80 non-null     object \n",
            " 1   Similarity_label  80 non-null     object \n",
            " 2   15                80 non-null     float64\n",
            " 3   16                80 non-null     float64\n",
            " 4   17                80 non-null     float64\n",
            " 5   18                80 non-null     float64\n",
            " 6   19                80 non-null     float64\n",
            " 7   20                80 non-null     float64\n",
            " 8   21                80 non-null     float64\n",
            " 9   22                80 non-null     float64\n",
            " 10  23                80 non-null     float64\n",
            " 11  24                80 non-null     float64\n",
            " 12  25                80 non-null     float64\n",
            " 13  26                80 non-null     float64\n",
            " 14  27                80 non-null     float64\n",
            " 15  28                80 non-null     float64\n",
            " 16  29                80 non-null     float64\n",
            " 17  30                80 non-null     float64\n",
            " 18  31                80 non-null     float64\n",
            " 19  32                80 non-null     float64\n",
            " 20  33                80 non-null     float64\n",
            " 21  34                80 non-null     float64\n",
            " 22  35                80 non-null     float64\n",
            " 23  -15               80 non-null     float64\n",
            " 24  -16               80 non-null     float64\n",
            " 25  -17               80 non-null     float64\n",
            " 26  -18               80 non-null     float64\n",
            " 27  -19               80 non-null     float64\n",
            " 28  -20               80 non-null     float64\n",
            " 29  -21               80 non-null     float64\n",
            " 30  -22               80 non-null     float64\n",
            " 31  -23               80 non-null     float64\n",
            " 32  -24               80 non-null     float64\n",
            " 33  -25               80 non-null     float64\n",
            " 34  -26               80 non-null     float64\n",
            " 35  -27               80 non-null     float64\n",
            " 36  -28               80 non-null     float64\n",
            " 37  -29               80 non-null     float64\n",
            " 38  -30               80 non-null     float64\n",
            " 39  -31               80 non-null     float64\n",
            " 40  -32               80 non-null     float64\n",
            " 41  -33               80 non-null     float64\n",
            " 42  -34               80 non-null     float64\n",
            " 43  -35               80 non-null     float64\n",
            " 44  dens15to18        80 non-null     float64\n",
            " 45  dens20to22        80 non-null     float64\n",
            " 46  dens25to29        80 non-null     float64\n",
            " 47  ratiosi_pi        80 non-null     float64\n",
            " 48  ratio_si          80 non-null     float64\n",
            " 49  dens18to35        80 non-null     float64\n",
            " 50  length            80 non-null     int64  \n",
            "dtypes: float64(48), int64(1), object(2)\n",
            "memory usage: 32.0+ KB\n"
          ]
        }
      ],
      "source": [
        "df_dark.info()"
      ]
    },
    {
      "cell_type": "code",
      "execution_count": 313,
      "metadata": {},
      "outputs": [
        {
          "data": {
            "text/html": [
              "<div>\n",
              "<style scoped>\n",
              "    .dataframe tbody tr th:only-of-type {\n",
              "        vertical-align: middle;\n",
              "    }\n",
              "\n",
              "    .dataframe tbody tr th {\n",
              "        vertical-align: top;\n",
              "    }\n",
              "\n",
              "    .dataframe thead th {\n",
              "        text-align: right;\n",
              "    }\n",
              "</style>\n",
              "<table border=\"1\" class=\"dataframe\">\n",
              "  <thead>\n",
              "    <tr style=\"text-align: right;\">\n",
              "      <th></th>\n",
              "      <th>15</th>\n",
              "      <th>16</th>\n",
              "      <th>17</th>\n",
              "      <th>18</th>\n",
              "      <th>19</th>\n",
              "      <th>20</th>\n",
              "      <th>21</th>\n",
              "      <th>22</th>\n",
              "      <th>23</th>\n",
              "      <th>24</th>\n",
              "      <th>...</th>\n",
              "      <th>-33</th>\n",
              "      <th>-34</th>\n",
              "      <th>-35</th>\n",
              "      <th>dens15to18</th>\n",
              "      <th>dens20to22</th>\n",
              "      <th>dens25to29</th>\n",
              "      <th>ratiosi_pi</th>\n",
              "      <th>ratio_si</th>\n",
              "      <th>dens18to35</th>\n",
              "      <th>length</th>\n",
              "    </tr>\n",
              "  </thead>\n",
              "  <tbody>\n",
              "    <tr>\n",
              "      <th>count</th>\n",
              "      <td>80.000000</td>\n",
              "      <td>80.000000</td>\n",
              "      <td>80.000000</td>\n",
              "      <td>80.000000</td>\n",
              "      <td>80.000000</td>\n",
              "      <td>80.000000</td>\n",
              "      <td>80.000000</td>\n",
              "      <td>80.000000</td>\n",
              "      <td>80.000000</td>\n",
              "      <td>80.000000</td>\n",
              "      <td>...</td>\n",
              "      <td>80.000000</td>\n",
              "      <td>80.000000</td>\n",
              "      <td>80.000000</td>\n",
              "      <td>80.000000</td>\n",
              "      <td>80.000000</td>\n",
              "      <td>80.000000</td>\n",
              "      <td>80.000000</td>\n",
              "      <td>80.000000</td>\n",
              "      <td>80.000000</td>\n",
              "      <td>80.000000</td>\n",
              "    </tr>\n",
              "    <tr>\n",
              "      <th>mean</th>\n",
              "      <td>-0.430860</td>\n",
              "      <td>-0.430860</td>\n",
              "      <td>-0.430860</td>\n",
              "      <td>-0.426830</td>\n",
              "      <td>-0.239203</td>\n",
              "      <td>0.362175</td>\n",
              "      <td>2.270075</td>\n",
              "      <td>0.308652</td>\n",
              "      <td>0.429951</td>\n",
              "      <td>0.528634</td>\n",
              "      <td>...</td>\n",
              "      <td>-0.393486</td>\n",
              "      <td>-0.409169</td>\n",
              "      <td>-0.406180</td>\n",
              "      <td>-13.607605</td>\n",
              "      <td>-1.070500</td>\n",
              "      <td>0.022271</td>\n",
              "      <td>-1.191998</td>\n",
              "      <td>-3.215467</td>\n",
              "      <td>2.010239</td>\n",
              "      <td>453.687500</td>\n",
              "    </tr>\n",
              "    <tr>\n",
              "      <th>std</th>\n",
              "      <td>0.144063</td>\n",
              "      <td>0.144063</td>\n",
              "      <td>0.144063</td>\n",
              "      <td>0.142414</td>\n",
              "      <td>0.326306</td>\n",
              "      <td>0.810283</td>\n",
              "      <td>2.412005</td>\n",
              "      <td>0.806122</td>\n",
              "      <td>1.144254</td>\n",
              "      <td>1.011071</td>\n",
              "      <td>...</td>\n",
              "      <td>0.147929</td>\n",
              "      <td>0.149208</td>\n",
              "      <td>0.152189</td>\n",
              "      <td>4.461933</td>\n",
              "      <td>4.668084</td>\n",
              "      <td>2.229546</td>\n",
              "      <td>4.865726</td>\n",
              "      <td>7.935483</td>\n",
              "      <td>1.993467</td>\n",
              "      <td>488.116364</td>\n",
              "    </tr>\n",
              "    <tr>\n",
              "      <th>min</th>\n",
              "      <td>-0.790165</td>\n",
              "      <td>-0.790165</td>\n",
              "      <td>-0.790165</td>\n",
              "      <td>-0.789251</td>\n",
              "      <td>-0.783629</td>\n",
              "      <td>-0.543347</td>\n",
              "      <td>-0.499065</td>\n",
              "      <td>-0.508001</td>\n",
              "      <td>-0.414230</td>\n",
              "      <td>-0.414230</td>\n",
              "      <td>...</td>\n",
              "      <td>-0.732002</td>\n",
              "      <td>-0.783629</td>\n",
              "      <td>-0.783629</td>\n",
              "      <td>-16.609640</td>\n",
              "      <td>-16.609640</td>\n",
              "      <td>-7.971544</td>\n",
              "      <td>-16.609640</td>\n",
              "      <td>-16.609640</td>\n",
              "      <td>-5.164189</td>\n",
              "      <td>200.000000</td>\n",
              "    </tr>\n",
              "    <tr>\n",
              "      <th>25%</th>\n",
              "      <td>-0.546430</td>\n",
              "      <td>-0.546430</td>\n",
              "      <td>-0.546430</td>\n",
              "      <td>-0.545922</td>\n",
              "      <td>-0.421338</td>\n",
              "      <td>-0.318234</td>\n",
              "      <td>-0.197481</td>\n",
              "      <td>-0.172086</td>\n",
              "      <td>-0.164533</td>\n",
              "      <td>-0.123794</td>\n",
              "      <td>...</td>\n",
              "      <td>-0.476980</td>\n",
              "      <td>-0.519340</td>\n",
              "      <td>-0.530643</td>\n",
              "      <td>-16.609640</td>\n",
              "      <td>-4.619540</td>\n",
              "      <td>-1.194892</td>\n",
              "      <td>-4.539634</td>\n",
              "      <td>-4.152410</td>\n",
              "      <td>0.856677</td>\n",
              "      <td>227.250000</td>\n",
              "    </tr>\n",
              "    <tr>\n",
              "      <th>50%</th>\n",
              "      <td>-0.367202</td>\n",
              "      <td>-0.367202</td>\n",
              "      <td>-0.367202</td>\n",
              "      <td>-0.367202</td>\n",
              "      <td>-0.326414</td>\n",
              "      <td>0.088448</td>\n",
              "      <td>1.613412</td>\n",
              "      <td>0.124703</td>\n",
              "      <td>-0.017417</td>\n",
              "      <td>0.054470</td>\n",
              "      <td>...</td>\n",
              "      <td>-0.356489</td>\n",
              "      <td>-0.352152</td>\n",
              "      <td>-0.349633</td>\n",
              "      <td>-16.609640</td>\n",
              "      <td>0.892768</td>\n",
              "      <td>-0.351438</td>\n",
              "      <td>-0.998332</td>\n",
              "      <td>0.479811</td>\n",
              "      <td>2.165667</td>\n",
              "      <td>296.000000</td>\n",
              "    </tr>\n",
              "    <tr>\n",
              "      <th>75%</th>\n",
              "      <td>-0.324668</td>\n",
              "      <td>-0.324668</td>\n",
              "      <td>-0.324668</td>\n",
              "      <td>-0.323534</td>\n",
              "      <td>-0.096285</td>\n",
              "      <td>0.944302</td>\n",
              "      <td>4.568803</td>\n",
              "      <td>0.311582</td>\n",
              "      <td>0.329782</td>\n",
              "      <td>0.843129</td>\n",
              "      <td>...</td>\n",
              "      <td>-0.300760</td>\n",
              "      <td>-0.309087</td>\n",
              "      <td>-0.294713</td>\n",
              "      <td>-8.991759</td>\n",
              "      <td>2.214403</td>\n",
              "      <td>1.010862</td>\n",
              "      <td>3.141862</td>\n",
              "      <td>0.981494</td>\n",
              "      <td>2.803140</td>\n",
              "      <td>462.250000</td>\n",
              "    </tr>\n",
              "    <tr>\n",
              "      <th>max</th>\n",
              "      <td>-0.253859</td>\n",
              "      <td>-0.253859</td>\n",
              "      <td>-0.253859</td>\n",
              "      <td>-0.249558</td>\n",
              "      <td>1.253658</td>\n",
              "      <td>3.910065</td>\n",
              "      <td>6.716889</td>\n",
              "      <td>3.588808</td>\n",
              "      <td>5.044019</td>\n",
              "      <td>3.936126</td>\n",
              "      <td>...</td>\n",
              "      <td>-0.150483</td>\n",
              "      <td>-0.163604</td>\n",
              "      <td>-0.174580</td>\n",
              "      <td>-3.193772</td>\n",
              "      <td>4.779495</td>\n",
              "      <td>6.614618</td>\n",
              "      <td>5.970611</td>\n",
              "      <td>8.247928</td>\n",
              "      <td>7.190232</td>\n",
              "      <td>3908.000000</td>\n",
              "    </tr>\n",
              "  </tbody>\n",
              "</table>\n",
              "<p>8 rows × 49 columns</p>\n",
              "</div>"
            ],
            "text/plain": [
              "              15         16         17         18         19         20  \\\n",
              "count  80.000000  80.000000  80.000000  80.000000  80.000000  80.000000   \n",
              "mean   -0.430860  -0.430860  -0.430860  -0.426830  -0.239203   0.362175   \n",
              "std     0.144063   0.144063   0.144063   0.142414   0.326306   0.810283   \n",
              "min    -0.790165  -0.790165  -0.790165  -0.789251  -0.783629  -0.543347   \n",
              "25%    -0.546430  -0.546430  -0.546430  -0.545922  -0.421338  -0.318234   \n",
              "50%    -0.367202  -0.367202  -0.367202  -0.367202  -0.326414   0.088448   \n",
              "75%    -0.324668  -0.324668  -0.324668  -0.323534  -0.096285   0.944302   \n",
              "max    -0.253859  -0.253859  -0.253859  -0.249558   1.253658   3.910065   \n",
              "\n",
              "              21         22         23         24  ...        -33        -34  \\\n",
              "count  80.000000  80.000000  80.000000  80.000000  ...  80.000000  80.000000   \n",
              "mean    2.270075   0.308652   0.429951   0.528634  ...  -0.393486  -0.409169   \n",
              "std     2.412005   0.806122   1.144254   1.011071  ...   0.147929   0.149208   \n",
              "min    -0.499065  -0.508001  -0.414230  -0.414230  ...  -0.732002  -0.783629   \n",
              "25%    -0.197481  -0.172086  -0.164533  -0.123794  ...  -0.476980  -0.519340   \n",
              "50%     1.613412   0.124703  -0.017417   0.054470  ...  -0.356489  -0.352152   \n",
              "75%     4.568803   0.311582   0.329782   0.843129  ...  -0.300760  -0.309087   \n",
              "max     6.716889   3.588808   5.044019   3.936126  ...  -0.150483  -0.163604   \n",
              "\n",
              "             -35  dens15to18  dens20to22  dens25to29  ratiosi_pi   ratio_si  \\\n",
              "count  80.000000   80.000000   80.000000   80.000000   80.000000  80.000000   \n",
              "mean   -0.406180  -13.607605   -1.070500    0.022271   -1.191998  -3.215467   \n",
              "std     0.152189    4.461933    4.668084    2.229546    4.865726   7.935483   \n",
              "min    -0.783629  -16.609640  -16.609640   -7.971544  -16.609640 -16.609640   \n",
              "25%    -0.530643  -16.609640   -4.619540   -1.194892   -4.539634  -4.152410   \n",
              "50%    -0.349633  -16.609640    0.892768   -0.351438   -0.998332   0.479811   \n",
              "75%    -0.294713   -8.991759    2.214403    1.010862    3.141862   0.981494   \n",
              "max    -0.174580   -3.193772    4.779495    6.614618    5.970611   8.247928   \n",
              "\n",
              "       dens18to35       length  \n",
              "count   80.000000    80.000000  \n",
              "mean     2.010239   453.687500  \n",
              "std      1.993467   488.116364  \n",
              "min     -5.164189   200.000000  \n",
              "25%      0.856677   227.250000  \n",
              "50%      2.165667   296.000000  \n",
              "75%      2.803140   462.250000  \n",
              "max      7.190232  3908.000000  \n",
              "\n",
              "[8 rows x 49 columns]"
            ]
          },
          "execution_count": 313,
          "metadata": {},
          "output_type": "execute_result"
        }
      ],
      "source": [
        "df_dark.describe()"
      ]
    },
    {
      "attachments": {},
      "cell_type": "markdown",
      "metadata": {},
      "source": [
        "Check for missing values"
      ]
    },
    {
      "cell_type": "code",
      "execution_count": 314,
      "metadata": {},
      "outputs": [
        {
          "data": {
            "text/plain": [
              "0"
            ]
          },
          "execution_count": 314,
          "metadata": {},
          "output_type": "execute_result"
        }
      ],
      "source": [
        "df_dark.isnull().sum().sum() # Whole data frame\n",
        "# df_virus_dark_matter.isna().sum().sort_values(ascending=False)[2:] # By columns"
      ]
    },
    {
      "attachments": {},
      "cell_type": "markdown",
      "metadata": {},
      "source": [
        "### Separate: X _(features)_ × Y _(classes)_ ×  ID's _(contig ID's)_"
      ]
    },
    {
      "cell_type": "code",
      "execution_count": 315,
      "metadata": {},
      "outputs": [],
      "source": [
        "col_class_dark = 'Similarity_label'\n",
        "col_id_dark = 'Contigs_ID'\n",
        "x_range_dark = list(range(2, 51))"
      ]
    },
    {
      "cell_type": "code",
      "execution_count": 316,
      "metadata": {},
      "outputs": [
        {
          "name": "stdout",
          "output_type": "stream",
          "text": [
            "n_samples: 80 × n_features: 49\n",
            "ID's -> ids.shape (80,) (80 are unique)\n",
            "y.shape (Similarity_label): (80,)\n",
            "X.shape: (80, 49)\n"
          ]
        }
      ],
      "source": [
        "ids = df_dark[col_id_dark] # Contig ID's\n",
        "X_dark = df_dark.iloc[:, x_range_dark] # Feature Values\n",
        "y_dark = df_dark[col_class_dark] # Labels\n",
        "n_samples, n_features = X_dark.shape\n",
        "\n",
        "print(f\"n_samples: {n_samples} × n_features: {n_features}\")\n",
        "print(f\"ID's -> ids.shape {ids.shape} ({ids.unique().shape[0]} are unique)\")\n",
        "print(f'y.shape ({col_class_dark}): {y_dark.shape}')\n",
        "print(f'X.shape: {X_dark.shape}')"
      ]
    },
    {
      "cell_type": "code",
      "execution_count": 317,
      "metadata": {},
      "outputs": [
        {
          "data": {
            "text/plain": [
              "Index(['15', '16', '17', '18', '19', '20', '21', '22', '23', '24', '25', '26',\n",
              "       '27', '28', '29', '30', '31', '32', '33', '34', '35', '-15', '-16',\n",
              "       '-17', '-18', '-19', '-20', '-21', '-22', '-23', '-24', '-25', '-26',\n",
              "       '-27', '-28', '-29', '-30', '-31', '-32', '-33', '-34', '-35',\n",
              "       'dens15to18', 'dens20to22', 'dens25to29', 'ratiosi_pi', 'ratio_si',\n",
              "       'dens18to35', 'length'],\n",
              "      dtype='object')"
            ]
          },
          "execution_count": 317,
          "metadata": {},
          "output_type": "execute_result"
        }
      ],
      "source": [
        "feat_dark = X_dark.columns\n",
        "feat_dark"
      ]
    },
    {
      "attachments": {},
      "cell_type": "markdown",
      "metadata": {},
      "source": [
        "Check if all features data is numeric\n",
        "\n",
        "_Yes, they are..._"
      ]
    },
    {
      "cell_type": "code",
      "execution_count": 318,
      "metadata": {},
      "outputs": [
        {
          "data": {
            "text/plain": [
              "{dtype('int64'), dtype('float64')}"
            ]
          },
          "execution_count": 318,
          "metadata": {},
          "output_type": "execute_result"
        }
      ],
      "source": [
        "set(X_dark.dtypes)"
      ]
    },
    {
      "attachments": {},
      "cell_type": "markdown",
      "metadata": {},
      "source": [
        "**Class names**\n",
        "\n",
        "_We can see that the 3 classes are relatively well balanced..._"
      ]
    },
    {
      "cell_type": "code",
      "execution_count": 319,
      "metadata": {},
      "outputs": [
        {
          "data": {
            "text/plain": [
              "viral       42\n",
              "nonviral    24\n",
              "nohit       14\n",
              "Name: Similarity_label, dtype: int64"
            ]
          },
          "execution_count": 319,
          "metadata": {},
          "output_type": "execute_result"
        }
      ],
      "source": [
        "classes = list(y_dark.unique())\n",
        "class_counts = list(y_dark.value_counts())\n",
        "y_dark.value_counts()"
      ]
    },
    {
      "attachments": {},
      "cell_type": "markdown",
      "metadata": {},
      "source": [
        "### Transform data to classify"
      ]
    },
    {
      "cell_type": "code",
      "execution_count": 320,
      "metadata": {},
      "outputs": [
        {
          "data": {
            "text/plain": [
              "Index(['X15', 'X16', 'X17', 'X18', 'X19', 'X20', 'X21', 'X22', 'X23', 'X24',\n",
              "       'X25', 'X26', 'X27', 'X28', 'X29', 'X30', 'X31', 'X32', 'X33', 'X34',\n",
              "       'X35', 'X.15', 'X.16', 'X.17', 'X.18', 'X.19', 'X.20', 'X.21', 'X.22',\n",
              "       'X.23', 'X.24', 'X.25', 'X.26', 'X.27', 'X.28', 'X.29', 'X.30', 'X.31',\n",
              "       'X.32', 'X.33', 'X.34', 'X.35', 'dens15to18', 'dens20to22',\n",
              "       'dens25to29', 'ratiosi_pi', 'ratio_si', 'dens18to35'],\n",
              "      dtype='object')"
            ]
          },
          "execution_count": 320,
          "metadata": {},
          "output_type": "execute_result"
        }
      ],
      "source": [
        "feat_eves"
      ]
    },
    {
      "cell_type": "code",
      "execution_count": 321,
      "metadata": {},
      "outputs": [
        {
          "data": {
            "text/plain": [
              "Index(['15', '16', '17', '18', '19', '20', '21', '22', '23', '24', '25', '26',\n",
              "       '27', '28', '29', '30', '31', '32', '33', '34', '35', '-15', '-16',\n",
              "       '-17', '-18', '-19', '-20', '-21', '-22', '-23', '-24', '-25', '-26',\n",
              "       '-27', '-28', '-29', '-30', '-31', '-32', '-33', '-34', '-35',\n",
              "       'dens15to18', 'dens20to22', 'dens25to29', 'ratiosi_pi', 'ratio_si',\n",
              "       'dens18to35', 'length'],\n",
              "      dtype='object')"
            ]
          },
          "execution_count": 321,
          "metadata": {},
          "output_type": "execute_result"
        }
      ],
      "source": [
        "feat_dark"
      ]
    },
    {
      "attachments": {},
      "cell_type": "markdown",
      "metadata": {},
      "source": [
        "Common features"
      ]
    },
    {
      "cell_type": "code",
      "execution_count": 322,
      "metadata": {},
      "outputs": [
        {
          "data": {
            "text/plain": [
              "['dens15to18',\n",
              " 'dens20to22',\n",
              " 'dens25to29',\n",
              " 'ratiosi_pi',\n",
              " 'ratio_si',\n",
              " 'dens18to35']"
            ]
          },
          "execution_count": 322,
          "metadata": {},
          "output_type": "execute_result"
        }
      ],
      "source": [
        "feat_common = [f for f in feat_eves if f in feat_dark]\n",
        "feat_common"
      ]
    },
    {
      "attachments": {},
      "cell_type": "markdown",
      "metadata": {},
      "source": [
        "Build new data frame"
      ]
    },
    {
      "cell_type": "code",
      "execution_count": 323,
      "metadata": {},
      "outputs": [],
      "source": [
        "\n",
        "# Create new data frame\n",
        "df_dark2 = pd.DataFrame()\n",
        "\n",
        "df_dark2[col_id_dark] = df_dark[col_id_dark]\n",
        "df_dark2[col_class_dark] = df_dark[col_class_dark]\n",
        "\n",
        "# Add features with proper names\n",
        "feat_dark2 = []\n",
        "\n",
        "for i in range(15, 35 + 1):\n",
        "    feat_sense = f'X{i}'\n",
        "    feat_dark2.append(feat_sense)\n",
        "    df_dark2[feat_sense] = X_dark[f'{i}']\n",
        "\n",
        "for i in range(15, 35 + 1):\n",
        "    feat_anti_sense = f'X.{i}'\n",
        "    feat_dark2.append(feat_anti_sense)\n",
        "    df_dark2[feat_anti_sense] = X_dark[f'-{i}']\n",
        "\n",
        "df_dark2[feat_common] = X_dark[feat_common].copy()\n",
        "feat_dark2 += feat_common.copy()\n"
      ]
    },
    {
      "attachments": {},
      "cell_type": "markdown",
      "metadata": {},
      "source": [
        "Check features"
      ]
    },
    {
      "cell_type": "code",
      "execution_count": 324,
      "metadata": {},
      "outputs": [
        {
          "name": "stdout",
          "output_type": "stream",
          "text": [
            "feat_eves: 48\n",
            "feat_dark2: 48\n",
            "n_match_feats: 48\n"
          ]
        }
      ],
      "source": [
        "n_match_feats = sum(feat_dark2 == feat_eves)\n",
        "\n",
        "print(f'feat_eves: {len(feat_eves)}') \n",
        "print(f'feat_dark2: {len(feat_dark2)}')\n",
        "print(f'n_match_feats: {n_match_feats}')"
      ]
    },
    {
      "cell_type": "code",
      "execution_count": 325,
      "metadata": {},
      "outputs": [
        {
          "data": {
            "text/html": [
              "<div>\n",
              "<style scoped>\n",
              "    .dataframe tbody tr th:only-of-type {\n",
              "        vertical-align: middle;\n",
              "    }\n",
              "\n",
              "    .dataframe tbody tr th {\n",
              "        vertical-align: top;\n",
              "    }\n",
              "\n",
              "    .dataframe thead th {\n",
              "        text-align: right;\n",
              "    }\n",
              "</style>\n",
              "<table border=\"1\" class=\"dataframe\">\n",
              "  <thead>\n",
              "    <tr style=\"text-align: right;\">\n",
              "      <th></th>\n",
              "      <th>Contigs_ID</th>\n",
              "      <th>Similarity_label</th>\n",
              "      <th>X15</th>\n",
              "      <th>X16</th>\n",
              "      <th>X17</th>\n",
              "      <th>X18</th>\n",
              "      <th>X19</th>\n",
              "      <th>X20</th>\n",
              "      <th>X21</th>\n",
              "      <th>X22</th>\n",
              "      <th>...</th>\n",
              "      <th>X.32</th>\n",
              "      <th>X.33</th>\n",
              "      <th>X.34</th>\n",
              "      <th>X.35</th>\n",
              "      <th>dens15to18</th>\n",
              "      <th>dens20to22</th>\n",
              "      <th>dens25to29</th>\n",
              "      <th>ratiosi_pi</th>\n",
              "      <th>ratio_si</th>\n",
              "      <th>dens18to35</th>\n",
              "    </tr>\n",
              "  </thead>\n",
              "  <tbody>\n",
              "    <tr>\n",
              "      <th>0</th>\n",
              "      <td>bN_RNPM170_Contig1010_1009</td>\n",
              "      <td>viral</td>\n",
              "      <td>-0.315672</td>\n",
              "      <td>-0.315672</td>\n",
              "      <td>-0.315672</td>\n",
              "      <td>-0.315672</td>\n",
              "      <td>-0.163873</td>\n",
              "      <td>0.236322</td>\n",
              "      <td>5.949462</td>\n",
              "      <td>0.236322</td>\n",
              "      <td>...</td>\n",
              "      <td>-0.288072</td>\n",
              "      <td>-0.315672</td>\n",
              "      <td>-0.315672</td>\n",
              "      <td>-0.288072</td>\n",
              "      <td>-16.609640</td>\n",
              "      <td>1.708750</td>\n",
              "      <td>-1.201634</td>\n",
              "      <td>2.910384</td>\n",
              "      <td>0.865939</td>\n",
              "      <td>2.066855</td>\n",
              "    </tr>\n",
              "    <tr>\n",
              "      <th>1</th>\n",
              "      <td>bN_RNPM170_Contig14_13</td>\n",
              "      <td>viral</td>\n",
              "      <td>-0.339558</td>\n",
              "      <td>-0.339558</td>\n",
              "      <td>-0.339558</td>\n",
              "      <td>-0.331505</td>\n",
              "      <td>-0.186556</td>\n",
              "      <td>2.511119</td>\n",
              "      <td>5.023580</td>\n",
              "      <td>0.224135</td>\n",
              "      <td>...</td>\n",
              "      <td>-0.339558</td>\n",
              "      <td>-0.323452</td>\n",
              "      <td>-0.331505</td>\n",
              "      <td>-0.339558</td>\n",
              "      <td>-4.682995</td>\n",
              "      <td>2.032109</td>\n",
              "      <td>-1.406870</td>\n",
              "      <td>3.438980</td>\n",
              "      <td>0.883098</td>\n",
              "      <td>2.345602</td>\n",
              "    </tr>\n",
              "    <tr>\n",
              "      <th>2</th>\n",
              "      <td>bN_RNPM170_Contig1_0</td>\n",
              "      <td>viral</td>\n",
              "      <td>-0.316422</td>\n",
              "      <td>-0.316422</td>\n",
              "      <td>-0.316422</td>\n",
              "      <td>-0.316422</td>\n",
              "      <td>0.003258</td>\n",
              "      <td>1.184684</td>\n",
              "      <td>5.785297</td>\n",
              "      <td>0.069278</td>\n",
              "      <td>...</td>\n",
              "      <td>-0.226078</td>\n",
              "      <td>-0.194805</td>\n",
              "      <td>-0.243452</td>\n",
              "      <td>-0.219129</td>\n",
              "      <td>-9.375039</td>\n",
              "      <td>2.473975</td>\n",
              "      <td>-1.062156</td>\n",
              "      <td>3.536131</td>\n",
              "      <td>0.725922</td>\n",
              "      <td>2.784201</td>\n",
              "    </tr>\n",
              "    <tr>\n",
              "      <th>3</th>\n",
              "      <td>bN_RNPM170_Contig257_256</td>\n",
              "      <td>viral</td>\n",
              "      <td>-0.359425</td>\n",
              "      <td>-0.359425</td>\n",
              "      <td>-0.359425</td>\n",
              "      <td>-0.350751</td>\n",
              "      <td>0.308466</td>\n",
              "      <td>1.305964</td>\n",
              "      <td>5.295958</td>\n",
              "      <td>0.377857</td>\n",
              "      <td>...</td>\n",
              "      <td>-0.359425</td>\n",
              "      <td>-0.359425</td>\n",
              "      <td>-0.350751</td>\n",
              "      <td>-0.350751</td>\n",
              "      <td>-7.090995</td>\n",
              "      <td>1.868041</td>\n",
              "      <td>-1.003532</td>\n",
              "      <td>2.871573</td>\n",
              "      <td>0.719983</td>\n",
              "      <td>2.309885</td>\n",
              "    </tr>\n",
              "    <tr>\n",
              "      <th>4</th>\n",
              "      <td>bN_RNPM170_Contig2830_2829</td>\n",
              "      <td>viral</td>\n",
              "      <td>-0.350546</td>\n",
              "      <td>-0.350546</td>\n",
              "      <td>-0.350546</td>\n",
              "      <td>-0.347311</td>\n",
              "      <td>-0.030324</td>\n",
              "      <td>1.185871</td>\n",
              "      <td>4.326630</td>\n",
              "      <td>0.199330</td>\n",
              "      <td>...</td>\n",
              "      <td>-0.314965</td>\n",
              "      <td>-0.340842</td>\n",
              "      <td>-0.334373</td>\n",
              "      <td>-0.337607</td>\n",
              "      <td>-9.893302</td>\n",
              "      <td>2.140810</td>\n",
              "      <td>-0.870934</td>\n",
              "      <td>3.011743</td>\n",
              "      <td>0.008256</td>\n",
              "      <td>2.524551</td>\n",
              "    </tr>\n",
              "  </tbody>\n",
              "</table>\n",
              "<p>5 rows × 50 columns</p>\n",
              "</div>"
            ],
            "text/plain": [
              "                   Contigs_ID Similarity_label       X15       X16       X17  \\\n",
              "0  bN_RNPM170_Contig1010_1009            viral -0.315672 -0.315672 -0.315672   \n",
              "1      bN_RNPM170_Contig14_13            viral -0.339558 -0.339558 -0.339558   \n",
              "2        bN_RNPM170_Contig1_0            viral -0.316422 -0.316422 -0.316422   \n",
              "3    bN_RNPM170_Contig257_256            viral -0.359425 -0.359425 -0.359425   \n",
              "4  bN_RNPM170_Contig2830_2829            viral -0.350546 -0.350546 -0.350546   \n",
              "\n",
              "        X18       X19       X20       X21       X22  ...      X.32      X.33  \\\n",
              "0 -0.315672 -0.163873  0.236322  5.949462  0.236322  ... -0.288072 -0.315672   \n",
              "1 -0.331505 -0.186556  2.511119  5.023580  0.224135  ... -0.339558 -0.323452   \n",
              "2 -0.316422  0.003258  1.184684  5.785297  0.069278  ... -0.226078 -0.194805   \n",
              "3 -0.350751  0.308466  1.305964  5.295958  0.377857  ... -0.359425 -0.359425   \n",
              "4 -0.347311 -0.030324  1.185871  4.326630  0.199330  ... -0.314965 -0.340842   \n",
              "\n",
              "       X.34      X.35  dens15to18  dens20to22  dens25to29  ratiosi_pi  \\\n",
              "0 -0.315672 -0.288072  -16.609640    1.708750   -1.201634    2.910384   \n",
              "1 -0.331505 -0.339558   -4.682995    2.032109   -1.406870    3.438980   \n",
              "2 -0.243452 -0.219129   -9.375039    2.473975   -1.062156    3.536131   \n",
              "3 -0.350751 -0.350751   -7.090995    1.868041   -1.003532    2.871573   \n",
              "4 -0.334373 -0.337607   -9.893302    2.140810   -0.870934    3.011743   \n",
              "\n",
              "   ratio_si  dens18to35  \n",
              "0  0.865939    2.066855  \n",
              "1  0.883098    2.345602  \n",
              "2  0.725922    2.784201  \n",
              "3  0.719983    2.309885  \n",
              "4  0.008256    2.524551  \n",
              "\n",
              "[5 rows x 50 columns]"
            ]
          },
          "execution_count": 325,
          "metadata": {},
          "output_type": "execute_result"
        }
      ],
      "source": [
        "df_dark2.head()"
      ]
    },
    {
      "attachments": {},
      "cell_type": "markdown",
      "metadata": {},
      "source": [
        "## Classify Dark Matter DB sequences"
      ]
    },
    {
      "cell_type": "code",
      "execution_count": 326,
      "metadata": {},
      "outputs": [],
      "source": [
        "y_hat = classifier.predict(df_dark2[feat_dark2])\n",
        "df_dark2[col_class_eve] = y_hat.copy()"
      ]
    },
    {
      "cell_type": "code",
      "execution_count": 327,
      "metadata": {},
      "outputs": [
        {
          "data": {
            "text/plain": [
              "array(['viral', 'viral', 'viral', 'viral', 'viral', 'viral', 'viral',\n",
              "       'viral', 'viral', 'viral', 'viral', 'viral', 'viral', 'viral',\n",
              "       'viral', 'viral', 'viral', 'viral', 'viral', 'viral', 'viral',\n",
              "       'viral', 'viral', 'viral', 'viral', 'viral', 'viral', 'viral',\n",
              "       'viral', 'viral', 'viral', 'viral', 'viral', 'viral', 'viral',\n",
              "       'viral', 'viral', 'viral', 'viral', 'viral', 'eve', 'eve', 'eve',\n",
              "       'eve', 'eve', 'eve', 'eve', 'eve', 'eve', 'eve', 'eve', 'eve',\n",
              "       'eve', 'eve', 'eve', 'eve', 'eve', 'eve', 'eve', 'eve', 'eve',\n",
              "       'eve', 'eve', 'eve', 'eve', 'eve', 'eve', 'eve', 'eve', 'eve',\n",
              "       'eve', 'eve', 'eve', 'eve', 'eve', 'eve', 'eve', 'eve', 'eve',\n",
              "       'eve'], dtype=object)"
            ]
          },
          "execution_count": 327,
          "metadata": {},
          "output_type": "execute_result"
        }
      ],
      "source": [
        "y_hat"
      ]
    },
    {
      "attachments": {},
      "cell_type": "markdown",
      "metadata": {},
      "source": [
        "### Build report"
      ]
    },
    {
      "cell_type": "code",
      "execution_count": 328,
      "metadata": {},
      "outputs": [
        {
          "data": {
            "text/plain": [
              "'RNPM170_01-report'"
            ]
          },
          "execution_count": 328,
          "metadata": {},
          "output_type": "execute_result"
        }
      ],
      "source": [
        "report_name = f'{lib_id}-report'\n",
        "report_name"
      ]
    },
    {
      "cell_type": "code",
      "execution_count": 329,
      "metadata": {},
      "outputs": [],
      "source": [
        "cols_report = [col_class_dark, col_class_eve, col_id_dark]"
      ]
    },
    {
      "cell_type": "code",
      "execution_count": 330,
      "metadata": {},
      "outputs": [],
      "source": [
        "df_report = df_dark2[cols_report].copy()\n",
        "df_report = df_report.sort_values(by=cols_report, ascending=True).reset_index()[cols_report]"
      ]
    },
    {
      "cell_type": "code",
      "execution_count": 331,
      "metadata": {},
      "outputs": [
        {
          "name": "stdout",
          "output_type": "stream",
          "text": [
            "-- RNPM170_01 Classification Summary --\n"
          ]
        },
        {
          "data": {
            "text/plain": [
              "Similarity_label  class\n",
              "nohit             eve      14\n",
              "nonviral          eve      24\n",
              "viral             viral    40\n",
              "                  eve       2\n",
              "Name: class, dtype: int64"
            ]
          },
          "execution_count": 331,
          "metadata": {},
          "output_type": "execute_result"
        }
      ],
      "source": [
        "\n",
        "print(f'-- {lib_id} Classification Summary --')\n",
        "df_report.groupby(col_class_dark)[col_class_eve].value_counts()"
      ]
    },
    {
      "cell_type": "code",
      "execution_count": 332,
      "metadata": {},
      "outputs": [
        {
          "data": {
            "text/html": [
              "<div>\n",
              "<style scoped>\n",
              "    .dataframe tbody tr th:only-of-type {\n",
              "        vertical-align: middle;\n",
              "    }\n",
              "\n",
              "    .dataframe tbody tr th {\n",
              "        vertical-align: top;\n",
              "    }\n",
              "\n",
              "    .dataframe thead th {\n",
              "        text-align: right;\n",
              "    }\n",
              "</style>\n",
              "<table border=\"1\" class=\"dataframe\">\n",
              "  <thead>\n",
              "    <tr style=\"text-align: right;\">\n",
              "      <th></th>\n",
              "      <th>Similarity_label</th>\n",
              "      <th>class</th>\n",
              "      <th>Contigs_ID</th>\n",
              "    </tr>\n",
              "  </thead>\n",
              "  <tbody>\n",
              "    <tr>\n",
              "      <th>0</th>\n",
              "      <td>nohit</td>\n",
              "      <td>eve</td>\n",
              "      <td>RNPM170_Contig1015_1014</td>\n",
              "    </tr>\n",
              "    <tr>\n",
              "      <th>1</th>\n",
              "      <td>nohit</td>\n",
              "      <td>eve</td>\n",
              "      <td>RNPM170_Contig2835_2834</td>\n",
              "    </tr>\n",
              "    <tr>\n",
              "      <th>2</th>\n",
              "      <td>nohit</td>\n",
              "      <td>eve</td>\n",
              "      <td>RNPM170_Contig2840_2839</td>\n",
              "    </tr>\n",
              "    <tr>\n",
              "      <th>3</th>\n",
              "      <td>nohit</td>\n",
              "      <td>eve</td>\n",
              "      <td>RNPM170_Contig2851_2850</td>\n",
              "    </tr>\n",
              "    <tr>\n",
              "      <th>4</th>\n",
              "      <td>nohit</td>\n",
              "      <td>eve</td>\n",
              "      <td>RNPM170_Contig2855_2854</td>\n",
              "    </tr>\n",
              "    <tr>\n",
              "      <th>...</th>\n",
              "      <td>...</td>\n",
              "      <td>...</td>\n",
              "      <td>...</td>\n",
              "    </tr>\n",
              "    <tr>\n",
              "      <th>75</th>\n",
              "      <td>viral</td>\n",
              "      <td>viral</td>\n",
              "      <td>bN_RNPM170_Contig55_54</td>\n",
              "    </tr>\n",
              "    <tr>\n",
              "      <th>76</th>\n",
              "      <td>viral</td>\n",
              "      <td>viral</td>\n",
              "      <td>bN_RNPM170_Contig580_579</td>\n",
              "    </tr>\n",
              "    <tr>\n",
              "      <th>77</th>\n",
              "      <td>viral</td>\n",
              "      <td>viral</td>\n",
              "      <td>bN_RNPM170_Contig7_6</td>\n",
              "    </tr>\n",
              "    <tr>\n",
              "      <th>78</th>\n",
              "      <td>viral</td>\n",
              "      <td>viral</td>\n",
              "      <td>bN_RNPM170_Contig97_96</td>\n",
              "    </tr>\n",
              "    <tr>\n",
              "      <th>79</th>\n",
              "      <td>viral</td>\n",
              "      <td>viral</td>\n",
              "      <td>bN_RNPM170_Contig9_8</td>\n",
              "    </tr>\n",
              "  </tbody>\n",
              "</table>\n",
              "<p>80 rows × 3 columns</p>\n",
              "</div>"
            ],
            "text/plain": [
              "   Similarity_label  class                Contigs_ID\n",
              "0             nohit    eve   RNPM170_Contig1015_1014\n",
              "1             nohit    eve   RNPM170_Contig2835_2834\n",
              "2             nohit    eve   RNPM170_Contig2840_2839\n",
              "3             nohit    eve   RNPM170_Contig2851_2850\n",
              "4             nohit    eve   RNPM170_Contig2855_2854\n",
              "..              ...    ...                       ...\n",
              "75            viral  viral    bN_RNPM170_Contig55_54\n",
              "76            viral  viral  bN_RNPM170_Contig580_579\n",
              "77            viral  viral      bN_RNPM170_Contig7_6\n",
              "78            viral  viral    bN_RNPM170_Contig97_96\n",
              "79            viral  viral      bN_RNPM170_Contig9_8\n",
              "\n",
              "[80 rows x 3 columns]"
            ]
          },
          "execution_count": 332,
          "metadata": {},
          "output_type": "execute_result"
        }
      ],
      "source": [
        "df_report"
      ]
    }
  ],
  "metadata": {
    "colab": {
      "collapsed_sections": [
        "mQIuGxwf1n72",
        "JPtQN59Z2x2K",
        "r1EwsaGz3CHJ",
        "_XDJOT1Asww4",
        "DbLZH8838eF_",
        "G4eRxSdQ9IFC",
        "0PpBVY--881x",
        "nSMgnDVIUdMH",
        "EdoehfhowQ2V",
        "_Zn6ZClr9UOl",
        "6lQ_lXiLo9Tl",
        "8BI64VeOyv9n",
        "_CLFQ5cyu13l"
      ],
      "provenance": []
    },
    "kernelspec": {
      "display_name": "Python 3 (ipykernel)",
      "language": "python",
      "name": "python3"
    },
    "language_info": {
      "codemirror_mode": {
        "name": "ipython",
        "version": 3
      },
      "file_extension": ".py",
      "mimetype": "text/x-python",
      "name": "python",
      "nbconvert_exporter": "python",
      "pygments_lexer": "ipython3",
      "version": "3.10.6"
    }
  },
  "nbformat": 4,
  "nbformat_minor": 0
}
