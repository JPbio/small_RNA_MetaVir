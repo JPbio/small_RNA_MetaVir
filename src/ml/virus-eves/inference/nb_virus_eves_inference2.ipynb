{
  "cells": [
    {
      "attachments": {},
      "cell_type": "markdown",
      "metadata": {},
      "source": [
        "### Virus × EVE's classification\n",
        "\n",
        "___Inference___\n",
        "\n"
      ]
    },
    {
      "attachments": {},
      "cell_type": "markdown",
      "metadata": {},
      "source": [
        "### Initialization"
      ]
    },
    {
      "attachments": {},
      "cell_type": "markdown",
      "metadata": {
        "id": "EP525DrREX0N"
      },
      "source": [
        "Imports"
      ]
    },
    {
      "cell_type": "code",
      "execution_count": 1,
      "metadata": {
        "id": "-8hKq-6V67UA"
      },
      "outputs": [],
      "source": [
        "import pandas as pd"
      ]
    },
    {
      "attachments": {},
      "cell_type": "markdown",
      "metadata": {},
      "source": [
        "Parameters"
      ]
    },
    {
      "cell_type": "code",
      "execution_count": 2,
      "metadata": {},
      "outputs": [],
      "source": [
        "col_class_eve = 'class'\n",
        "col_class_dark = 'Similarity_label'\n",
        "col_id_dark = 'Contigs_ID'\n",
        "x_range_dark = list(range(2, 51))"
      ]
    },
    {
      "cell_type": "code",
      "execution_count": 3,
      "metadata": {},
      "outputs": [],
      "source": [
        "x_range_eve = list(range(4, 52))\n",
        "\n",
        "\n",
        "''' \n",
        "    TODO: 2023-06-17 - Find a better way to to this...\n",
        "''' \n",
        "feat_eves = [\n",
        "    'X15', 'X16', 'X17', 'X18', 'X19', 'X20', 'X21', 'X22', 'X23', 'X24',\n",
        "    'X25', 'X26', 'X27', 'X28', 'X29', 'X30', 'X31', 'X32', 'X33', 'X34',\n",
        "    'X35', 'X.15', 'X.16', 'X.17', 'X.18', 'X.19', 'X.20', 'X.21', 'X.22',\n",
        "    'X.23', 'X.24', 'X.25', 'X.26', 'X.27', 'X.28', 'X.29', 'X.30', 'X.31',\n",
        "    'X.32', 'X.33', 'X.34', 'X.35', 'dens15to18', 'dens20to22',\n",
        "    'dens25to29', 'ratiosi_pi', 'ratio_si', 'dens18to35'\n",
        "]"
      ]
    },
    {
      "cell_type": "code",
      "execution_count": 4,
      "metadata": {},
      "outputs": [],
      "source": [
        "# path_root = '/home/small_rna_metavir/src'\n",
        "path_root = './'\n",
        "path_runs = f'{path_root}/runs'"
      ]
    },
    {
      "cell_type": "code",
      "execution_count": 5,
      "metadata": {},
      "outputs": [],
      "source": [
        "path_ds_libs = [\n",
        "    \n",
        "    # dicer 2\n",
        "    ('RNPM68_01', f'{path_runs}/dicer2/exec_RNPM68_01/Zscore_and_features_matrix.tab'),\n",
        "    ('RNPM164_01', f'{path_runs}/dicer2/exec_RNPM164_01/Zscore_and_features_matrix.tab'),\n",
        "    ('RNPM221_01', f'{path_runs}/dicer2/exec_RNPM221_01/Zscore_and_features_matrix.tab'),\n",
        "    ('RKPM44_06', f'{path_runs}/dicer2/exec_test_v2_06/Zscore_and_features_matrix.tab'),\n",
        "    ('ZIKV_01', f'{path_runs}/dicer2/exec_ZIKV_01/Zscore_and_features_matrix.tab'),\n",
        "    \n",
        "    # r2d2\n",
        "    ('RNPM2_02', f'{path_runs}/r2d2/RNPM2_02/Zscore_and_features_matrix.tab'),\n",
        "    ('RNPM110_02', f'{path_runs}/r2d2/RNPM110_02/Zscore_and_features_matrix.tab'),\n",
        "    ('RNPM169_01', f'{path_runs}/r2d2/RNPM169_01/Zscore_and_features_matrix.tab'),\n",
        "    ('RNPM170_01', f'{path_runs}/r2d2/RNPM170_01/Zscore_and_features_matrix.tab'),\n",
        "]"
      ]
    },
    {
      "attachments": {},
      "cell_type": "markdown",
      "metadata": {},
      "source": [
        "## Classify Dark Matter DB sequences"
      ]
    },
    {
      "cell_type": "code",
      "execution_count": 16,
      "metadata": {},
      "outputs": [],
      "source": [
        "from inference import get_classification_report"
      ]
    },
    {
      "cell_type": "code",
      "execution_count": 17,
      "metadata": {},
      "outputs": [
        {
          "name": "stdout",
          "output_type": "stream",
          "text": [
            "Parsing lib \"RNPM170_01\" (.//runs/r2d2/RNPM170_01/Zscore_and_features_matrix.tab)\n"
          ]
        }
      ],
      "source": [
        "lib_id, lib_path = path_ds_libs[8]\n",
        "df_dark = pd.read_table(lib_path)\n",
        "\n",
        "print(f'Parsing lib \"{lib_id}\" ({lib_path})')"
      ]
    },
    {
      "cell_type": "code",
      "execution_count": 18,
      "metadata": {},
      "outputs": [
        {
          "data": {
            "text/plain": [
              "'.//model_classifier_rf.pkl'"
            ]
          },
          "execution_count": 18,
          "metadata": {},
          "output_type": "execute_result"
        }
      ],
      "source": [
        "model_name = 'model_classifier_rf'\n",
        "path_classifier = f'{path_root}/{model_name}.pkl'\n",
        "path_classifier\n"
      ]
    },
    {
      "cell_type": "code",
      "execution_count": 19,
      "metadata": {},
      "outputs": [],
      "source": [
        "df_report = get_classification_report(\n",
        "# df_report, y_hat = get_classification_report(\n",
        "# df_report, y_hat, df_dark2_cp = get_classification_report(\n",
        "    # lib_path=lib_path, df_dark=df_dark, classifier=classifier,\n",
        "    df_dark=df_dark,\n",
        "    path_lib=lib_path, path_classifier=path_classifier,\n",
        "    feat_eves=feat_eves, x_range_dark=x_range_dark,\n",
        "    col_class_dark=col_class_dark, col_class_eve=col_class_eve, col_id_dark=col_id_dark,\n",
        ")"
      ]
    },
    {
      "cell_type": "code",
      "execution_count": 20,
      "metadata": {},
      "outputs": [
        {
          "name": "stdout",
          "output_type": "stream",
          "text": [
            "-- RNPM170_01 Classification Summary --\n"
          ]
        },
        {
          "data": {
            "text/plain": [
              "Similarity_label  class\n",
              "nohit             eve      14\n",
              "nonviral          eve      24\n",
              "viral             viral    40\n",
              "                  eve       2\n",
              "Name: class, dtype: int64"
            ]
          },
          "execution_count": 20,
          "metadata": {},
          "output_type": "execute_result"
        }
      ],
      "source": [
        "print(f'-- {lib_id} Classification Summary --')\n",
        "df_report.groupby(col_class_dark)[col_class_eve].value_counts()"
      ]
    },
    {
      "cell_type": "code",
      "execution_count": 21,
      "metadata": {},
      "outputs": [
        {
          "data": {
            "text/html": [
              "<div>\n",
              "<style scoped>\n",
              "    .dataframe tbody tr th:only-of-type {\n",
              "        vertical-align: middle;\n",
              "    }\n",
              "\n",
              "    .dataframe tbody tr th {\n",
              "        vertical-align: top;\n",
              "    }\n",
              "\n",
              "    .dataframe thead th {\n",
              "        text-align: right;\n",
              "    }\n",
              "</style>\n",
              "<table border=\"1\" class=\"dataframe\">\n",
              "  <thead>\n",
              "    <tr style=\"text-align: right;\">\n",
              "      <th></th>\n",
              "      <th>Similarity_label</th>\n",
              "      <th>class</th>\n",
              "      <th>Contigs_ID</th>\n",
              "    </tr>\n",
              "  </thead>\n",
              "  <tbody>\n",
              "    <tr>\n",
              "      <th>0</th>\n",
              "      <td>nohit</td>\n",
              "      <td>eve</td>\n",
              "      <td>RNPM170_Contig1015_1014</td>\n",
              "    </tr>\n",
              "    <tr>\n",
              "      <th>1</th>\n",
              "      <td>nohit</td>\n",
              "      <td>eve</td>\n",
              "      <td>RNPM170_Contig2835_2834</td>\n",
              "    </tr>\n",
              "    <tr>\n",
              "      <th>2</th>\n",
              "      <td>nohit</td>\n",
              "      <td>eve</td>\n",
              "      <td>RNPM170_Contig2840_2839</td>\n",
              "    </tr>\n",
              "    <tr>\n",
              "      <th>3</th>\n",
              "      <td>nohit</td>\n",
              "      <td>eve</td>\n",
              "      <td>RNPM170_Contig2851_2850</td>\n",
              "    </tr>\n",
              "    <tr>\n",
              "      <th>4</th>\n",
              "      <td>nohit</td>\n",
              "      <td>eve</td>\n",
              "      <td>RNPM170_Contig2855_2854</td>\n",
              "    </tr>\n",
              "  </tbody>\n",
              "</table>\n",
              "</div>"
            ],
            "text/plain": [
              "  Similarity_label class               Contigs_ID\n",
              "0            nohit   eve  RNPM170_Contig1015_1014\n",
              "1            nohit   eve  RNPM170_Contig2835_2834\n",
              "2            nohit   eve  RNPM170_Contig2840_2839\n",
              "3            nohit   eve  RNPM170_Contig2851_2850\n",
              "4            nohit   eve  RNPM170_Contig2855_2854"
            ]
          },
          "execution_count": 21,
          "metadata": {},
          "output_type": "execute_result"
        }
      ],
      "source": [
        "df_report.head()"
      ]
    }
  ],
  "metadata": {
    "colab": {
      "collapsed_sections": [
        "mQIuGxwf1n72",
        "JPtQN59Z2x2K",
        "r1EwsaGz3CHJ",
        "_XDJOT1Asww4",
        "DbLZH8838eF_",
        "G4eRxSdQ9IFC",
        "0PpBVY--881x",
        "nSMgnDVIUdMH",
        "EdoehfhowQ2V",
        "_Zn6ZClr9UOl",
        "6lQ_lXiLo9Tl",
        "8BI64VeOyv9n",
        "_CLFQ5cyu13l"
      ],
      "provenance": []
    },
    "kernelspec": {
      "display_name": "Python 3 (ipykernel)",
      "language": "python",
      "name": "python3"
    },
    "language_info": {
      "codemirror_mode": {
        "name": "ipython",
        "version": 3
      },
      "file_extension": ".py",
      "mimetype": "text/x-python",
      "name": "python",
      "nbconvert_exporter": "python",
      "pygments_lexer": "ipython3",
      "version": "3.10.6"
    }
  },
  "nbformat": 4,
  "nbformat_minor": 0
}
